{
  "cells": [
    {
      "cell_type": "code",
      "source": [
        "!pip install unrar\n",
        "!unrar x \"/content/EchoVision Data\"\n"
      ],
      "metadata": {
        "id": "iP0rRT-g949_"
      },
      "execution_count": null,
      "outputs": []
    },
    {
      "cell_type": "markdown",
      "source": [
        "# **Import Modules**"
      ],
      "metadata": {
        "id": "5EnnC7aqeEx_"
      }
    },
    {
      "cell_type": "code",
      "execution_count": null,
      "metadata": {
        "id": "wq4YDDlZ8izf"
      },
      "outputs": [],
      "source": [
        "import pandas as pd\n",
        "import numpy as np\n",
        "import cv2\n",
        "import os\n",
        "import seaborn as sns\n",
        "import tensorflow as tf\n",
        "from google.colab.patches import cv2_imshow\n",
        "from tensorflow.keras import layers\n",
        "from tensorflow import keras\n",
        "from sklearn.model_selection import train_test_split\n",
        "from tensorflow.keras.layers import Input, Conv2D, BatchNormalization, Activation, MaxPooling2D, Conv2DTranspose, concatenate, Dropout\n",
        "from tensorflow.keras.models import Model\n",
        "from tensorflow.keras.callbacks import ReduceLROnPlateau\n",
        "import matplotlib.pyplot as plt\n",
        "from tensorflow.keras import backend as K\n",
        "from tensorflow.keras.models import Model, load_model, save_model\n",
        "from tensorflow.keras.optimizers import RMSprop\n",
        "from tensorflow.keras.optimizers import Adam, Adamax\n",
        "from tensorflow.keras.callbacks import EarlyStopping, ModelCheckpoint\n",
        "from tensorflow.keras.layers import Input, Activation, BatchNormalization, Dropout, Lambda, Conv2D, Conv2DTranspose, MaxPooling2D, concatenate"
      ]
    },
    {
      "cell_type": "markdown",
      "source": [
        "# **DATA**"
      ],
      "metadata": {
        "id": "pCG_ntFzeYjS"
      }
    },
    {
      "cell_type": "code",
      "source": [
        "df=pd.read_csv(\"/content/EchoVision Data/FileList.csv\")\n",
        "df.head()"
      ],
      "metadata": {
        "colab": {
          "base_uri": "https://localhost:8080/",
          "height": 206
        },
        "id": "jpOD85SPeX69",
        "outputId": "082b947d-0e3c-442e-b75e-6f5fdd5b4c19"
      },
      "execution_count": null,
      "outputs": [
        {
          "output_type": "execute_result",
          "data": {
            "text/plain": [
              "             FileName         EF         ESV         EDV  FrameHeight  \\\n",
              "0  0X100009310A3BD7FC  78.498406   14.881368   69.210534          112   \n",
              "1  0X1002E8FBACD08477  59.101988   40.383876   98.742884          112   \n",
              "2  0X1005D03EED19C65B  62.363798   14.267784   37.909734          112   \n",
              "3  0X10075961BC11C88E  54.545097   33.143084   72.914210          112   \n",
              "4  0X10094BA0A028EAC3  24.887742  127.581945  169.855024          112   \n",
              "\n",
              "   FrameWidth  FPS  NumberOfFrames  Split  \n",
              "0         112   50             174    VAL  \n",
              "1         112   50             215  TRAIN  \n",
              "2         112   50             104  TRAIN  \n",
              "3         112   55             122  TRAIN  \n",
              "4         112   52             207    VAL  "
            ],
            "text/html": [
              "\n",
              "  <div id=\"df-89316257-f824-408b-847b-61c9a4120f2f\" class=\"colab-df-container\">\n",
              "    <div>\n",
              "<style scoped>\n",
              "    .dataframe tbody tr th:only-of-type {\n",
              "        vertical-align: middle;\n",
              "    }\n",
              "\n",
              "    .dataframe tbody tr th {\n",
              "        vertical-align: top;\n",
              "    }\n",
              "\n",
              "    .dataframe thead th {\n",
              "        text-align: right;\n",
              "    }\n",
              "</style>\n",
              "<table border=\"1\" class=\"dataframe\">\n",
              "  <thead>\n",
              "    <tr style=\"text-align: right;\">\n",
              "      <th></th>\n",
              "      <th>FileName</th>\n",
              "      <th>EF</th>\n",
              "      <th>ESV</th>\n",
              "      <th>EDV</th>\n",
              "      <th>FrameHeight</th>\n",
              "      <th>FrameWidth</th>\n",
              "      <th>FPS</th>\n",
              "      <th>NumberOfFrames</th>\n",
              "      <th>Split</th>\n",
              "    </tr>\n",
              "  </thead>\n",
              "  <tbody>\n",
              "    <tr>\n",
              "      <th>0</th>\n",
              "      <td>0X100009310A3BD7FC</td>\n",
              "      <td>78.498406</td>\n",
              "      <td>14.881368</td>\n",
              "      <td>69.210534</td>\n",
              "      <td>112</td>\n",
              "      <td>112</td>\n",
              "      <td>50</td>\n",
              "      <td>174</td>\n",
              "      <td>VAL</td>\n",
              "    </tr>\n",
              "    <tr>\n",
              "      <th>1</th>\n",
              "      <td>0X1002E8FBACD08477</td>\n",
              "      <td>59.101988</td>\n",
              "      <td>40.383876</td>\n",
              "      <td>98.742884</td>\n",
              "      <td>112</td>\n",
              "      <td>112</td>\n",
              "      <td>50</td>\n",
              "      <td>215</td>\n",
              "      <td>TRAIN</td>\n",
              "    </tr>\n",
              "    <tr>\n",
              "      <th>2</th>\n",
              "      <td>0X1005D03EED19C65B</td>\n",
              "      <td>62.363798</td>\n",
              "      <td>14.267784</td>\n",
              "      <td>37.909734</td>\n",
              "      <td>112</td>\n",
              "      <td>112</td>\n",
              "      <td>50</td>\n",
              "      <td>104</td>\n",
              "      <td>TRAIN</td>\n",
              "    </tr>\n",
              "    <tr>\n",
              "      <th>3</th>\n",
              "      <td>0X10075961BC11C88E</td>\n",
              "      <td>54.545097</td>\n",
              "      <td>33.143084</td>\n",
              "      <td>72.914210</td>\n",
              "      <td>112</td>\n",
              "      <td>112</td>\n",
              "      <td>55</td>\n",
              "      <td>122</td>\n",
              "      <td>TRAIN</td>\n",
              "    </tr>\n",
              "    <tr>\n",
              "      <th>4</th>\n",
              "      <td>0X10094BA0A028EAC3</td>\n",
              "      <td>24.887742</td>\n",
              "      <td>127.581945</td>\n",
              "      <td>169.855024</td>\n",
              "      <td>112</td>\n",
              "      <td>112</td>\n",
              "      <td>52</td>\n",
              "      <td>207</td>\n",
              "      <td>VAL</td>\n",
              "    </tr>\n",
              "  </tbody>\n",
              "</table>\n",
              "</div>\n",
              "    <div class=\"colab-df-buttons\">\n",
              "\n",
              "  <div class=\"colab-df-container\">\n",
              "    <button class=\"colab-df-convert\" onclick=\"convertToInteractive('df-89316257-f824-408b-847b-61c9a4120f2f')\"\n",
              "            title=\"Convert this dataframe to an interactive table.\"\n",
              "            style=\"display:none;\">\n",
              "\n",
              "  <svg xmlns=\"http://www.w3.org/2000/svg\" height=\"24px\" viewBox=\"0 -960 960 960\">\n",
              "    <path d=\"M120-120v-720h720v720H120Zm60-500h600v-160H180v160Zm220 220h160v-160H400v160Zm0 220h160v-160H400v160ZM180-400h160v-160H180v160Zm440 0h160v-160H620v160ZM180-180h160v-160H180v160Zm440 0h160v-160H620v160Z\"/>\n",
              "  </svg>\n",
              "    </button>\n",
              "\n",
              "  <style>\n",
              "    .colab-df-container {\n",
              "      display:flex;\n",
              "      gap: 12px;\n",
              "    }\n",
              "\n",
              "    .colab-df-convert {\n",
              "      background-color: #E8F0FE;\n",
              "      border: none;\n",
              "      border-radius: 50%;\n",
              "      cursor: pointer;\n",
              "      display: none;\n",
              "      fill: #1967D2;\n",
              "      height: 32px;\n",
              "      padding: 0 0 0 0;\n",
              "      width: 32px;\n",
              "    }\n",
              "\n",
              "    .colab-df-convert:hover {\n",
              "      background-color: #E2EBFA;\n",
              "      box-shadow: 0px 1px 2px rgba(60, 64, 67, 0.3), 0px 1px 3px 1px rgba(60, 64, 67, 0.15);\n",
              "      fill: #174EA6;\n",
              "    }\n",
              "\n",
              "    .colab-df-buttons div {\n",
              "      margin-bottom: 4px;\n",
              "    }\n",
              "\n",
              "    [theme=dark] .colab-df-convert {\n",
              "      background-color: #3B4455;\n",
              "      fill: #D2E3FC;\n",
              "    }\n",
              "\n",
              "    [theme=dark] .colab-df-convert:hover {\n",
              "      background-color: #434B5C;\n",
              "      box-shadow: 0px 1px 3px 1px rgba(0, 0, 0, 0.15);\n",
              "      filter: drop-shadow(0px 1px 2px rgba(0, 0, 0, 0.3));\n",
              "      fill: #FFFFFF;\n",
              "    }\n",
              "  </style>\n",
              "\n",
              "    <script>\n",
              "      const buttonEl =\n",
              "        document.querySelector('#df-89316257-f824-408b-847b-61c9a4120f2f button.colab-df-convert');\n",
              "      buttonEl.style.display =\n",
              "        google.colab.kernel.accessAllowed ? 'block' : 'none';\n",
              "\n",
              "      async function convertToInteractive(key) {\n",
              "        const element = document.querySelector('#df-89316257-f824-408b-847b-61c9a4120f2f');\n",
              "        const dataTable =\n",
              "          await google.colab.kernel.invokeFunction('convertToInteractive',\n",
              "                                                    [key], {});\n",
              "        if (!dataTable) return;\n",
              "\n",
              "        const docLinkHtml = 'Like what you see? Visit the ' +\n",
              "          '<a target=\"_blank\" href=https://colab.research.google.com/notebooks/data_table.ipynb>data table notebook</a>'\n",
              "          + ' to learn more about interactive tables.';\n",
              "        element.innerHTML = '';\n",
              "        dataTable['output_type'] = 'display_data';\n",
              "        await google.colab.output.renderOutput(dataTable, element);\n",
              "        const docLink = document.createElement('div');\n",
              "        docLink.innerHTML = docLinkHtml;\n",
              "        element.appendChild(docLink);\n",
              "      }\n",
              "    </script>\n",
              "  </div>\n",
              "\n",
              "\n",
              "<div id=\"df-2e1a67ba-59f6-4683-ac35-3a45b7ede1c9\">\n",
              "  <button class=\"colab-df-quickchart\" onclick=\"quickchart('df-2e1a67ba-59f6-4683-ac35-3a45b7ede1c9')\"\n",
              "            title=\"Suggest charts\"\n",
              "            style=\"display:none;\">\n",
              "\n",
              "<svg xmlns=\"http://www.w3.org/2000/svg\" height=\"24px\"viewBox=\"0 0 24 24\"\n",
              "     width=\"24px\">\n",
              "    <g>\n",
              "        <path d=\"M19 3H5c-1.1 0-2 .9-2 2v14c0 1.1.9 2 2 2h14c1.1 0 2-.9 2-2V5c0-1.1-.9-2-2-2zM9 17H7v-7h2v7zm4 0h-2V7h2v10zm4 0h-2v-4h2v4z\"/>\n",
              "    </g>\n",
              "</svg>\n",
              "  </button>\n",
              "\n",
              "<style>\n",
              "  .colab-df-quickchart {\n",
              "      --bg-color: #E8F0FE;\n",
              "      --fill-color: #1967D2;\n",
              "      --hover-bg-color: #E2EBFA;\n",
              "      --hover-fill-color: #174EA6;\n",
              "      --disabled-fill-color: #AAA;\n",
              "      --disabled-bg-color: #DDD;\n",
              "  }\n",
              "\n",
              "  [theme=dark] .colab-df-quickchart {\n",
              "      --bg-color: #3B4455;\n",
              "      --fill-color: #D2E3FC;\n",
              "      --hover-bg-color: #434B5C;\n",
              "      --hover-fill-color: #FFFFFF;\n",
              "      --disabled-bg-color: #3B4455;\n",
              "      --disabled-fill-color: #666;\n",
              "  }\n",
              "\n",
              "  .colab-df-quickchart {\n",
              "    background-color: var(--bg-color);\n",
              "    border: none;\n",
              "    border-radius: 50%;\n",
              "    cursor: pointer;\n",
              "    display: none;\n",
              "    fill: var(--fill-color);\n",
              "    height: 32px;\n",
              "    padding: 0;\n",
              "    width: 32px;\n",
              "  }\n",
              "\n",
              "  .colab-df-quickchart:hover {\n",
              "    background-color: var(--hover-bg-color);\n",
              "    box-shadow: 0 1px 2px rgba(60, 64, 67, 0.3), 0 1px 3px 1px rgba(60, 64, 67, 0.15);\n",
              "    fill: var(--button-hover-fill-color);\n",
              "  }\n",
              "\n",
              "  .colab-df-quickchart-complete:disabled,\n",
              "  .colab-df-quickchart-complete:disabled:hover {\n",
              "    background-color: var(--disabled-bg-color);\n",
              "    fill: var(--disabled-fill-color);\n",
              "    box-shadow: none;\n",
              "  }\n",
              "\n",
              "  .colab-df-spinner {\n",
              "    border: 2px solid var(--fill-color);\n",
              "    border-color: transparent;\n",
              "    border-bottom-color: var(--fill-color);\n",
              "    animation:\n",
              "      spin 1s steps(1) infinite;\n",
              "  }\n",
              "\n",
              "  @keyframes spin {\n",
              "    0% {\n",
              "      border-color: transparent;\n",
              "      border-bottom-color: var(--fill-color);\n",
              "      border-left-color: var(--fill-color);\n",
              "    }\n",
              "    20% {\n",
              "      border-color: transparent;\n",
              "      border-left-color: var(--fill-color);\n",
              "      border-top-color: var(--fill-color);\n",
              "    }\n",
              "    30% {\n",
              "      border-color: transparent;\n",
              "      border-left-color: var(--fill-color);\n",
              "      border-top-color: var(--fill-color);\n",
              "      border-right-color: var(--fill-color);\n",
              "    }\n",
              "    40% {\n",
              "      border-color: transparent;\n",
              "      border-right-color: var(--fill-color);\n",
              "      border-top-color: var(--fill-color);\n",
              "    }\n",
              "    60% {\n",
              "      border-color: transparent;\n",
              "      border-right-color: var(--fill-color);\n",
              "    }\n",
              "    80% {\n",
              "      border-color: transparent;\n",
              "      border-right-color: var(--fill-color);\n",
              "      border-bottom-color: var(--fill-color);\n",
              "    }\n",
              "    90% {\n",
              "      border-color: transparent;\n",
              "      border-bottom-color: var(--fill-color);\n",
              "    }\n",
              "  }\n",
              "</style>\n",
              "\n",
              "  <script>\n",
              "    async function quickchart(key) {\n",
              "      const quickchartButtonEl =\n",
              "        document.querySelector('#' + key + ' button');\n",
              "      quickchartButtonEl.disabled = true;  // To prevent multiple clicks.\n",
              "      quickchartButtonEl.classList.add('colab-df-spinner');\n",
              "      try {\n",
              "        const charts = await google.colab.kernel.invokeFunction(\n",
              "            'suggestCharts', [key], {});\n",
              "      } catch (error) {\n",
              "        console.error('Error during call to suggestCharts:', error);\n",
              "      }\n",
              "      quickchartButtonEl.classList.remove('colab-df-spinner');\n",
              "      quickchartButtonEl.classList.add('colab-df-quickchart-complete');\n",
              "    }\n",
              "    (() => {\n",
              "      let quickchartButtonEl =\n",
              "        document.querySelector('#df-2e1a67ba-59f6-4683-ac35-3a45b7ede1c9 button');\n",
              "      quickchartButtonEl.style.display =\n",
              "        google.colab.kernel.accessAllowed ? 'block' : 'none';\n",
              "    })();\n",
              "  </script>\n",
              "</div>\n",
              "\n",
              "    </div>\n",
              "  </div>\n"
            ]
          },
          "metadata": {},
          "execution_count": 312
        }
      ]
    },
    {
      "cell_type": "code",
      "source": [
        "df.shape"
      ],
      "metadata": {
        "colab": {
          "base_uri": "https://localhost:8080/"
        },
        "id": "F2T0U9RHeoOu",
        "outputId": "f8bb05fe-7fbf-4252-f015-32ad4114f6c1"
      },
      "execution_count": null,
      "outputs": [
        {
          "output_type": "execute_result",
          "data": {
            "text/plain": [
              "(10030, 9)"
            ]
          },
          "metadata": {},
          "execution_count": 313
        }
      ]
    },
    {
      "cell_type": "code",
      "source": [
        "df.columns"
      ],
      "metadata": {
        "colab": {
          "base_uri": "https://localhost:8080/"
        },
        "id": "EDtslcrsevVp",
        "outputId": "1d96388b-5f20-4ecb-b162-cb06937f0564"
      },
      "execution_count": null,
      "outputs": [
        {
          "output_type": "execute_result",
          "data": {
            "text/plain": [
              "Index(['FileName', 'EF', 'ESV', 'EDV', 'FrameHeight', 'FrameWidth', 'FPS',\n",
              "       'NumberOfFrames', 'Split'],\n",
              "      dtype='object')"
            ]
          },
          "metadata": {},
          "execution_count": 314
        }
      ]
    },
    {
      "cell_type": "code",
      "source": [
        "df.describe()"
      ],
      "metadata": {
        "colab": {
          "base_uri": "https://localhost:8080/",
          "height": 300
        },
        "id": "0V8I47kVeq5Y",
        "outputId": "1da3beae-832d-4519-da99-a1ce67b2e6cb"
      },
      "execution_count": null,
      "outputs": [
        {
          "output_type": "execute_result",
          "data": {
            "text/plain": [
              "                 EF           ESV           EDV   FrameHeight    FrameWidth  \\\n",
              "count  10030.000000  10030.000000  10030.000000  10030.000000  10030.000000   \n",
              "mean      55.748248     43.427433     91.324572    112.392423    112.547159   \n",
              "std       12.371483     35.828098     45.663554     16.040604     22.366033   \n",
              "min        6.907258      4.350710     12.618671    112.000000    112.000000   \n",
              "25%       51.601387     23.686339     62.166669    112.000000    112.000000   \n",
              "50%       59.209109     33.596750     82.084190    112.000000    112.000000   \n",
              "75%       63.958740     49.107316    108.288686    112.000000    112.000000   \n",
              "max       96.967237    612.489815    695.036025    768.000000   1040.000000   \n",
              "\n",
              "                FPS  NumberOfFrames  \n",
              "count  10030.000000    10030.000000  \n",
              "mean      51.077767      176.533998  \n",
              "std        6.238707       57.879145  \n",
              "min       18.000000       28.000000  \n",
              "25%       50.000000      144.000000  \n",
              "50%       50.000000      171.000000  \n",
              "75%       50.000000      201.000000  \n",
              "max      138.000000     1002.000000  "
            ],
            "text/html": [
              "\n",
              "  <div id=\"df-c01a76af-62f4-40d5-9fb9-9393f8808d38\" class=\"colab-df-container\">\n",
              "    <div>\n",
              "<style scoped>\n",
              "    .dataframe tbody tr th:only-of-type {\n",
              "        vertical-align: middle;\n",
              "    }\n",
              "\n",
              "    .dataframe tbody tr th {\n",
              "        vertical-align: top;\n",
              "    }\n",
              "\n",
              "    .dataframe thead th {\n",
              "        text-align: right;\n",
              "    }\n",
              "</style>\n",
              "<table border=\"1\" class=\"dataframe\">\n",
              "  <thead>\n",
              "    <tr style=\"text-align: right;\">\n",
              "      <th></th>\n",
              "      <th>EF</th>\n",
              "      <th>ESV</th>\n",
              "      <th>EDV</th>\n",
              "      <th>FrameHeight</th>\n",
              "      <th>FrameWidth</th>\n",
              "      <th>FPS</th>\n",
              "      <th>NumberOfFrames</th>\n",
              "    </tr>\n",
              "  </thead>\n",
              "  <tbody>\n",
              "    <tr>\n",
              "      <th>count</th>\n",
              "      <td>10030.000000</td>\n",
              "      <td>10030.000000</td>\n",
              "      <td>10030.000000</td>\n",
              "      <td>10030.000000</td>\n",
              "      <td>10030.000000</td>\n",
              "      <td>10030.000000</td>\n",
              "      <td>10030.000000</td>\n",
              "    </tr>\n",
              "    <tr>\n",
              "      <th>mean</th>\n",
              "      <td>55.748248</td>\n",
              "      <td>43.427433</td>\n",
              "      <td>91.324572</td>\n",
              "      <td>112.392423</td>\n",
              "      <td>112.547159</td>\n",
              "      <td>51.077767</td>\n",
              "      <td>176.533998</td>\n",
              "    </tr>\n",
              "    <tr>\n",
              "      <th>std</th>\n",
              "      <td>12.371483</td>\n",
              "      <td>35.828098</td>\n",
              "      <td>45.663554</td>\n",
              "      <td>16.040604</td>\n",
              "      <td>22.366033</td>\n",
              "      <td>6.238707</td>\n",
              "      <td>57.879145</td>\n",
              "    </tr>\n",
              "    <tr>\n",
              "      <th>min</th>\n",
              "      <td>6.907258</td>\n",
              "      <td>4.350710</td>\n",
              "      <td>12.618671</td>\n",
              "      <td>112.000000</td>\n",
              "      <td>112.000000</td>\n",
              "      <td>18.000000</td>\n",
              "      <td>28.000000</td>\n",
              "    </tr>\n",
              "    <tr>\n",
              "      <th>25%</th>\n",
              "      <td>51.601387</td>\n",
              "      <td>23.686339</td>\n",
              "      <td>62.166669</td>\n",
              "      <td>112.000000</td>\n",
              "      <td>112.000000</td>\n",
              "      <td>50.000000</td>\n",
              "      <td>144.000000</td>\n",
              "    </tr>\n",
              "    <tr>\n",
              "      <th>50%</th>\n",
              "      <td>59.209109</td>\n",
              "      <td>33.596750</td>\n",
              "      <td>82.084190</td>\n",
              "      <td>112.000000</td>\n",
              "      <td>112.000000</td>\n",
              "      <td>50.000000</td>\n",
              "      <td>171.000000</td>\n",
              "    </tr>\n",
              "    <tr>\n",
              "      <th>75%</th>\n",
              "      <td>63.958740</td>\n",
              "      <td>49.107316</td>\n",
              "      <td>108.288686</td>\n",
              "      <td>112.000000</td>\n",
              "      <td>112.000000</td>\n",
              "      <td>50.000000</td>\n",
              "      <td>201.000000</td>\n",
              "    </tr>\n",
              "    <tr>\n",
              "      <th>max</th>\n",
              "      <td>96.967237</td>\n",
              "      <td>612.489815</td>\n",
              "      <td>695.036025</td>\n",
              "      <td>768.000000</td>\n",
              "      <td>1040.000000</td>\n",
              "      <td>138.000000</td>\n",
              "      <td>1002.000000</td>\n",
              "    </tr>\n",
              "  </tbody>\n",
              "</table>\n",
              "</div>\n",
              "    <div class=\"colab-df-buttons\">\n",
              "\n",
              "  <div class=\"colab-df-container\">\n",
              "    <button class=\"colab-df-convert\" onclick=\"convertToInteractive('df-c01a76af-62f4-40d5-9fb9-9393f8808d38')\"\n",
              "            title=\"Convert this dataframe to an interactive table.\"\n",
              "            style=\"display:none;\">\n",
              "\n",
              "  <svg xmlns=\"http://www.w3.org/2000/svg\" height=\"24px\" viewBox=\"0 -960 960 960\">\n",
              "    <path d=\"M120-120v-720h720v720H120Zm60-500h600v-160H180v160Zm220 220h160v-160H400v160Zm0 220h160v-160H400v160ZM180-400h160v-160H180v160Zm440 0h160v-160H620v160ZM180-180h160v-160H180v160Zm440 0h160v-160H620v160Z\"/>\n",
              "  </svg>\n",
              "    </button>\n",
              "\n",
              "  <style>\n",
              "    .colab-df-container {\n",
              "      display:flex;\n",
              "      gap: 12px;\n",
              "    }\n",
              "\n",
              "    .colab-df-convert {\n",
              "      background-color: #E8F0FE;\n",
              "      border: none;\n",
              "      border-radius: 50%;\n",
              "      cursor: pointer;\n",
              "      display: none;\n",
              "      fill: #1967D2;\n",
              "      height: 32px;\n",
              "      padding: 0 0 0 0;\n",
              "      width: 32px;\n",
              "    }\n",
              "\n",
              "    .colab-df-convert:hover {\n",
              "      background-color: #E2EBFA;\n",
              "      box-shadow: 0px 1px 2px rgba(60, 64, 67, 0.3), 0px 1px 3px 1px rgba(60, 64, 67, 0.15);\n",
              "      fill: #174EA6;\n",
              "    }\n",
              "\n",
              "    .colab-df-buttons div {\n",
              "      margin-bottom: 4px;\n",
              "    }\n",
              "\n",
              "    [theme=dark] .colab-df-convert {\n",
              "      background-color: #3B4455;\n",
              "      fill: #D2E3FC;\n",
              "    }\n",
              "\n",
              "    [theme=dark] .colab-df-convert:hover {\n",
              "      background-color: #434B5C;\n",
              "      box-shadow: 0px 1px 3px 1px rgba(0, 0, 0, 0.15);\n",
              "      filter: drop-shadow(0px 1px 2px rgba(0, 0, 0, 0.3));\n",
              "      fill: #FFFFFF;\n",
              "    }\n",
              "  </style>\n",
              "\n",
              "    <script>\n",
              "      const buttonEl =\n",
              "        document.querySelector('#df-c01a76af-62f4-40d5-9fb9-9393f8808d38 button.colab-df-convert');\n",
              "      buttonEl.style.display =\n",
              "        google.colab.kernel.accessAllowed ? 'block' : 'none';\n",
              "\n",
              "      async function convertToInteractive(key) {\n",
              "        const element = document.querySelector('#df-c01a76af-62f4-40d5-9fb9-9393f8808d38');\n",
              "        const dataTable =\n",
              "          await google.colab.kernel.invokeFunction('convertToInteractive',\n",
              "                                                    [key], {});\n",
              "        if (!dataTable) return;\n",
              "\n",
              "        const docLinkHtml = 'Like what you see? Visit the ' +\n",
              "          '<a target=\"_blank\" href=https://colab.research.google.com/notebooks/data_table.ipynb>data table notebook</a>'\n",
              "          + ' to learn more about interactive tables.';\n",
              "        element.innerHTML = '';\n",
              "        dataTable['output_type'] = 'display_data';\n",
              "        await google.colab.output.renderOutput(dataTable, element);\n",
              "        const docLink = document.createElement('div');\n",
              "        docLink.innerHTML = docLinkHtml;\n",
              "        element.appendChild(docLink);\n",
              "      }\n",
              "    </script>\n",
              "  </div>\n",
              "\n",
              "\n",
              "<div id=\"df-6494a3c0-ec97-459f-a74c-09a59a640bdd\">\n",
              "  <button class=\"colab-df-quickchart\" onclick=\"quickchart('df-6494a3c0-ec97-459f-a74c-09a59a640bdd')\"\n",
              "            title=\"Suggest charts\"\n",
              "            style=\"display:none;\">\n",
              "\n",
              "<svg xmlns=\"http://www.w3.org/2000/svg\" height=\"24px\"viewBox=\"0 0 24 24\"\n",
              "     width=\"24px\">\n",
              "    <g>\n",
              "        <path d=\"M19 3H5c-1.1 0-2 .9-2 2v14c0 1.1.9 2 2 2h14c1.1 0 2-.9 2-2V5c0-1.1-.9-2-2-2zM9 17H7v-7h2v7zm4 0h-2V7h2v10zm4 0h-2v-4h2v4z\"/>\n",
              "    </g>\n",
              "</svg>\n",
              "  </button>\n",
              "\n",
              "<style>\n",
              "  .colab-df-quickchart {\n",
              "      --bg-color: #E8F0FE;\n",
              "      --fill-color: #1967D2;\n",
              "      --hover-bg-color: #E2EBFA;\n",
              "      --hover-fill-color: #174EA6;\n",
              "      --disabled-fill-color: #AAA;\n",
              "      --disabled-bg-color: #DDD;\n",
              "  }\n",
              "\n",
              "  [theme=dark] .colab-df-quickchart {\n",
              "      --bg-color: #3B4455;\n",
              "      --fill-color: #D2E3FC;\n",
              "      --hover-bg-color: #434B5C;\n",
              "      --hover-fill-color: #FFFFFF;\n",
              "      --disabled-bg-color: #3B4455;\n",
              "      --disabled-fill-color: #666;\n",
              "  }\n",
              "\n",
              "  .colab-df-quickchart {\n",
              "    background-color: var(--bg-color);\n",
              "    border: none;\n",
              "    border-radius: 50%;\n",
              "    cursor: pointer;\n",
              "    display: none;\n",
              "    fill: var(--fill-color);\n",
              "    height: 32px;\n",
              "    padding: 0;\n",
              "    width: 32px;\n",
              "  }\n",
              "\n",
              "  .colab-df-quickchart:hover {\n",
              "    background-color: var(--hover-bg-color);\n",
              "    box-shadow: 0 1px 2px rgba(60, 64, 67, 0.3), 0 1px 3px 1px rgba(60, 64, 67, 0.15);\n",
              "    fill: var(--button-hover-fill-color);\n",
              "  }\n",
              "\n",
              "  .colab-df-quickchart-complete:disabled,\n",
              "  .colab-df-quickchart-complete:disabled:hover {\n",
              "    background-color: var(--disabled-bg-color);\n",
              "    fill: var(--disabled-fill-color);\n",
              "    box-shadow: none;\n",
              "  }\n",
              "\n",
              "  .colab-df-spinner {\n",
              "    border: 2px solid var(--fill-color);\n",
              "    border-color: transparent;\n",
              "    border-bottom-color: var(--fill-color);\n",
              "    animation:\n",
              "      spin 1s steps(1) infinite;\n",
              "  }\n",
              "\n",
              "  @keyframes spin {\n",
              "    0% {\n",
              "      border-color: transparent;\n",
              "      border-bottom-color: var(--fill-color);\n",
              "      border-left-color: var(--fill-color);\n",
              "    }\n",
              "    20% {\n",
              "      border-color: transparent;\n",
              "      border-left-color: var(--fill-color);\n",
              "      border-top-color: var(--fill-color);\n",
              "    }\n",
              "    30% {\n",
              "      border-color: transparent;\n",
              "      border-left-color: var(--fill-color);\n",
              "      border-top-color: var(--fill-color);\n",
              "      border-right-color: var(--fill-color);\n",
              "    }\n",
              "    40% {\n",
              "      border-color: transparent;\n",
              "      border-right-color: var(--fill-color);\n",
              "      border-top-color: var(--fill-color);\n",
              "    }\n",
              "    60% {\n",
              "      border-color: transparent;\n",
              "      border-right-color: var(--fill-color);\n",
              "    }\n",
              "    80% {\n",
              "      border-color: transparent;\n",
              "      border-right-color: var(--fill-color);\n",
              "      border-bottom-color: var(--fill-color);\n",
              "    }\n",
              "    90% {\n",
              "      border-color: transparent;\n",
              "      border-bottom-color: var(--fill-color);\n",
              "    }\n",
              "  }\n",
              "</style>\n",
              "\n",
              "  <script>\n",
              "    async function quickchart(key) {\n",
              "      const quickchartButtonEl =\n",
              "        document.querySelector('#' + key + ' button');\n",
              "      quickchartButtonEl.disabled = true;  // To prevent multiple clicks.\n",
              "      quickchartButtonEl.classList.add('colab-df-spinner');\n",
              "      try {\n",
              "        const charts = await google.colab.kernel.invokeFunction(\n",
              "            'suggestCharts', [key], {});\n",
              "      } catch (error) {\n",
              "        console.error('Error during call to suggestCharts:', error);\n",
              "      }\n",
              "      quickchartButtonEl.classList.remove('colab-df-spinner');\n",
              "      quickchartButtonEl.classList.add('colab-df-quickchart-complete');\n",
              "    }\n",
              "    (() => {\n",
              "      let quickchartButtonEl =\n",
              "        document.querySelector('#df-6494a3c0-ec97-459f-a74c-09a59a640bdd button');\n",
              "      quickchartButtonEl.style.display =\n",
              "        google.colab.kernel.accessAllowed ? 'block' : 'none';\n",
              "    })();\n",
              "  </script>\n",
              "</div>\n",
              "\n",
              "    </div>\n",
              "  </div>\n"
            ]
          },
          "metadata": {},
          "execution_count": 315
        }
      ]
    },
    {
      "cell_type": "code",
      "source": [
        "df.info()"
      ],
      "metadata": {
        "colab": {
          "base_uri": "https://localhost:8080/"
        },
        "id": "zB2U5EPwetvJ",
        "outputId": "1d454fd9-9f55-4dfb-fb0c-70680eead53a"
      },
      "execution_count": null,
      "outputs": [
        {
          "output_type": "stream",
          "name": "stdout",
          "text": [
            "<class 'pandas.core.frame.DataFrame'>\n",
            "RangeIndex: 10030 entries, 0 to 10029\n",
            "Data columns (total 9 columns):\n",
            " #   Column          Non-Null Count  Dtype  \n",
            "---  ------          --------------  -----  \n",
            " 0   FileName        10030 non-null  object \n",
            " 1   EF              10030 non-null  float64\n",
            " 2   ESV             10030 non-null  float64\n",
            " 3   EDV             10030 non-null  float64\n",
            " 4   FrameHeight     10030 non-null  int64  \n",
            " 5   FrameWidth      10030 non-null  int64  \n",
            " 6   FPS             10030 non-null  int64  \n",
            " 7   NumberOfFrames  10030 non-null  int64  \n",
            " 8   Split           10030 non-null  object \n",
            "dtypes: float64(3), int64(4), object(2)\n",
            "memory usage: 705.4+ KB\n"
          ]
        }
      ]
    },
    {
      "cell_type": "code",
      "source": [
        "plt.figure(figsize=(25, 6))\n",
        "plt.subplot(1, 3, 1)\n",
        "sns.histplot(df['EF'], kde=True)\n",
        "plt.title('Ejection Fraction Distribution')\n",
        "\n",
        "plt.subplot(1, 3, 2)\n",
        "sns.histplot(df['EDV'], kde=True)\n",
        "plt.title('End Diastolic Volume Distribution')\n",
        "\n",
        "plt.subplot(1, 3, 3)\n",
        "sns.histplot(df['ESV'], kde=True)\n",
        "plt.title('End Systolic Volume Distribution')\n",
        "\n",
        "plt.tight_layout()\n",
        "plt.show()"
      ],
      "metadata": {
        "colab": {
          "base_uri": "https://localhost:8080/",
          "height": 281
        },
        "id": "4jNhGp97e4t5",
        "outputId": "ee8195a2-392d-41d2-dd30-f7c171779e36"
      },
      "execution_count": null,
      "outputs": [
        {
          "output_type": "display_data",
          "data": {
            "text/plain": [
              "<Figure size 2500x600 with 3 Axes>"
            ],
            "image/png": "[encoded data removed]"
          },
          "metadata": {}
        }
      ]
    },
    {
      "cell_type": "code",
      "source": [
        "correlation_matrix = df.corr()\n",
        "plt.figure(figsize=(10, 8))\n",
        "sns.heatmap(correlation_matrix, annot=True, cmap='coolwarm', linewidths=.5)\n",
        "plt.title('Correlation Matrix')\n",
        "plt.show()"
      ],
      "metadata": {
        "colab": {
          "base_uri": "https://localhost:8080/",
          "height": 754
        },
        "id": "MifxvWDefGmD",
        "outputId": "8627e2f2-6bf5-403c-86be-6d313790d549"
      },
      "execution_count": null,
      "outputs": [
        {
          "output_type": "stream",
          "name": "stderr",
          "text": [
            "<ipython-input-318-1c9ab57d4197>:1: FutureWarning: The default value of numeric_only in DataFrame.corr is deprecated. In a future version, it will default to False. Select only valid columns or specify the value of numeric_only to silence this warning.\n",
            "  correlation_matrix = df.corr()\n"
          ]
        },
        {
          "output_type": "display_data",
          "data": {
            "text/plain": [
              "<Figure size 1000x800 with 2 Axes>"
            ],
            "image/png": "[encoded data removed]"
          },
          "metadata": {}
        }
      ]
    },
    {
      "cell_type": "code",
      "source": [
        "volume_df=pd.read_csv(\"/content/EchoVision Data/VolumeTracings.csv\")\n",
        "volume_df.head()"
      ],
      "metadata": {
        "colab": {
          "base_uri": "https://localhost:8080/",
          "height": 206
        },
        "id": "pcw-imrBfnO7",
        "outputId": "67899451-1fa8-4224-d306-2cf11bb906c2"
      },
      "execution_count": null,
      "outputs": [
        {
          "output_type": "execute_result",
          "data": {
            "text/plain": [
              "                 FileName         X1         Y1         X2         Y2  Frame\n",
              "0  0X100009310A3BD7FC.avi  51.260417  15.348958  64.932292  69.125000     46\n",
              "1  0X100009310A3BD7FC.avi  50.037611  17.167841  53.367222  16.321330     46\n",
              "2  0X100009310A3BD7FC.avi  49.157378  20.407629  57.090549  18.390722     46\n",
              "3  0X100009310A3BD7FC.avi  48.538173  23.581055  59.997339  20.667707     46\n",
              "4  0X100009310A3BD7FC.avi  47.918968  26.754480  62.904129  22.944693     46"
            ],
            "text/html": [
              "\n",
              "  <div id=\"df-bccea976-7baf-4ac1-b1cf-43cfddba6890\" class=\"colab-df-container\">\n",
              "    <div>\n",
              "<style scoped>\n",
              "    .dataframe tbody tr th:only-of-type {\n",
              "        vertical-align: middle;\n",
              "    }\n",
              "\n",
              "    .dataframe tbody tr th {\n",
              "        vertical-align: top;\n",
              "    }\n",
              "\n",
              "    .dataframe thead th {\n",
              "        text-align: right;\n",
              "    }\n",
              "</style>\n",
              "<table border=\"1\" class=\"dataframe\">\n",
              "  <thead>\n",
              "    <tr style=\"text-align: right;\">\n",
              "      <th></th>\n",
              "      <th>FileName</th>\n",
              "      <th>X1</th>\n",
              "      <th>Y1</th>\n",
              "      <th>X2</th>\n",
              "      <th>Y2</th>\n",
              "      <th>Frame</th>\n",
              "    </tr>\n",
              "  </thead>\n",
              "  <tbody>\n",
              "    <tr>\n",
              "      <th>0</th>\n",
              "      <td>0X100009310A3BD7FC.avi</td>\n",
              "      <td>51.260417</td>\n",
              "      <td>15.348958</td>\n",
              "      <td>64.932292</td>\n",
              "      <td>69.125000</td>\n",
              "      <td>46</td>\n",
              "    </tr>\n",
              "    <tr>\n",
              "      <th>1</th>\n",
              "      <td>0X100009310A3BD7FC.avi</td>\n",
              "      <td>50.037611</td>\n",
              "      <td>17.167841</td>\n",
              "      <td>53.367222</td>\n",
              "      <td>16.321330</td>\n",
              "      <td>46</td>\n",
              "    </tr>\n",
              "    <tr>\n",
              "      <th>2</th>\n",
              "      <td>0X100009310A3BD7FC.avi</td>\n",
              "      <td>49.157378</td>\n",
              "      <td>20.407629</td>\n",
              "      <td>57.090549</td>\n",
              "      <td>18.390722</td>\n",
              "      <td>46</td>\n",
              "    </tr>\n",
              "    <tr>\n",
              "      <th>3</th>\n",
              "      <td>0X100009310A3BD7FC.avi</td>\n",
              "      <td>48.538173</td>\n",
              "      <td>23.581055</td>\n",
              "      <td>59.997339</td>\n",
              "      <td>20.667707</td>\n",
              "      <td>46</td>\n",
              "    </tr>\n",
              "    <tr>\n",
              "      <th>4</th>\n",
              "      <td>0X100009310A3BD7FC.avi</td>\n",
              "      <td>47.918968</td>\n",
              "      <td>26.754480</td>\n",
              "      <td>62.904129</td>\n",
              "      <td>22.944693</td>\n",
              "      <td>46</td>\n",
              "    </tr>\n",
              "  </tbody>\n",
              "</table>\n",
              "</div>\n",
              "    <div class=\"colab-df-buttons\">\n",
              "\n",
              "  <div class=\"colab-df-container\">\n",
              "    <button class=\"colab-df-convert\" onclick=\"convertToInteractive('df-bccea976-7baf-4ac1-b1cf-43cfddba6890')\"\n",
              "            title=\"Convert this dataframe to an interactive table.\"\n",
              "            style=\"display:none;\">\n",
              "\n",
              "  <svg xmlns=\"http://www.w3.org/2000/svg\" height=\"24px\" viewBox=\"0 -960 960 960\">\n",
              "    <path d=\"M120-120v-720h720v720H120Zm60-500h600v-160H180v160Zm220 220h160v-160H400v160Zm0 220h160v-160H400v160ZM180-400h160v-160H180v160Zm440 0h160v-160H620v160ZM180-180h160v-160H180v160Zm440 0h160v-160H620v160Z\"/>\n",
              "  </svg>\n",
              "    </button>\n",
              "\n",
              "  <style>\n",
              "    .colab-df-container {\n",
              "      display:flex;\n",
              "      gap: 12px;\n",
              "    }\n",
              "\n",
              "    .colab-df-convert {\n",
              "      background-color: #E8F0FE;\n",
              "      border: none;\n",
              "      border-radius: 50%;\n",
              "      cursor: pointer;\n",
              "      display: none;\n",
              "      fill: #1967D2;\n",
              "      height: 32px;\n",
              "      padding: 0 0 0 0;\n",
              "      width: 32px;\n",
              "    }\n",
              "\n",
              "    .colab-df-convert:hover {\n",
              "      background-color: #E2EBFA;\n",
              "      box-shadow: 0px 1px 2px rgba(60, 64, 67, 0.3), 0px 1px 3px 1px rgba(60, 64, 67, 0.15);\n",
              "      fill: #174EA6;\n",
              "    }\n",
              "\n",
              "    .colab-df-buttons div {\n",
              "      margin-bottom: 4px;\n",
              "    }\n",
              "\n",
              "    [theme=dark] .colab-df-convert {\n",
              "      background-color: #3B4455;\n",
              "      fill: #D2E3FC;\n",
              "    }\n",
              "\n",
              "    [theme=dark] .colab-df-convert:hover {\n",
              "      background-color: #434B5C;\n",
              "      box-shadow: 0px 1px 3px 1px rgba(0, 0, 0, 0.15);\n",
              "      filter: drop-shadow(0px 1px 2px rgba(0, 0, 0, 0.3));\n",
              "      fill: #FFFFFF;\n",
              "    }\n",
              "  </style>\n",
              "\n",
              "    <script>\n",
              "      const buttonEl =\n",
              "        document.querySelector('#df-bccea976-7baf-4ac1-b1cf-43cfddba6890 button.colab-df-convert');\n",
              "      buttonEl.style.display =\n",
              "        google.colab.kernel.accessAllowed ? 'block' : 'none';\n",
              "\n",
              "      async function convertToInteractive(key) {\n",
              "        const element = document.querySelector('#df-bccea976-7baf-4ac1-b1cf-43cfddba6890');\n",
              "        const dataTable =\n",
              "          await google.colab.kernel.invokeFunction('convertToInteractive',\n",
              "                                                    [key], {});\n",
              "        if (!dataTable) return;\n",
              "\n",
              "        const docLinkHtml = 'Like what you see? Visit the ' +\n",
              "          '<a target=\"_blank\" href=https://colab.research.google.com/notebooks/data_table.ipynb>data table notebook</a>'\n",
              "          + ' to learn more about interactive tables.';\n",
              "        element.innerHTML = '';\n",
              "        dataTable['output_type'] = 'display_data';\n",
              "        await google.colab.output.renderOutput(dataTable, element);\n",
              "        const docLink = document.createElement('div');\n",
              "        docLink.innerHTML = docLinkHtml;\n",
              "        element.appendChild(docLink);\n",
              "      }\n",
              "    </script>\n",
              "  </div>\n",
              "\n",
              "\n",
              "<div id=\"df-fa8d85ca-a3a1-491a-8cec-9317cf3f00fe\">\n",
              "  <button class=\"colab-df-quickchart\" onclick=\"quickchart('df-fa8d85ca-a3a1-491a-8cec-9317cf3f00fe')\"\n",
              "            title=\"Suggest charts\"\n",
              "            style=\"display:none;\">\n",
              "\n",
              "<svg xmlns=\"http://www.w3.org/2000/svg\" height=\"24px\"viewBox=\"0 0 24 24\"\n",
              "     width=\"24px\">\n",
              "    <g>\n",
              "        <path d=\"M19 3H5c-1.1 0-2 .9-2 2v14c0 1.1.9 2 2 2h14c1.1 0 2-.9 2-2V5c0-1.1-.9-2-2-2zM9 17H7v-7h2v7zm4 0h-2V7h2v10zm4 0h-2v-4h2v4z\"/>\n",
              "    </g>\n",
              "</svg>\n",
              "  </button>\n",
              "\n",
              "<style>\n",
              "  .colab-df-quickchart {\n",
              "      --bg-color: #E8F0FE;\n",
              "      --fill-color: #1967D2;\n",
              "      --hover-bg-color: #E2EBFA;\n",
              "      --hover-fill-color: #174EA6;\n",
              "      --disabled-fill-color: #AAA;\n",
              "      --disabled-bg-color: #DDD;\n",
              "  }\n",
              "\n",
              "  [theme=dark] .colab-df-quickchart {\n",
              "      --bg-color: #3B4455;\n",
              "      --fill-color: #D2E3FC;\n",
              "      --hover-bg-color: #434B5C;\n",
              "      --hover-fill-color: #FFFFFF;\n",
              "      --disabled-bg-color: #3B4455;\n",
              "      --disabled-fill-color: #666;\n",
              "  }\n",
              "\n",
              "  .colab-df-quickchart {\n",
              "    background-color: var(--bg-color);\n",
              "    border: none;\n",
              "    border-radius: 50%;\n",
              "    cursor: pointer;\n",
              "    display: none;\n",
              "    fill: var(--fill-color);\n",
              "    height: 32px;\n",
              "    padding: 0;\n",
              "    width: 32px;\n",
              "  }\n",
              "\n",
              "  .colab-df-quickchart:hover {\n",
              "    background-color: var(--hover-bg-color);\n",
              "    box-shadow: 0 1px 2px rgba(60, 64, 67, 0.3), 0 1px 3px 1px rgba(60, 64, 67, 0.15);\n",
              "    fill: var(--button-hover-fill-color);\n",
              "  }\n",
              "\n",
              "  .colab-df-quickchart-complete:disabled,\n",
              "  .colab-df-quickchart-complete:disabled:hover {\n",
              "    background-color: var(--disabled-bg-color);\n",
              "    fill: var(--disabled-fill-color);\n",
              "    box-shadow: none;\n",
              "  }\n",
              "\n",
              "  .colab-df-spinner {\n",
              "    border: 2px solid var(--fill-color);\n",
              "    border-color: transparent;\n",
              "    border-bottom-color: var(--fill-color);\n",
              "    animation:\n",
              "      spin 1s steps(1) infinite;\n",
              "  }\n",
              "\n",
              "  @keyframes spin {\n",
              "    0% {\n",
              "      border-color: transparent;\n",
              "      border-bottom-color: var(--fill-color);\n",
              "      border-left-color: var(--fill-color);\n",
              "    }\n",
              "    20% {\n",
              "      border-color: transparent;\n",
              "      border-left-color: var(--fill-color);\n",
              "      border-top-color: var(--fill-color);\n",
              "    }\n",
              "    30% {\n",
              "      border-color: transparent;\n",
              "      border-left-color: var(--fill-color);\n",
              "      border-top-color: var(--fill-color);\n",
              "      border-right-color: var(--fill-color);\n",
              "    }\n",
              "    40% {\n",
              "      border-color: transparent;\n",
              "      border-right-color: var(--fill-color);\n",
              "      border-top-color: var(--fill-color);\n",
              "    }\n",
              "    60% {\n",
              "      border-color: transparent;\n",
              "      border-right-color: var(--fill-color);\n",
              "    }\n",
              "    80% {\n",
              "      border-color: transparent;\n",
              "      border-right-color: var(--fill-color);\n",
              "      border-bottom-color: var(--fill-color);\n",
              "    }\n",
              "    90% {\n",
              "      border-color: transparent;\n",
              "      border-bottom-color: var(--fill-color);\n",
              "    }\n",
              "  }\n",
              "</style>\n",
              "\n",
              "  <script>\n",
              "    async function quickchart(key) {\n",
              "      const quickchartButtonEl =\n",
              "        document.querySelector('#' + key + ' button');\n",
              "      quickchartButtonEl.disabled = true;  // To prevent multiple clicks.\n",
              "      quickchartButtonEl.classList.add('colab-df-spinner');\n",
              "      try {\n",
              "        const charts = await google.colab.kernel.invokeFunction(\n",
              "            'suggestCharts', [key], {});\n",
              "      } catch (error) {\n",
              "        console.error('Error during call to suggestCharts:', error);\n",
              "      }\n",
              "      quickchartButtonEl.classList.remove('colab-df-spinner');\n",
              "      quickchartButtonEl.classList.add('colab-df-quickchart-complete');\n",
              "    }\n",
              "    (() => {\n",
              "      let quickchartButtonEl =\n",
              "        document.querySelector('#df-fa8d85ca-a3a1-491a-8cec-9317cf3f00fe button');\n",
              "      quickchartButtonEl.style.display =\n",
              "        google.colab.kernel.accessAllowed ? 'block' : 'none';\n",
              "    })();\n",
              "  </script>\n",
              "</div>\n",
              "\n",
              "    </div>\n",
              "  </div>\n"
            ]
          },
          "metadata": {},
          "execution_count": 319
        }
      ]
    },
    {
      "cell_type": "code",
      "source": [
        "volume_df.shape"
      ],
      "metadata": {
        "colab": {
          "base_uri": "https://localhost:8080/"
        },
        "id": "8Bvq0I5Cfxvm",
        "outputId": "6da7f8af-6b44-493d-d5a4-f956fca79b20"
      },
      "execution_count": null,
      "outputs": [
        {
          "output_type": "execute_result",
          "data": {
            "text/plain": [
              "(425010, 6)"
            ]
          },
          "metadata": {},
          "execution_count": 320
        }
      ]
    },
    {
      "cell_type": "code",
      "source": [
        "volume_df.describe()"
      ],
      "metadata": {
        "colab": {
          "base_uri": "https://localhost:8080/",
          "height": 300
        },
        "id": "mUBn9Wyxf4RY",
        "outputId": "eed5a5a8-bec1-4e2d-d23c-d32f35c49d45"
      },
      "execution_count": null,
      "outputs": [
        {
          "output_type": "execute_result",
          "data": {
            "text/plain": [
              "                  X1             Y1             X2             Y2  \\\n",
              "count  425010.000000  425010.000000  425010.000000  425010.000000   \n",
              "mean       50.450428      49.543699      69.736557      47.717532   \n",
              "std         7.012707      18.573019       9.265150      17.865131   \n",
              "min        -2.327197      -3.733333       2.046478      -4.106459   \n",
              "25%        46.145001      34.712631      63.394252      33.357054   \n",
              "50%        50.109005      48.934487      69.783005      46.555860   \n",
              "75%        54.177083      63.234491      76.015651      60.636838   \n",
              "max       109.276416     116.873407     119.887374     116.083333   \n",
              "\n",
              "               Frame  \n",
              "count  425010.000000  \n",
              "mean       74.380577  \n",
              "std        41.029798  \n",
              "min         0.000000  \n",
              "25%        48.000000  \n",
              "50%        67.000000  \n",
              "75%        99.000000  \n",
              "max       686.000000  "
            ],
            "text/html": [
              "\n",
              "  <div id=\"df-b4ae65ba-29e7-4ba8-ae4a-641afe3db3ae\" class=\"colab-df-container\">\n",
              "    <div>\n",
              "<style scoped>\n",
              "    .dataframe tbody tr th:only-of-type {\n",
              "        vertical-align: middle;\n",
              "    }\n",
              "\n",
              "    .dataframe tbody tr th {\n",
              "        vertical-align: top;\n",
              "    }\n",
              "\n",
              "    .dataframe thead th {\n",
              "        text-align: right;\n",
              "    }\n",
              "</style>\n",
              "<table border=\"1\" class=\"dataframe\">\n",
              "  <thead>\n",
              "    <tr style=\"text-align: right;\">\n",
              "      <th></th>\n",
              "      <th>X1</th>\n",
              "      <th>Y1</th>\n",
              "      <th>X2</th>\n",
              "      <th>Y2</th>\n",
              "      <th>Frame</th>\n",
              "    </tr>\n",
              "  </thead>\n",
              "  <tbody>\n",
              "    <tr>\n",
              "      <th>count</th>\n",
              "      <td>425010.000000</td>\n",
              "      <td>425010.000000</td>\n",
              "      <td>425010.000000</td>\n",
              "      <td>425010.000000</td>\n",
              "      <td>425010.000000</td>\n",
              "    </tr>\n",
              "    <tr>\n",
              "      <th>mean</th>\n",
              "      <td>50.450428</td>\n",
              "      <td>49.543699</td>\n",
              "      <td>69.736557</td>\n",
              "      <td>47.717532</td>\n",
              "      <td>74.380577</td>\n",
              "    </tr>\n",
              "    <tr>\n",
              "      <th>std</th>\n",
              "      <td>7.012707</td>\n",
              "      <td>18.573019</td>\n",
              "      <td>9.265150</td>\n",
              "      <td>17.865131</td>\n",
              "      <td>41.029798</td>\n",
              "    </tr>\n",
              "    <tr>\n",
              "      <th>min</th>\n",
              "      <td>-2.327197</td>\n",
              "      <td>-3.733333</td>\n",
              "      <td>2.046478</td>\n",
              "      <td>-4.106459</td>\n",
              "      <td>0.000000</td>\n",
              "    </tr>\n",
              "    <tr>\n",
              "      <th>25%</th>\n",
              "      <td>46.145001</td>\n",
              "      <td>34.712631</td>\n",
              "      <td>63.394252</td>\n",
              "      <td>33.357054</td>\n",
              "      <td>48.000000</td>\n",
              "    </tr>\n",
              "    <tr>\n",
              "      <th>50%</th>\n",
              "      <td>50.109005</td>\n",
              "      <td>48.934487</td>\n",
              "      <td>69.783005</td>\n",
              "      <td>46.555860</td>\n",
              "      <td>67.000000</td>\n",
              "    </tr>\n",
              "    <tr>\n",
              "      <th>75%</th>\n",
              "      <td>54.177083</td>\n",
              "      <td>63.234491</td>\n",
              "      <td>76.015651</td>\n",
              "      <td>60.636838</td>\n",
              "      <td>99.000000</td>\n",
              "    </tr>\n",
              "    <tr>\n",
              "      <th>max</th>\n",
              "      <td>109.276416</td>\n",
              "      <td>116.873407</td>\n",
              "      <td>119.887374</td>\n",
              "      <td>116.083333</td>\n",
              "      <td>686.000000</td>\n",
              "    </tr>\n",
              "  </tbody>\n",
              "</table>\n",
              "</div>\n",
              "    <div class=\"colab-df-buttons\">\n",
              "\n",
              "  <div class=\"colab-df-container\">\n",
              "    <button class=\"colab-df-convert\" onclick=\"convertToInteractive('df-b4ae65ba-29e7-4ba8-ae4a-641afe3db3ae')\"\n",
              "            title=\"Convert this dataframe to an interactive table.\"\n",
              "            style=\"display:none;\">\n",
              "\n",
              "  <svg xmlns=\"http://www.w3.org/2000/svg\" height=\"24px\" viewBox=\"0 -960 960 960\">\n",
              "    <path d=\"M120-120v-720h720v720H120Zm60-500h600v-160H180v160Zm220 220h160v-160H400v160Zm0 220h160v-160H400v160ZM180-400h160v-160H180v160Zm440 0h160v-160H620v160ZM180-180h160v-160H180v160Zm440 0h160v-160H620v160Z\"/>\n",
              "  </svg>\n",
              "    </button>\n",
              "\n",
              "  <style>\n",
              "    .colab-df-container {\n",
              "      display:flex;\n",
              "      gap: 12px;\n",
              "    }\n",
              "\n",
              "    .colab-df-convert {\n",
              "      background-color: #E8F0FE;\n",
              "      border: none;\n",
              "      border-radius: 50%;\n",
              "      cursor: pointer;\n",
              "      display: none;\n",
              "      fill: #1967D2;\n",
              "      height: 32px;\n",
              "      padding: 0 0 0 0;\n",
              "      width: 32px;\n",
              "    }\n",
              "\n",
              "    .colab-df-convert:hover {\n",
              "      background-color: #E2EBFA;\n",
              "      box-shadow: 0px 1px 2px rgba(60, 64, 67, 0.3), 0px 1px 3px 1px rgba(60, 64, 67, 0.15);\n",
              "      fill: #174EA6;\n",
              "    }\n",
              "\n",
              "    .colab-df-buttons div {\n",
              "      margin-bottom: 4px;\n",
              "    }\n",
              "\n",
              "    [theme=dark] .colab-df-convert {\n",
              "      background-color: #3B4455;\n",
              "      fill: #D2E3FC;\n",
              "    }\n",
              "\n",
              "    [theme=dark] .colab-df-convert:hover {\n",
              "      background-color: #434B5C;\n",
              "      box-shadow: 0px 1px 3px 1px rgba(0, 0, 0, 0.15);\n",
              "      filter: drop-shadow(0px 1px 2px rgba(0, 0, 0, 0.3));\n",
              "      fill: #FFFFFF;\n",
              "    }\n",
              "  </style>\n",
              "\n",
              "    <script>\n",
              "      const buttonEl =\n",
              "        document.querySelector('#df-b4ae65ba-29e7-4ba8-ae4a-641afe3db3ae button.colab-df-convert');\n",
              "      buttonEl.style.display =\n",
              "        google.colab.kernel.accessAllowed ? 'block' : 'none';\n",
              "\n",
              "      async function convertToInteractive(key) {\n",
              "        const element = document.querySelector('#df-b4ae65ba-29e7-4ba8-ae4a-641afe3db3ae');\n",
              "        const dataTable =\n",
              "          await google.colab.kernel.invokeFunction('convertToInteractive',\n",
              "                                                    [key], {});\n",
              "        if (!dataTable) return;\n",
              "\n",
              "        const docLinkHtml = 'Like what you see? Visit the ' +\n",
              "          '<a target=\"_blank\" href=https://colab.research.google.com/notebooks/data_table.ipynb>data table notebook</a>'\n",
              "          + ' to learn more about interactive tables.';\n",
              "        element.innerHTML = '';\n",
              "        dataTable['output_type'] = 'display_data';\n",
              "        await google.colab.output.renderOutput(dataTable, element);\n",
              "        const docLink = document.createElement('div');\n",
              "        docLink.innerHTML = docLinkHtml;\n",
              "        element.appendChild(docLink);\n",
              "      }\n",
              "    </script>\n",
              "  </div>\n",
              "\n",
              "\n",
              "<div id=\"df-2a8d02ea-78eb-41b5-a4b6-b33c50d3ef1d\">\n",
              "  <button class=\"colab-df-quickchart\" onclick=\"quickchart('df-2a8d02ea-78eb-41b5-a4b6-b33c50d3ef1d')\"\n",
              "            title=\"Suggest charts\"\n",
              "            style=\"display:none;\">\n",
              "\n",
              "<svg xmlns=\"http://www.w3.org/2000/svg\" height=\"24px\"viewBox=\"0 0 24 24\"\n",
              "     width=\"24px\">\n",
              "    <g>\n",
              "        <path d=\"M19 3H5c-1.1 0-2 .9-2 2v14c0 1.1.9 2 2 2h14c1.1 0 2-.9 2-2V5c0-1.1-.9-2-2-2zM9 17H7v-7h2v7zm4 0h-2V7h2v10zm4 0h-2v-4h2v4z\"/>\n",
              "    </g>\n",
              "</svg>\n",
              "  </button>\n",
              "\n",
              "<style>\n",
              "  .colab-df-quickchart {\n",
              "      --bg-color: #E8F0FE;\n",
              "      --fill-color: #1967D2;\n",
              "      --hover-bg-color: #E2EBFA;\n",
              "      --hover-fill-color: #174EA6;\n",
              "      --disabled-fill-color: #AAA;\n",
              "      --disabled-bg-color: #DDD;\n",
              "  }\n",
              "\n",
              "  [theme=dark] .colab-df-quickchart {\n",
              "      --bg-color: #3B4455;\n",
              "      --fill-color: #D2E3FC;\n",
              "      --hover-bg-color: #434B5C;\n",
              "      --hover-fill-color: #FFFFFF;\n",
              "      --disabled-bg-color: #3B4455;\n",
              "      --disabled-fill-color: #666;\n",
              "  }\n",
              "\n",
              "  .colab-df-quickchart {\n",
              "    background-color: var(--bg-color);\n",
              "    border: none;\n",
              "    border-radius: 50%;\n",
              "    cursor: pointer;\n",
              "    display: none;\n",
              "    fill: var(--fill-color);\n",
              "    height: 32px;\n",
              "    padding: 0;\n",
              "    width: 32px;\n",
              "  }\n",
              "\n",
              "  .colab-df-quickchart:hover {\n",
              "    background-color: var(--hover-bg-color);\n",
              "    box-shadow: 0 1px 2px rgba(60, 64, 67, 0.3), 0 1px 3px 1px rgba(60, 64, 67, 0.15);\n",
              "    fill: var(--button-hover-fill-color);\n",
              "  }\n",
              "\n",
              "  .colab-df-quickchart-complete:disabled,\n",
              "  .colab-df-quickchart-complete:disabled:hover {\n",
              "    background-color: var(--disabled-bg-color);\n",
              "    fill: var(--disabled-fill-color);\n",
              "    box-shadow: none;\n",
              "  }\n",
              "\n",
              "  .colab-df-spinner {\n",
              "    border: 2px solid var(--fill-color);\n",
              "    border-color: transparent;\n",
              "    border-bottom-color: var(--fill-color);\n",
              "    animation:\n",
              "      spin 1s steps(1) infinite;\n",
              "  }\n",
              "\n",
              "  @keyframes spin {\n",
              "    0% {\n",
              "      border-color: transparent;\n",
              "      border-bottom-color: var(--fill-color);\n",
              "      border-left-color: var(--fill-color);\n",
              "    }\n",
              "    20% {\n",
              "      border-color: transparent;\n",
              "      border-left-color: var(--fill-color);\n",
              "      border-top-color: var(--fill-color);\n",
              "    }\n",
              "    30% {\n",
              "      border-color: transparent;\n",
              "      border-left-color: var(--fill-color);\n",
              "      border-top-color: var(--fill-color);\n",
              "      border-right-color: var(--fill-color);\n",
              "    }\n",
              "    40% {\n",
              "      border-color: transparent;\n",
              "      border-right-color: var(--fill-color);\n",
              "      border-top-color: var(--fill-color);\n",
              "    }\n",
              "    60% {\n",
              "      border-color: transparent;\n",
              "      border-right-color: var(--fill-color);\n",
              "    }\n",
              "    80% {\n",
              "      border-color: transparent;\n",
              "      border-right-color: var(--fill-color);\n",
              "      border-bottom-color: var(--fill-color);\n",
              "    }\n",
              "    90% {\n",
              "      border-color: transparent;\n",
              "      border-bottom-color: var(--fill-color);\n",
              "    }\n",
              "  }\n",
              "</style>\n",
              "\n",
              "  <script>\n",
              "    async function quickchart(key) {\n",
              "      const quickchartButtonEl =\n",
              "        document.querySelector('#' + key + ' button');\n",
              "      quickchartButtonEl.disabled = true;  // To prevent multiple clicks.\n",
              "      quickchartButtonEl.classList.add('colab-df-spinner');\n",
              "      try {\n",
              "        const charts = await google.colab.kernel.invokeFunction(\n",
              "            'suggestCharts', [key], {});\n",
              "      } catch (error) {\n",
              "        console.error('Error during call to suggestCharts:', error);\n",
              "      }\n",
              "      quickchartButtonEl.classList.remove('colab-df-spinner');\n",
              "      quickchartButtonEl.classList.add('colab-df-quickchart-complete');\n",
              "    }\n",
              "    (() => {\n",
              "      let quickchartButtonEl =\n",
              "        document.querySelector('#df-2a8d02ea-78eb-41b5-a4b6-b33c50d3ef1d button');\n",
              "      quickchartButtonEl.style.display =\n",
              "        google.colab.kernel.accessAllowed ? 'block' : 'none';\n",
              "    })();\n",
              "  </script>\n",
              "</div>\n",
              "\n",
              "    </div>\n",
              "  </div>\n"
            ]
          },
          "metadata": {},
          "execution_count": 321
        }
      ]
    },
    {
      "cell_type": "code",
      "source": [
        "volume_df.info()"
      ],
      "metadata": {
        "colab": {
          "base_uri": "https://localhost:8080/"
        },
        "id": "tv8v8wxuf7De",
        "outputId": "730bf544-c69c-413c-d5ba-8248f9ff5884"
      },
      "execution_count": null,
      "outputs": [
        {
          "output_type": "stream",
          "name": "stdout",
          "text": [
            "<class 'pandas.core.frame.DataFrame'>\n",
            "RangeIndex: 425010 entries, 0 to 425009\n",
            "Data columns (total 6 columns):\n",
            " #   Column    Non-Null Count   Dtype  \n",
            "---  ------    --------------   -----  \n",
            " 0   FileName  425010 non-null  object \n",
            " 1   X1        425010 non-null  float64\n",
            " 2   Y1        425010 non-null  float64\n",
            " 3   X2        425010 non-null  float64\n",
            " 4   Y2        425010 non-null  float64\n",
            " 5   Frame     425010 non-null  int64  \n",
            "dtypes: float64(4), int64(1), object(1)\n",
            "memory usage: 19.5+ MB\n"
          ]
        }
      ]
    },
    {
      "cell_type": "code",
      "source": [
        "plt.figure(figsize=(12, 6))\n",
        "plt.subplot(2, 2, 1)\n",
        "sns.histplot(volume_df['X1'], kde=True)\n",
        "plt.title('Start X Distribution')\n",
        "\n",
        "plt.subplot(2, 2, 2)\n",
        "sns.histplot(volume_df['X2'], kde=True)\n",
        "plt.title('End X Distribution')\n",
        "\n",
        "plt.subplot(2, 2, 3)\n",
        "sns.histplot(volume_df['Y1'], kde=True)\n",
        "plt.title('Start Y Distribution')\n",
        "\n",
        "plt.subplot(2, 2, 4)\n",
        "sns.histplot(volume_df['Y2'], kde=True)\n",
        "plt.title('End Y Distribution')\n",
        "\n",
        "plt.tight_layout()\n",
        "plt.show()"
      ],
      "metadata": {
        "colab": {
          "base_uri": "https://localhost:8080/",
          "height": 570
        },
        "id": "Bkyf7S1fgEK3",
        "outputId": "a5410559-a5c7-4dfa-e38b-7aa692f9bb20"
      },
      "execution_count": null,
      "outputs": [
        {
          "output_type": "display_data",
          "data": {
            "text/plain": [
              "<Figure size 1200x600 with 4 Axes>"
            ],
            "image/png": "[encoded data removed]"
          },
          "metadata": {}
        }
      ]
    },
    {
      "cell_type": "markdown",
      "source": [
        "# **SEGMENTATION**"
      ],
      "metadata": {
        "id": "3e5-8trgWaTV"
      }
    },
    {
      "cell_type": "code",
      "source": [
        "data_dir = '/content/EchoVision Data/ESV/ESV_frames'\n",
        "annotations_dir = '/content/EchoVision Data/ESV/ESV_annotated'"
      ],
      "metadata": {
        "id": "JN8ORU2mWUaF"
      },
      "execution_count": null,
      "outputs": []
    },
    {
      "cell_type": "code",
      "source": [
        "def load_data(data_dir, annotations_dir):\n",
        "    data = []\n",
        "    annotations = []\n",
        "\n",
        "    for filename in os.listdir(data_dir):\n",
        "        img = cv2.imread(os.path.join(data_dir, filename))\n",
        "\n",
        "\n",
        "        data.append(img)\n",
        "\n",
        "\n",
        "\n",
        "\n",
        "    for filename in os.listdir(annotations_dir):\n",
        "\n",
        "        mask = cv2.imread(os.path.join(annotations_dir, filename))\n",
        "\n",
        "\n",
        "        annotations.append(mask)\n",
        "\n",
        "    return np.array(data,dtype=np.float32), np.array(annotations,dtype=np.float32)\n",
        "\n",
        "\n",
        "data, annotations = load_data(data_dir, annotations_dir)"
      ],
      "metadata": {
        "id": "9q6AzTuwWxdS"
      },
      "execution_count": null,
      "outputs": []
    },
    {
      "cell_type": "code",
      "source": [
        "X_train, X_val, y_train, y_val = train_test_split(data[0:4845], annotations, test_size=0.2, random_state=42)"
      ],
      "metadata": {
        "id": "YEpvOt_BW0SL"
      },
      "execution_count": null,
      "outputs": []
    },
    {
      "cell_type": "code",
      "source": [
        "X_train.shape, X_train.dtype"
      ],
      "metadata": {
        "colab": {
          "base_uri": "https://localhost:8080/"
        },
        "id": "HD7tySpqfL25",
        "outputId": "ce59f3f0-10d7-4e0d-e75e-0d919b8ba05d"
      },
      "execution_count": null,
      "outputs": [
        {
          "output_type": "execute_result",
          "data": {
            "text/plain": [
              "((3846, 112, 112, 3), dtype('float32'))"
            ]
          },
          "metadata": {},
          "execution_count": 564
        }
      ]
    },
    {
      "cell_type": "code",
      "source": [
        "y_train.shape, y_train.dtype"
      ],
      "metadata": {
        "colab": {
          "base_uri": "https://localhost:8080/"
        },
        "id": "bDX_jlyFfgNq",
        "outputId": "6d9f8536-d709-48a0-bd55-393a80601c43"
      },
      "execution_count": null,
      "outputs": [
        {
          "output_type": "execute_result",
          "data": {
            "text/plain": [
              "((3846, 112, 112, 3), dtype('float32'))"
            ]
          },
          "metadata": {},
          "execution_count": 565
        }
      ]
    },
    {
      "cell_type": "code",
      "source": [
        "X_val.shape, X_val.dtype"
      ],
      "metadata": {
        "colab": {
          "base_uri": "https://localhost:8080/"
        },
        "id": "ehpvrasSfT4T",
        "outputId": "bd275e3c-2afd-41fb-880d-cdca9672ef77"
      },
      "execution_count": null,
      "outputs": [
        {
          "output_type": "execute_result",
          "data": {
            "text/plain": [
              "((962, 112, 112, 3), dtype('float32'))"
            ]
          },
          "metadata": {},
          "execution_count": 566
        }
      ]
    },
    {
      "cell_type": "code",
      "source": [
        "y_val.shape, y_val.dtype"
      ],
      "metadata": {
        "colab": {
          "base_uri": "https://localhost:8080/"
        },
        "id": "FO5wTsYefayb",
        "outputId": "a8fba685-6428-48cf-aa4f-f192c581e350"
      },
      "execution_count": null,
      "outputs": [
        {
          "output_type": "execute_result",
          "data": {
            "text/plain": [
              "((962, 112, 112, 3), dtype('float32'))"
            ]
          },
          "metadata": {},
          "execution_count": 567
        }
      ]
    },
    {
      "cell_type": "code",
      "source": [
        "def conv2d_block(input_tensor, n_filters, kernel_size = 3, batchnorm = True):\n",
        "    \"\"\"Function to add 2 convolutional layers with the parameters passed to it\"\"\"\n",
        "    # first layer\n",
        "    x = Conv2D(filters = n_filters, kernel_size = (kernel_size, kernel_size),\\\n",
        "              kernel_initializer = 'he_normal', padding = 'same')(input_tensor)\n",
        "    if batchnorm:\n",
        "        x = BatchNormalization()(x)\n",
        "    x = Activation('relu')(x)\n",
        "\n",
        "    # second layer\n",
        "    x = Conv2D(filters = n_filters, kernel_size = (kernel_size, kernel_size),\\\n",
        "              kernel_initializer = 'he_normal', padding = 'same')(input_tensor)\n",
        "    if batchnorm:\n",
        "        x = BatchNormalization()(x)\n",
        "    x = Activation('relu')(x)\n",
        "\n",
        "    return x\n",
        "\n",
        "def get_unet(input_img, n_filters = 16, dropout = 0.1, batchnorm = True):\n",
        "    # Contracting Path\n",
        "    c1 = conv2d_block(input_img, n_filters * 1, kernel_size = 3, batchnorm = batchnorm)\n",
        "    p1 = MaxPooling2D((2, 2))(c1)\n",
        "    p1 = Dropout(dropout)(p1)\n",
        "\n",
        "    c2 = conv2d_block(p1, n_filters * 2, kernel_size = 3, batchnorm = batchnorm)\n",
        "    p2 = MaxPooling2D((2, 2))(c2)\n",
        "    p2 = Dropout(dropout)(p2)\n",
        "\n",
        "    c3 = conv2d_block(p2, n_filters * 4, kernel_size = 3, batchnorm = batchnorm)\n",
        "    p3 = MaxPooling2D((2, 2))(c3)\n",
        "    p3 = Dropout(dropout)(p3)\n",
        "\n",
        "    c4 = conv2d_block(p3, n_filters * 8, kernel_size = 3, batchnorm = batchnorm)\n",
        "    p4 = MaxPooling2D((2, 2))(c4)\n",
        "    p4 = Dropout(dropout)(p4)\n",
        "\n",
        "    c5 = conv2d_block(p4, n_filters = n_filters * 16, kernel_size = 3, batchnorm = batchnorm)\n",
        "\n",
        "    # Expansive Path\n",
        "    u6 = Conv2DTranspose(n_filters * 8, (3, 3), strides = (2, 2), padding = 'same')(c5)\n",
        "    u6 = concatenate([u6, c4])\n",
        "    u6 = Dropout(dropout)(u6)\n",
        "    c6 = conv2d_block(u6, n_filters * 8, kernel_size = 3, batchnorm = batchnorm)\n",
        "\n",
        "    u7 = Conv2DTranspose(n_filters * 4, (3, 3), strides = (2, 2), padding = 'same')(c6)\n",
        "    u7 = concatenate([u7, c3])\n",
        "    u7 = Dropout(dropout)(u7)\n",
        "    c7 = conv2d_block(u7, n_filters * 4, kernel_size = 3, batchnorm = batchnorm)\n",
        "\n",
        "    u8 = Conv2DTranspose(n_filters * 2, (3, 3), strides = (2, 2), padding = 'same')(c7)\n",
        "    u8 = concatenate([u8, c2])\n",
        "    u8 = Dropout(dropout)(u8)\n",
        "    c8 = conv2d_block(u8, n_filters * 2, kernel_size = 3, batchnorm = batchnorm)\n",
        "\n",
        "    u9 = Conv2DTranspose(n_filters * 1, (3, 3), strides = (2, 2), padding = 'same')(c8)\n",
        "    u9 = concatenate([u9, c1])\n",
        "    u9 = Dropout(dropout)(u9)\n",
        "    c9 = conv2d_block(u9, n_filters * 1, kernel_size = 3, batchnorm = batchnorm)\n",
        "\n",
        "    outputs = Conv2D(3, (1, 1), activation='softmax')(c9)\n",
        "    model = Model(inputs=[input_img], outputs=[outputs])\n",
        "    return model"
      ],
      "metadata": {
        "id": "ddAqfWvemUA1"
      },
      "execution_count": null,
      "outputs": []
    },
    {
      "cell_type": "code",
      "source": [
        "from tensorflow.keras.optimizers import Adam\n",
        "from tensorflow.keras.optimizers import RMSprop\n",
        "from tensorflow.keras.losses import binary_crossentropy\n",
        "from tensorflow.keras.metrics import SpecificityAtSensitivity, SensitivityAtSpecificity, AUC, Precision, Recall\n",
        "\n",
        "input_img = Input((112, 112, 3), name='img')\n",
        "model = get_unet(input_img, n_filters=16, dropout=0.005, batchnorm=True)\n",
        "\n",
        "model.compile(optimizer=Adam(lr=0.001), loss=\"categorical_crossentropy\", metrics=[\"accuracy\"])\n"
      ],
      "metadata": {
        "colab": {
          "base_uri": "https://localhost:8080/"
        },
        "id": "XBOcK9ppXCTN",
        "outputId": "4fce1077-2a38-4811-ea26-9994ce98513a"
      },
      "execution_count": null,
      "outputs": [
        {
          "output_type": "stream",
          "name": "stderr",
          "text": [
            "WARNING:absl:`lr` is deprecated in Keras optimizer, please use `learning_rate` or use the legacy optimizer, e.g.,tf.keras.optimizers.legacy.Adam.\n"
          ]
        }
      ]
    },
    {
      "cell_type": "code",
      "source": [
        "def dice_loss(y_true, y_pred):\n",
        "    y_true = tf.cast(y_true, dtype=tf.float32)  # Cast y_true to float32\n",
        "    numerator = 2 * tf.reduce_sum(y_true * y_pred, axis=(1, 2, 3))\n",
        "    denominator = tf.reduce_sum(y_true + y_pred, axis=(1, 2, 3))\n",
        "    return abs(1 - (numerator + 1) / (denominator + 1))\n",
        "\n",
        "\n",
        "# Your model compilation\n",
        "model.compile(\n",
        "    optimizer=RMSprop(learning_rate=0.001),\n",
        "    loss=dice_loss,\n",
        "    metrics=[\n",
        "\n",
        "        SpecificityAtSensitivity(0.2),  # You can adjust the sensitivity value\n",
        "        SensitivityAtSpecificity(0.2),  # You can adjust the specificity value\n",
        "        AUC(),\n",
        "        Precision(),\n",
        "        Recall(),\n",
        "\n",
        "    ]\n",
        ")"
      ],
      "metadata": {
        "id": "E5zP35mzwSDu"
      },
      "execution_count": null,
      "outputs": []
    },
    {
      "cell_type": "code",
      "source": [
        "callbacks = [\n",
        "    EarlyStopping(patience=10, verbose=1),\n",
        "    ReduceLROnPlateau(factor=0.2, patience=5, min_lr=0.00001, verbose=1),\n",
        "    ModelCheckpoint('model-tgs-salt.h5', verbose=1, save_best_only=True, save_weights_only=True)\n",
        "]"
      ],
      "metadata": {
        "id": "_hZuSDExnNzY"
      },
      "execution_count": null,
      "outputs": []
    },
    {
      "cell_type": "code",
      "source": [
        "results = model.fit(X_train, y_train, batch_size=128, epochs=50,\n",
        "                    validation_data=(X_val, y_val))\n"
      ],
      "metadata": {
        "colab": {
          "base_uri": "https://localhost:8080/"
        },
        "id": "26E0o6o9nX4f",
        "outputId": "6d2120f3-2739-4c42-ab8c-aa60c70ff3e6"
      },
      "execution_count": null,
      "outputs": [
        {
          "output_type": "stream",
          "name": "stdout",
          "text": [
            "Epoch 1/50\n",
            "31/31 [==============================] - 8s 120ms/step - loss: 0.0329 - specificity_at_sensitivity_18: 0.8581 - sensitivity_at_specificity_18: 0.7364 - auc_18: 0.5299 - precision_18: 0.6862 - recall_18: 0.2516 - val_loss: 0.0837 - val_specificity_at_sensitivity_18: 0.8722 - val_sensitivity_at_specificity_18: 0.7326 - val_auc_18: 0.5234 - val_precision_18: 0.7107 - val_recall_18: 0.2316\n",
            "Epoch 2/50\n",
            "31/31 [==============================] - 3s 103ms/step - loss: 0.0339 - specificity_at_sensitivity_18: 0.8569 - sensitivity_at_specificity_18: 0.7400 - auc_18: 0.5311 - precision_18: 0.6873 - recall_18: 0.2507 - val_loss: 0.0448 - val_specificity_at_sensitivity_18: 0.8545 - val_sensitivity_at_specificity_18: 0.7401 - val_auc_18: 0.5349 - val_precision_18: 0.6900 - val_recall_18: 0.2494\n",
            "Epoch 3/50\n",
            "31/31 [==============================] - 3s 103ms/step - loss: 0.0326 - specificity_at_sensitivity_18: 0.8575 - sensitivity_at_specificity_18: 0.7416 - auc_18: 0.5317 - precision_18: 0.6882 - recall_18: 0.2519 - val_loss: 0.0443 - val_specificity_at_sensitivity_18: 0.8685 - val_sensitivity_at_specificity_18: 0.7220 - val_auc_18: 0.5275 - val_precision_18: 0.7003 - val_recall_18: 0.2521\n",
            "Epoch 4/50\n",
            "31/31 [==============================] - 3s 103ms/step - loss: 0.0329 - specificity_at_sensitivity_18: 0.8549 - sensitivity_at_specificity_18: 0.7431 - auc_18: 0.5323 - precision_18: 0.6861 - recall_18: 0.2525 - val_loss: 0.0460 - val_specificity_at_sensitivity_18: 0.9153 - val_sensitivity_at_specificity_18: 0.6773 - val_auc_18: 0.5109 - val_precision_18: 0.7204 - val_recall_18: 0.2573\n",
            "Epoch 5/50\n",
            "31/31 [==============================] - 3s 103ms/step - loss: 0.0331 - specificity_at_sensitivity_18: 0.8611 - sensitivity_at_specificity_18: 0.7367 - auc_18: 0.5294 - precision_18: 0.6889 - recall_18: 0.2533 - val_loss: 0.0465 - val_specificity_at_sensitivity_18: 0.8859 - val_sensitivity_at_specificity_18: 0.7111 - val_auc_18: 0.5214 - val_precision_18: 0.7026 - val_recall_18: 0.2559\n",
            "Epoch 6/50\n",
            "31/31 [==============================] - 3s 104ms/step - loss: 0.0320 - specificity_at_sensitivity_18: 0.8654 - sensitivity_at_specificity_18: 0.7342 - auc_18: 0.5280 - precision_18: 0.6927 - recall_18: 0.2537 - val_loss: 0.0466 - val_specificity_at_sensitivity_18: 0.8913 - val_sensitivity_at_specificity_18: 0.7017 - val_auc_18: 0.5184 - val_precision_18: 0.6993 - val_recall_18: 0.2634\n",
            "Epoch 7/50\n",
            "31/31 [==============================] - 3s 104ms/step - loss: 0.0322 - specificity_at_sensitivity_18: 0.8602 - sensitivity_at_specificity_18: 0.7385 - auc_18: 0.5303 - precision_18: 0.6890 - recall_18: 0.2514 - val_loss: 0.0553 - val_specificity_at_sensitivity_18: 0.8640 - val_sensitivity_at_specificity_18: 0.7378 - val_auc_18: 0.5235 - val_precision_18: 0.6953 - val_recall_18: 0.2442\n",
            "Epoch 8/50\n",
            "31/31 [==============================] - 3s 104ms/step - loss: 0.0320 - specificity_at_sensitivity_18: 0.8629 - sensitivity_at_specificity_18: 0.7393 - auc_18: 0.5295 - precision_18: 0.6911 - recall_18: 0.2527 - val_loss: 0.0471 - val_specificity_at_sensitivity_18: 0.8500 - val_sensitivity_at_specificity_18: 0.7565 - val_auc_18: 0.5362 - val_precision_18: 0.6880 - val_recall_18: 0.2427\n",
            "Epoch 9/50\n",
            "31/31 [==============================] - 3s 103ms/step - loss: 0.0319 - specificity_at_sensitivity_18: 0.8561 - sensitivity_at_specificity_18: 0.7499 - auc_18: 0.5332 - precision_18: 0.6897 - recall_18: 0.2535 - val_loss: 0.0455 - val_specificity_at_sensitivity_18: 0.8631 - val_sensitivity_at_specificity_18: 0.7435 - val_auc_18: 0.5283 - val_precision_18: 0.6976 - val_recall_18: 0.2533\n",
            "Epoch 10/50\n",
            "31/31 [==============================] - 3s 104ms/step - loss: 0.0319 - specificity_at_sensitivity_18: 0.8544 - sensitivity_at_specificity_18: 0.7482 - auc_18: 0.5335 - precision_18: 0.6892 - recall_18: 0.2528 - val_loss: 0.0456 - val_specificity_at_sensitivity_18: 0.8784 - val_sensitivity_at_specificity_18: 0.7292 - val_auc_18: 0.5262 - val_precision_18: 0.7072 - val_recall_18: 0.2525\n",
            "Epoch 11/50\n",
            "31/31 [==============================] - 3s 103ms/step - loss: 0.0319 - specificity_at_sensitivity_18: 0.8567 - sensitivity_at_specificity_18: 0.7487 - auc_18: 0.5318 - precision_18: 0.6900 - recall_18: 0.2548 - val_loss: 0.0471 - val_specificity_at_sensitivity_18: 0.8776 - val_sensitivity_at_specificity_18: 0.7268 - val_auc_18: 0.5220 - val_precision_18: 0.7059 - val_recall_18: 0.2545\n",
            "Epoch 12/50\n",
            "31/31 [==============================] - 3s 103ms/step - loss: 0.0313 - specificity_at_sensitivity_18: 0.8561 - sensitivity_at_specificity_18: 0.7533 - auc_18: 0.5333 - precision_18: 0.6908 - recall_18: 0.2527 - val_loss: 0.0435 - val_specificity_at_sensitivity_18: 0.8640 - val_sensitivity_at_specificity_18: 0.7464 - val_auc_18: 0.5301 - val_precision_18: 0.6949 - val_recall_18: 0.2503\n",
            "Epoch 13/50\n",
            "31/31 [==============================] - 3s 103ms/step - loss: 0.0314 - specificity_at_sensitivity_18: 0.8645 - sensitivity_at_specificity_18: 0.7423 - auc_18: 0.5302 - precision_18: 0.6944 - recall_18: 0.2536 - val_loss: 0.0489 - val_specificity_at_sensitivity_18: 0.8823 - val_sensitivity_at_specificity_18: 0.7279 - val_auc_18: 0.5222 - val_precision_18: 0.7115 - val_recall_18: 0.2456\n",
            "Epoch 14/50\n",
            "31/31 [==============================] - 3s 104ms/step - loss: 0.0316 - specificity_at_sensitivity_18: 0.8703 - sensitivity_at_specificity_18: 0.7391 - auc_18: 0.5280 - precision_18: 0.6974 - recall_18: 0.2550 - val_loss: 0.0615 - val_specificity_at_sensitivity_18: 0.8638 - val_sensitivity_at_specificity_18: 0.7517 - val_auc_18: 0.5299 - val_precision_18: 0.7006 - val_recall_18: 0.2429\n",
            "Epoch 15/50\n",
            "31/31 [==============================] - 3s 103ms/step - loss: 0.0319 - specificity_at_sensitivity_18: 0.8630 - sensitivity_at_specificity_18: 0.7466 - auc_18: 0.5305 - precision_18: 0.6937 - recall_18: 0.2549 - val_loss: 0.0488 - val_specificity_at_sensitivity_18: 0.8622 - val_sensitivity_at_specificity_18: 0.7537 - val_auc_18: 0.5293 - val_precision_18: 0.6959 - val_recall_18: 0.2441\n",
            "Epoch 16/50\n",
            "31/31 [==============================] - 3s 103ms/step - loss: 0.0308 - specificity_at_sensitivity_18: 0.8656 - sensitivity_at_specificity_18: 0.7440 - auc_18: 0.5292 - precision_18: 0.6952 - recall_18: 0.2540 - val_loss: 0.0428 - val_specificity_at_sensitivity_18: 0.8640 - val_sensitivity_at_specificity_18: 0.7414 - val_auc_18: 0.5289 - val_precision_18: 0.6952 - val_recall_18: 0.2528\n",
            "Epoch 17/50\n",
            "31/31 [==============================] - 3s 104ms/step - loss: 0.0312 - specificity_at_sensitivity_18: 0.8690 - sensitivity_at_specificity_18: 0.7453 - auc_18: 0.5285 - precision_18: 0.6986 - recall_18: 0.2554 - val_loss: 0.0417 - val_specificity_at_sensitivity_18: 0.8800 - val_sensitivity_at_specificity_18: 0.7243 - val_auc_18: 0.5222 - val_precision_18: 0.6996 - val_recall_18: 0.2611\n",
            "Epoch 18/50\n",
            "31/31 [==============================] - 3s 103ms/step - loss: 0.0315 - specificity_at_sensitivity_18: 0.8718 - sensitivity_at_specificity_18: 0.7436 - auc_18: 0.5280 - precision_18: 0.6982 - recall_18: 0.2546 - val_loss: 0.0434 - val_specificity_at_sensitivity_18: 0.8834 - val_sensitivity_at_specificity_18: 0.7233 - val_auc_18: 0.5203 - val_precision_18: 0.7027 - val_recall_18: 0.2598\n",
            "Epoch 19/50\n",
            "31/31 [==============================] - 3s 104ms/step - loss: 0.0306 - specificity_at_sensitivity_18: 0.8707 - sensitivity_at_specificity_18: 0.7432 - auc_18: 0.5283 - precision_18: 0.6982 - recall_18: 0.2538 - val_loss: 0.0481 - val_specificity_at_sensitivity_18: 0.8612 - val_sensitivity_at_specificity_18: 0.7620 - val_auc_18: 0.5308 - val_precision_18: 0.6968 - val_recall_18: 0.2454\n",
            "Epoch 20/50\n",
            "31/31 [==============================] - 3s 103ms/step - loss: 0.0302 - specificity_at_sensitivity_18: 0.8701 - sensitivity_at_specificity_18: 0.7435 - auc_18: 0.5283 - precision_18: 0.6996 - recall_18: 0.2536 - val_loss: 0.0420 - val_specificity_at_sensitivity_18: 0.8658 - val_sensitivity_at_specificity_18: 0.7475 - val_auc_18: 0.5288 - val_precision_18: 0.6947 - val_recall_18: 0.2515\n",
            "Epoch 21/50\n",
            "31/31 [==============================] - 3s 104ms/step - loss: 0.0303 - specificity_at_sensitivity_18: 0.8728 - sensitivity_at_specificity_18: 0.7429 - auc_18: 0.5277 - precision_18: 0.7013 - recall_18: 0.2531 - val_loss: 0.0762 - val_specificity_at_sensitivity_18: 0.8365 - val_sensitivity_at_specificity_18: 0.8042 - val_auc_18: 0.5454 - val_precision_18: 0.6802 - val_recall_18: 0.2271\n",
            "Epoch 22/50\n",
            "31/31 [==============================] - 3s 104ms/step - loss: 0.0308 - specificity_at_sensitivity_18: 0.8744 - sensitivity_at_specificity_18: 0.7398 - auc_18: 0.5267 - precision_18: 0.7008 - recall_18: 0.2536 - val_loss: 0.0427 - val_specificity_at_sensitivity_18: 0.8908 - val_sensitivity_at_specificity_18: 0.7227 - val_auc_18: 0.5195 - val_precision_18: 0.7116 - val_recall_18: 0.2601\n",
            "Epoch 23/50\n",
            "31/31 [==============================] - 3s 103ms/step - loss: 0.0305 - specificity_at_sensitivity_18: 0.8812 - sensitivity_at_specificity_18: 0.7380 - auc_18: 0.5243 - precision_18: 0.7053 - recall_18: 0.2537 - val_loss: 0.0447 - val_specificity_at_sensitivity_18: 0.8597 - val_sensitivity_at_specificity_18: 0.7606 - val_auc_18: 0.5341 - val_precision_18: 0.6982 - val_recall_18: 0.2499\n",
            "Epoch 24/50\n",
            "31/31 [==============================] - 3s 103ms/step - loss: 0.0303 - specificity_at_sensitivity_18: 0.8735 - sensitivity_at_specificity_18: 0.7436 - auc_18: 0.5277 - precision_18: 0.6997 - recall_18: 0.2523 - val_loss: 0.0446 - val_specificity_at_sensitivity_18: 0.9187 - val_sensitivity_at_specificity_18: 0.6800 - val_auc_18: 0.5039 - val_precision_18: 0.7216 - val_recall_18: 0.2587\n",
            "Epoch 25/50\n",
            "31/31 [==============================] - 3s 103ms/step - loss: 0.0303 - specificity_at_sensitivity_18: 0.8807 - sensitivity_at_specificity_18: 0.7345 - auc_18: 0.5239 - precision_18: 0.7008 - recall_18: 0.2512 - val_loss: 0.0423 - val_specificity_at_sensitivity_18: 0.8866 - val_sensitivity_at_specificity_18: 0.7346 - val_auc_18: 0.5218 - val_precision_18: 0.7105 - val_recall_18: 0.2503\n",
            "Epoch 26/50\n",
            "31/31 [==============================] - 3s 103ms/step - loss: 0.0307 - specificity_at_sensitivity_18: 0.8788 - sensitivity_at_specificity_18: 0.7378 - auc_18: 0.5251 - precision_18: 0.7035 - recall_18: 0.2533 - val_loss: 0.0678 - val_specificity_at_sensitivity_18: 0.8508 - val_sensitivity_at_specificity_18: 0.7862 - val_auc_18: 0.5478 - val_precision_18: 0.7008 - val_recall_18: 0.2336\n",
            "Epoch 27/50\n",
            "31/31 [==============================] - 3s 103ms/step - loss: 0.0301 - specificity_at_sensitivity_18: 0.8588 - sensitivity_at_specificity_18: 0.7581 - auc_18: 0.5338 - precision_18: 0.6965 - recall_18: 0.2536 - val_loss: 0.0421 - val_specificity_at_sensitivity_18: 0.8944 - val_sensitivity_at_specificity_18: 0.7257 - val_auc_18: 0.5183 - val_precision_18: 0.7228 - val_recall_18: 0.2559\n",
            "Epoch 28/50\n",
            "31/31 [==============================] - 3s 103ms/step - loss: 0.0302 - specificity_at_sensitivity_18: 0.8805 - sensitivity_at_specificity_18: 0.7441 - auc_18: 0.5249 - precision_18: 0.7071 - recall_18: 0.2554 - val_loss: 0.0442 - val_specificity_at_sensitivity_18: 0.8996 - val_sensitivity_at_specificity_18: 0.7222 - val_auc_18: 0.5161 - val_precision_18: 0.7306 - val_recall_18: 0.2538\n",
            "Epoch 29/50\n",
            "31/31 [==============================] - 3s 104ms/step - loss: 0.0297 - specificity_at_sensitivity_18: 0.8831 - sensitivity_at_specificity_18: 0.7444 - auc_18: 0.5241 - precision_18: 0.7101 - recall_18: 0.2561 - val_loss: 0.0452 - val_specificity_at_sensitivity_18: 0.8845 - val_sensitivity_at_specificity_18: 0.7420 - val_auc_18: 0.5239 - val_precision_18: 0.7103 - val_recall_18: 0.2570\n",
            "Epoch 30/50\n",
            "31/31 [==============================] - 3s 103ms/step - loss: 0.0299 - specificity_at_sensitivity_18: 0.8834 - sensitivity_at_specificity_18: 0.7411 - auc_18: 0.5239 - precision_18: 0.7092 - recall_18: 0.2552 - val_loss: 0.0428 - val_specificity_at_sensitivity_18: 0.9040 - val_sensitivity_at_specificity_18: 0.7179 - val_auc_18: 0.5154 - val_precision_18: 0.7219 - val_recall_18: 0.2553\n",
            "Epoch 31/50\n",
            "31/31 [==============================] - 3s 103ms/step - loss: 0.0296 - specificity_at_sensitivity_18: 0.8942 - sensitivity_at_specificity_18: 0.7251 - auc_18: 0.5185 - precision_18: 0.7138 - recall_18: 0.2575 - val_loss: 0.0615 - val_specificity_at_sensitivity_18: 0.8888 - val_sensitivity_at_specificity_18: 0.7416 - val_auc_18: 0.5184 - val_precision_18: 0.7294 - val_recall_18: 0.2440\n",
            "Epoch 32/50\n",
            "31/31 [==============================] - 3s 103ms/step - loss: 0.0299 - specificity_at_sensitivity_18: 0.8894 - sensitivity_at_specificity_18: 0.7338 - auc_18: 0.5206 - precision_18: 0.7104 - recall_18: 0.2559 - val_loss: 0.0572 - val_specificity_at_sensitivity_18: 0.8725 - val_sensitivity_at_specificity_18: 0.7629 - val_auc_18: 0.5275 - val_precision_18: 0.7132 - val_recall_18: 0.2428\n",
            "Epoch 33/50\n",
            "31/31 [==============================] - 3s 104ms/step - loss: 0.0301 - specificity_at_sensitivity_18: 0.8905 - sensitivity_at_specificity_18: 0.7348 - auc_18: 0.5207 - precision_18: 0.7135 - recall_18: 0.2576 - val_loss: 0.0423 - val_specificity_at_sensitivity_18: 0.8892 - val_sensitivity_at_specificity_18: 0.7320 - val_auc_18: 0.5205 - val_precision_18: 0.7095 - val_recall_18: 0.2566\n",
            "Epoch 34/50\n",
            "31/31 [==============================] - 3s 104ms/step - loss: 0.0298 - specificity_at_sensitivity_18: 0.8951 - sensitivity_at_specificity_18: 0.7311 - auc_18: 0.5192 - precision_18: 0.7163 - recall_18: 0.2561 - val_loss: 0.0422 - val_specificity_at_sensitivity_18: 0.9051 - val_sensitivity_at_specificity_18: 0.7164 - val_auc_18: 0.5127 - val_precision_18: 0.7259 - val_recall_18: 0.2594\n",
            "Epoch 35/50\n",
            "31/31 [==============================] - 3s 103ms/step - loss: 0.0299 - specificity_at_sensitivity_18: 0.8886 - sensitivity_at_specificity_18: 0.7426 - auc_18: 0.5216 - precision_18: 0.7136 - recall_18: 0.2564 - val_loss: 0.0427 - val_specificity_at_sensitivity_18: 0.8944 - val_sensitivity_at_specificity_18: 0.7290 - val_auc_18: 0.5180 - val_precision_18: 0.7203 - val_recall_18: 0.2551\n",
            "Epoch 36/50\n",
            "31/31 [==============================] - 3s 104ms/step - loss: 0.0294 - specificity_at_sensitivity_18: 0.8931 - sensitivity_at_specificity_18: 0.7376 - auc_18: 0.5194 - precision_18: 0.7162 - recall_18: 0.2568 - val_loss: 0.0487 - val_specificity_at_sensitivity_18: 0.8828 - val_sensitivity_at_specificity_18: 0.7391 - val_auc_18: 0.5248 - val_precision_18: 0.7019 - val_recall_18: 0.2609\n",
            "Epoch 37/50\n",
            "31/31 [==============================] - 3s 105ms/step - loss: 0.0295 - specificity_at_sensitivity_18: 0.8904 - sensitivity_at_specificity_18: 0.7385 - auc_18: 0.5215 - precision_18: 0.7118 - recall_18: 0.2557 - val_loss: 0.0422 - val_specificity_at_sensitivity_18: 0.8941 - val_sensitivity_at_specificity_18: 0.7332 - val_auc_18: 0.5169 - val_precision_18: 0.7144 - val_recall_18: 0.2553\n",
            "Epoch 38/50\n",
            "31/31 [==============================] - 3s 104ms/step - loss: 0.0292 - specificity_at_sensitivity_18: 0.8921 - sensitivity_at_specificity_18: 0.7363 - auc_18: 0.5197 - precision_18: 0.7146 - recall_18: 0.2552 - val_loss: 0.0554 - val_specificity_at_sensitivity_18: 0.8833 - val_sensitivity_at_specificity_18: 0.7430 - val_auc_18: 0.5197 - val_precision_18: 0.7142 - val_recall_18: 0.2460\n",
            "Epoch 39/50\n",
            "31/31 [==============================] - 3s 104ms/step - loss: 0.0290 - specificity_at_sensitivity_18: 0.8883 - sensitivity_at_specificity_18: 0.7380 - auc_18: 0.5216 - precision_18: 0.7103 - recall_18: 0.2545 - val_loss: 0.0540 - val_specificity_at_sensitivity_18: 0.8831 - val_sensitivity_at_specificity_18: 0.7485 - val_auc_18: 0.5207 - val_precision_18: 0.7135 - val_recall_18: 0.2438\n",
            "Epoch 40/50\n",
            "31/31 [==============================] - 3s 104ms/step - loss: 0.0292 - specificity_at_sensitivity_18: 0.8910 - sensitivity_at_specificity_18: 0.7365 - auc_18: 0.5200 - precision_18: 0.7142 - recall_18: 0.2551 - val_loss: 0.0424 - val_specificity_at_sensitivity_18: 0.9035 - val_sensitivity_at_specificity_18: 0.7203 - val_auc_18: 0.5138 - val_precision_18: 0.7255 - val_recall_18: 0.2545\n",
            "Epoch 41/50\n",
            "31/31 [==============================] - 3s 104ms/step - loss: 0.0296 - specificity_at_sensitivity_18: 0.8959 - sensitivity_at_specificity_18: 0.7358 - auc_18: 0.5185 - precision_18: 0.7199 - recall_18: 0.2555 - val_loss: 0.0515 - val_specificity_at_sensitivity_18: 0.9047 - val_sensitivity_at_specificity_18: 0.7151 - val_auc_18: 0.5108 - val_precision_18: 0.7269 - val_recall_18: 0.2560\n",
            "Epoch 42/50\n",
            "31/31 [==============================] - 3s 104ms/step - loss: 0.0291 - specificity_at_sensitivity_18: 0.9036 - sensitivity_at_specificity_18: 0.7237 - auc_18: 0.5149 - precision_18: 0.7261 - recall_18: 0.2572 - val_loss: 0.0426 - val_specificity_at_sensitivity_18: 0.8977 - val_sensitivity_at_specificity_18: 0.7311 - val_auc_18: 0.5171 - val_precision_18: 0.7243 - val_recall_18: 0.2515\n",
            "Epoch 43/50\n",
            "31/31 [==============================] - 3s 103ms/step - loss: 0.0293 - specificity_at_sensitivity_18: 0.9000 - sensitivity_at_specificity_18: 0.7297 - auc_18: 0.5171 - precision_18: 0.7208 - recall_18: 0.2542 - val_loss: 0.0460 - val_specificity_at_sensitivity_18: 0.9057 - val_sensitivity_at_specificity_18: 0.7124 - val_auc_18: 0.5137 - val_precision_18: 0.7159 - val_recall_18: 0.2625\n",
            "Epoch 44/50\n",
            "31/31 [==============================] - 3s 104ms/step - loss: 0.0296 - specificity_at_sensitivity_18: 0.9045 - sensitivity_at_specificity_18: 0.7203 - auc_18: 0.5144 - precision_18: 0.7248 - recall_18: 0.2555 - val_loss: 0.0469 - val_specificity_at_sensitivity_18: 0.9107 - val_sensitivity_at_specificity_18: 0.7047 - val_auc_18: 0.5075 - val_precision_18: 0.7299 - val_recall_18: 0.2523\n",
            "Epoch 45/50\n",
            "31/31 [==============================] - 3s 105ms/step - loss: 0.0294 - specificity_at_sensitivity_18: 0.9049 - sensitivity_at_specificity_18: 0.7173 - auc_18: 0.5143 - precision_18: 0.7192 - recall_18: 0.2569 - val_loss: 0.0440 - val_specificity_at_sensitivity_18: 0.9022 - val_sensitivity_at_specificity_18: 0.7177 - val_auc_18: 0.5126 - val_precision_18: 0.7235 - val_recall_18: 0.2601\n",
            "Epoch 46/50\n",
            "31/31 [==============================] - 3s 104ms/step - loss: 0.0294 - specificity_at_sensitivity_18: 0.9035 - sensitivity_at_specificity_18: 0.7195 - auc_18: 0.5148 - precision_18: 0.7204 - recall_18: 0.2576 - val_loss: 0.0422 - val_specificity_at_sensitivity_18: 0.9164 - val_sensitivity_at_specificity_18: 0.7029 - val_auc_18: 0.5085 - val_precision_18: 0.7295 - val_recall_18: 0.2621\n",
            "Epoch 47/50\n",
            "31/31 [==============================] - 3s 104ms/step - loss: 0.0290 - specificity_at_sensitivity_18: 0.8996 - sensitivity_at_specificity_18: 0.7203 - auc_18: 0.5170 - precision_18: 0.7146 - recall_18: 0.2574 - val_loss: 0.0520 - val_specificity_at_sensitivity_18: 0.9333 - val_sensitivity_at_specificity_18: 0.6642 - val_auc_18: 0.4959 - val_precision_18: 0.7400 - val_recall_18: 0.2564\n",
            "Epoch 48/50\n",
            "31/31 [==============================] - 3s 104ms/step - loss: 0.0298 - specificity_at_sensitivity_18: 0.9079 - sensitivity_at_specificity_18: 0.7119 - auc_18: 0.5123 - precision_18: 0.7175 - recall_18: 0.2590 - val_loss: 0.0418 - val_specificity_at_sensitivity_18: 0.9168 - val_sensitivity_at_specificity_18: 0.6967 - val_auc_18: 0.5085 - val_precision_18: 0.7262 - val_recall_18: 0.2573\n",
            "Epoch 49/50\n",
            "31/31 [==============================] - 3s 104ms/step - loss: 0.0290 - specificity_at_sensitivity_18: 0.9015 - sensitivity_at_specificity_18: 0.7181 - auc_18: 0.5155 - precision_18: 0.7156 - recall_18: 0.2574 - val_loss: 0.0414 - val_specificity_at_sensitivity_18: 0.9063 - val_sensitivity_at_specificity_18: 0.7212 - val_auc_18: 0.5133 - val_precision_18: 0.7304 - val_recall_18: 0.2593\n",
            "Epoch 50/50\n",
            "31/31 [==============================] - 3s 104ms/step - loss: 0.0293 - specificity_at_sensitivity_18: 0.9063 - sensitivity_at_specificity_18: 0.7163 - auc_18: 0.5129 - precision_18: 0.7223 - recall_18: 0.2599 - val_loss: 0.0437 - val_specificity_at_sensitivity_18: 0.9072 - val_sensitivity_at_specificity_18: 0.7085 - val_auc_18: 0.5121 - val_precision_18: 0.7169 - val_recall_18: 0.2657\n"
          ]
        }
      ]
    },
    {
      "cell_type": "code",
      "source": [
        "\n",
        "training_loss = results.history['loss'][-1]\n",
        "training_spec_at_sens_18 = results.history['specificity_at_sensitivity_18'][-1]\n",
        "training_sens_at_spec_18 = results.history['sensitivity_at_specificity_18'][-1]\n",
        "training_auc = results.history['auc_18'][-1]\n",
        "training_precision = results.history['precision_18'][-1]\n",
        "training_recall = results.history['recall_18'][-1]\n",
        "\n",
        "val_loss = results.history['val_loss'][-1]\n",
        "val_spec_at_sens_18 = results.history['val_specificity_at_sensitivity_18'][-1]\n",
        "val_sens_at_spec_18 = results.history['val_sensitivity_at_specificity_18'][-1]\n",
        "val_auc = results.history['val_auc_18'][-1]\n",
        "val_precision = results.history['val_precision_18'][-1]\n",
        "val_recall = results.history['val_recall_18'][-1]\n",
        "\n",
        "# Print the values individually\n",
        "print(f'Training Loss: {training_loss:.2f}')\n",
        "print(f'Training Specificity at Sensitivity 18: {training_spec_at_sens_18:.2f}')\n",
        "print(f'Training Sensitivity at Specificity 18: {training_sens_at_spec_18:.2f}')\n",
        "print(f'Training AUC: {training_auc:.2f}')\n",
        "print(f'Training Precision: {training_precision:.2f}')\n",
        "print(f'Training Recall: {training_recall:.2f}')\n",
        "\n",
        "print('\\nValidation Metrics:')\n",
        "print(f'Validation Loss: {val_loss:.2f}')\n",
        "print(f'Validation Specificity at Sensitivity 18: {val_spec_at_sens_18:.2f}')\n",
        "print(f'Validation Sensitivity at Specificity 18: {val_sens_at_spec_18:.2f}')\n",
        "print(f'Validation AUC: {val_auc:.2f}')\n",
        "print(f'Validation Precision: {val_precision:.2f}')\n",
        "print(f'Validation Recall: {val_recall:.2f}')"
      ],
      "metadata": {
        "colab": {
          "base_uri": "https://localhost:8080/"
        },
        "id": "QD_4fZHfn25q",
        "outputId": "38f89fc9-9ff1-4038-ced7-c33d883f3d44"
      },
      "execution_count": null,
      "outputs": [
        {
          "output_type": "stream",
          "name": "stdout",
          "text": [
            "Training Loss: 0.03\n",
            "Training Specificity at Sensitivity 18: 0.91\n",
            "Training Sensitivity at Specificity 18: 0.72\n",
            "Training AUC: 0.51\n",
            "Training Precision: 0.72\n",
            "Training Recall: 0.26\n",
            "\n",
            "Validation Metrics:\n",
            "Validation Loss: 0.04\n",
            "Validation Specificity at Sensitivity 18: 0.91\n",
            "Validation Sensitivity at Specificity 18: 0.71\n",
            "Validation AUC: 0.51\n",
            "Validation Precision: 0.72\n",
            "Validation Recall: 0.27\n"
          ]
        }
      ]
    },
    {
      "cell_type": "code",
      "source": [
        "model.save('segmentation_model_edv.h5', save_format='h5')\n"
      ],
      "metadata": {
        "colab": {
          "base_uri": "https://localhost:8080/"
        },
        "id": "kiKOVzeRX2Uo",
        "outputId": "9e753316-a072-4c08-bbae-e4719fad1dd0"
      },
      "execution_count": null,
      "outputs": [
        {
          "output_type": "stream",
          "name": "stderr",
          "text": [
            "/usr/local/lib/python3.10/dist-packages/keras/src/engine/training.py:3079: UserWarning: You are saving your model as an HDF5 file via `model.save()`. This file format is considered legacy. We recommend using instead the native Keras format, e.g. `model.save('my_model.keras')`.\n",
            "  saving_api.save_model(\n"
          ]
        }
      ]
    },
    {
      "cell_type": "code",
      "source": [
        "from tensorflow.keras.models import load_model\n",
        "model_path = \"segmentation_model_edv.h5\"\n",
        "loaded_model = load_model(model_path)\n"
      ],
      "metadata": {
        "id": "ctQYlR01X5gF"
      },
      "execution_count": null,
      "outputs": []
    },
    {
      "cell_type": "code",
      "source": [
        "def prediction(input_image):\n",
        "  input_image=cv2.imread(input_image)\n",
        "  input_image1 = input_image.reshape(1, 112, 112, 3)\n",
        "  predict=loaded_model.predict(input_image1)\n",
        "\n",
        "  threshold = 0.5\n",
        "  binary_mask = (predict > threshold).astype(np.uint8)\n",
        "  segmented_image = (predict * 255).astype(np.uint8)\n",
        "  cv2.imwrite(\"segment.jpg\",segmented_image[0])\n"
      ],
      "metadata": {
        "id": "NVIuCpTrb3aM"
      },
      "execution_count": null,
      "outputs": []
    },
    {
      "cell_type": "code",
      "source": [
        "def extract_green(image_path, output_path):\n",
        "\n",
        "    original_image = cv2.imread(image_path)\n",
        "    hsv_image = cv2.cvtColor(original_image, cv2.COLOR_BGR2HSV)\n",
        "    lower_green = np.array([40, 40, 40])\n",
        "    upper_green = np.array([80, 255, 255])\n",
        "    green_mask = cv2.inRange(hsv_image, lower_green, upper_green)\n",
        "    green_part = cv2.bitwise_and(original_image, original_image, mask=green_mask)\n",
        "    cv2.imwrite(output_path, green_part)\n",
        "\n",
        "\n"
      ],
      "metadata": {
        "id": "KG2pnqgE_Qyb"
      },
      "execution_count": null,
      "outputs": []
    },
    {
      "cell_type": "code",
      "source": [
        "def overlay_green_mask(background_image_path, mask_image_path, output_path):\n",
        "\n",
        "    background_image = cv2.imread(background_image_path)\n",
        "    mask_image = cv2.imread(mask_image_path, cv2.IMREAD_UNCHANGED)\n",
        "    mask_image = cv2.resize(mask_image, (background_image.shape[1], background_image.shape[0]))\n",
        "    inverted_mask = cv2.bitwise_not(mask_image[:, :, 1])\n",
        "    background_without_green = cv2.bitwise_and(background_image, background_image, mask=inverted_mask)\n",
        "    result = cv2.add(background_without_green, mask_image)\n",
        "    cv2.imwrite(output_path, result)\n",
        "\n",
        "\n"
      ],
      "metadata": {
        "id": "RiRL7g-PADf4"
      },
      "execution_count": null,
      "outputs": []
    },
    {
      "cell_type": "code",
      "source": [
        "def plot(input_image):\n",
        "  img1=cv2.imread(\"annotated.jpg\")\n",
        "  img=cv2.imread(\"mask.jpg\")\n",
        "  input_image=cv2.imread(input_image)\n",
        "  plt.figure(figsize=(25, 10))\n",
        "  plt.subplot(1, 4, 1)\n",
        "  plt.imshow(input_image)\n",
        "  plt.title('Test Image')\n",
        "  plt.subplot(1, 4, 2)\n",
        "  plt.imshow(img)\n",
        "  plt.title('Mask')\n",
        "  plt.subplot(1, 4, 3)\n",
        "  plt.imshow(img1)\n",
        "  plt.title('Annotated Image')\n",
        "  plt.show()\n"
      ],
      "metadata": {
        "id": "rqlpDftQiUrX"
      },
      "execution_count": null,
      "outputs": []
    },
    {
      "cell_type": "code",
      "source": [
        "input_image=\"/content/EchoVision Data/EDV/EDV_frames/0X102AE9C68B2C46DA.jpg\"\n",
        "prediction(input_image)\n",
        "extract_green(\"segment.jpg\",\"mask.jpg\")\n",
        "overlay_green_mask(input_image,\"mask.jpg\", \"annotated.jpg\")\n",
        "plot(input_image)"
      ],
      "metadata": {
        "colab": {
          "base_uri": "https://localhost:8080/",
          "height": 399
        },
        "id": "L4ifFi7Ilrks",
        "outputId": "4cded53e-4e87-4359-c42d-a745707afe1d"
      },
      "execution_count": null,
      "outputs": [
        {
          "output_type": "stream",
          "name": "stdout",
          "text": [
            "1/1 [==============================] - 0s 245ms/step\n"
          ]
        },
        {
          "output_type": "display_data",
          "data": {
            "text/plain": [
              "<Figure size 2500x1000 with 3 Axes>"
            ],
            "image/png": "[encoded data removed]"
          },
          "metadata": {}
        }
      ]
    },
    {
      "cell_type": "code",
      "source": [
        "input_image=\"/content/EchoVision Data/EDV/EDV_frames/0X1055D6B76E5D7556.jpg\"\n",
        "prediction(input_image)\n",
        "extract_green(\"segment.jpg\",\"mask.jpg\")\n",
        "overlay_green_mask(input_image,\"mask.jpg\", \"annotated.jpg\")\n",
        "plot(input_image)"
      ],
      "metadata": {
        "colab": {
          "base_uri": "https://localhost:8080/",
          "height": 399
        },
        "id": "7UfzSFA6pYzB",
        "outputId": "1549d132-c336-4bc7-85e0-9b219ea2e9b7"
      },
      "execution_count": null,
      "outputs": [
        {
          "output_type": "stream",
          "name": "stdout",
          "text": [
            "1/1 [==============================] - 0s 18ms/step\n"
          ]
        },
        {
          "output_type": "display_data",
          "data": {
            "text/plain": [
              "<Figure size 2500x1000 with 3 Axes>"
            ],
            "image/png": "[encoded data removed]"
          },
          "metadata": {}
        }
      ]
    },
    {
      "cell_type": "code",
      "source": [
        "input_image=\"/content/EchoVision Data/EDV/EDV_frames/0X10E197789006C3D5.jpg\"\n",
        "prediction(input_image)\n",
        "extract_green(\"segment.jpg\",\"mask.jpg\")\n",
        "overlay_green_mask(input_image,\"mask.jpg\", \"annotated.jpg\")\n",
        "plot(input_image)"
      ],
      "metadata": {
        "colab": {
          "base_uri": "https://localhost:8080/",
          "height": 399
        },
        "id": "zG8ZNVjRp18L",
        "outputId": "1b391f47-51da-497b-eb2c-f590cea08664"
      },
      "execution_count": null,
      "outputs": [
        {
          "output_type": "stream",
          "name": "stdout",
          "text": [
            "1/1 [==============================] - 0s 18ms/step\n"
          ]
        },
        {
          "output_type": "display_data",
          "data": {
            "text/plain": [
              "<Figure size 2500x1000 with 3 Axes>"
            ],
            "image/png": "[encoded data removed]"
          },
          "metadata": {}
        }
      ]
    },
    {
      "cell_type": "markdown",
      "metadata": {
        "id": "gkC8NVtMzBU7"
      },
      "source": [
        "# **ESV**"
      ]
    },
    {
      "cell_type": "code",
      "execution_count": null,
      "metadata": {
        "colab": {
          "base_uri": "https://localhost:8080/",
          "height": 206
        },
        "id": "4fmGLYQT8gUi",
        "outputId": "e15f2929-9114-43b3-bba2-f0ef394efc1f"
      },
      "outputs": [
        {
          "output_type": "execute_result",
          "data": {
            "text/plain": [
              "             FileName         EF        ESV         EDV  FrameHeight  \\\n",
              "0  0X1002E8FBACD08477  59.101988  40.383876   98.742884          112   \n",
              "1  0X1005D03EED19C65B  62.363798  14.267784   37.909734          112   \n",
              "2  0X10075961BC11C88E  54.545097  33.143084   72.914210          112   \n",
              "3  0X100E3B8D3280BEC5  36.573739  81.747281  128.885543          112   \n",
              "4  0X100E491B3CD58DE2  33.991745  76.865569  116.448419          112   \n",
              "\n",
              "   FrameWidth  FPS  NumberOfFrames  Split  \n",
              "0         112   50             215  TRAIN  \n",
              "1         112   50             104  TRAIN  \n",
              "2         112   55             122  TRAIN  \n",
              "3         112   38             101  TRAIN  \n",
              "4         112   50             226  TRAIN  "
            ],
            "text/html": [
              "\n",
              "  <div id=\"df-cf242b19-2f86-48c9-9193-7c3749d2a31c\" class=\"colab-df-container\">\n",
              "    <div>\n",
              "<style scoped>\n",
              "    .dataframe tbody tr th:only-of-type {\n",
              "        vertical-align: middle;\n",
              "    }\n",
              "\n",
              "    .dataframe tbody tr th {\n",
              "        vertical-align: top;\n",
              "    }\n",
              "\n",
              "    .dataframe thead th {\n",
              "        text-align: right;\n",
              "    }\n",
              "</style>\n",
              "<table border=\"1\" class=\"dataframe\">\n",
              "  <thead>\n",
              "    <tr style=\"text-align: right;\">\n",
              "      <th></th>\n",
              "      <th>FileName</th>\n",
              "      <th>EF</th>\n",
              "      <th>ESV</th>\n",
              "      <th>EDV</th>\n",
              "      <th>FrameHeight</th>\n",
              "      <th>FrameWidth</th>\n",
              "      <th>FPS</th>\n",
              "      <th>NumberOfFrames</th>\n",
              "      <th>Split</th>\n",
              "    </tr>\n",
              "  </thead>\n",
              "  <tbody>\n",
              "    <tr>\n",
              "      <th>0</th>\n",
              "      <td>0X1002E8FBACD08477</td>\n",
              "      <td>59.101988</td>\n",
              "      <td>40.383876</td>\n",
              "      <td>98.742884</td>\n",
              "      <td>112</td>\n",
              "      <td>112</td>\n",
              "      <td>50</td>\n",
              "      <td>215</td>\n",
              "      <td>TRAIN</td>\n",
              "    </tr>\n",
              "    <tr>\n",
              "      <th>1</th>\n",
              "      <td>0X1005D03EED19C65B</td>\n",
              "      <td>62.363798</td>\n",
              "      <td>14.267784</td>\n",
              "      <td>37.909734</td>\n",
              "      <td>112</td>\n",
              "      <td>112</td>\n",
              "      <td>50</td>\n",
              "      <td>104</td>\n",
              "      <td>TRAIN</td>\n",
              "    </tr>\n",
              "    <tr>\n",
              "      <th>2</th>\n",
              "      <td>0X10075961BC11C88E</td>\n",
              "      <td>54.545097</td>\n",
              "      <td>33.143084</td>\n",
              "      <td>72.914210</td>\n",
              "      <td>112</td>\n",
              "      <td>112</td>\n",
              "      <td>55</td>\n",
              "      <td>122</td>\n",
              "      <td>TRAIN</td>\n",
              "    </tr>\n",
              "    <tr>\n",
              "      <th>3</th>\n",
              "      <td>0X100E3B8D3280BEC5</td>\n",
              "      <td>36.573739</td>\n",
              "      <td>81.747281</td>\n",
              "      <td>128.885543</td>\n",
              "      <td>112</td>\n",
              "      <td>112</td>\n",
              "      <td>38</td>\n",
              "      <td>101</td>\n",
              "      <td>TRAIN</td>\n",
              "    </tr>\n",
              "    <tr>\n",
              "      <th>4</th>\n",
              "      <td>0X100E491B3CD58DE2</td>\n",
              "      <td>33.991745</td>\n",
              "      <td>76.865569</td>\n",
              "      <td>116.448419</td>\n",
              "      <td>112</td>\n",
              "      <td>112</td>\n",
              "      <td>50</td>\n",
              "      <td>226</td>\n",
              "      <td>TRAIN</td>\n",
              "    </tr>\n",
              "  </tbody>\n",
              "</table>\n",
              "</div>\n",
              "    <div class=\"colab-df-buttons\">\n",
              "\n",
              "  <div class=\"colab-df-container\">\n",
              "    <button class=\"colab-df-convert\" onclick=\"convertToInteractive('df-cf242b19-2f86-48c9-9193-7c3749d2a31c')\"\n",
              "            title=\"Convert this dataframe to an interactive table.\"\n",
              "            style=\"display:none;\">\n",
              "\n",
              "  <svg xmlns=\"http://www.w3.org/2000/svg\" height=\"24px\" viewBox=\"0 -960 960 960\">\n",
              "    <path d=\"M120-120v-720h720v720H120Zm60-500h600v-160H180v160Zm220 220h160v-160H400v160Zm0 220h160v-160H400v160ZM180-400h160v-160H180v160Zm440 0h160v-160H620v160ZM180-180h160v-160H180v160Zm440 0h160v-160H620v160Z\"/>\n",
              "  </svg>\n",
              "    </button>\n",
              "\n",
              "  <style>\n",
              "    .colab-df-container {\n",
              "      display:flex;\n",
              "      gap: 12px;\n",
              "    }\n",
              "\n",
              "    .colab-df-convert {\n",
              "      background-color: #E8F0FE;\n",
              "      border: none;\n",
              "      border-radius: 50%;\n",
              "      cursor: pointer;\n",
              "      display: none;\n",
              "      fill: #1967D2;\n",
              "      height: 32px;\n",
              "      padding: 0 0 0 0;\n",
              "      width: 32px;\n",
              "    }\n",
              "\n",
              "    .colab-df-convert:hover {\n",
              "      background-color: #E2EBFA;\n",
              "      box-shadow: 0px 1px 2px rgba(60, 64, 67, 0.3), 0px 1px 3px 1px rgba(60, 64, 67, 0.15);\n",
              "      fill: #174EA6;\n",
              "    }\n",
              "\n",
              "    .colab-df-buttons div {\n",
              "      margin-bottom: 4px;\n",
              "    }\n",
              "\n",
              "    [theme=dark] .colab-df-convert {\n",
              "      background-color: #3B4455;\n",
              "      fill: #D2E3FC;\n",
              "    }\n",
              "\n",
              "    [theme=dark] .colab-df-convert:hover {\n",
              "      background-color: #434B5C;\n",
              "      box-shadow: 0px 1px 3px 1px rgba(0, 0, 0, 0.15);\n",
              "      filter: drop-shadow(0px 1px 2px rgba(0, 0, 0, 0.3));\n",
              "      fill: #FFFFFF;\n",
              "    }\n",
              "  </style>\n",
              "\n",
              "    <script>\n",
              "      const buttonEl =\n",
              "        document.querySelector('#df-cf242b19-2f86-48c9-9193-7c3749d2a31c button.colab-df-convert');\n",
              "      buttonEl.style.display =\n",
              "        google.colab.kernel.accessAllowed ? 'block' : 'none';\n",
              "\n",
              "      async function convertToInteractive(key) {\n",
              "        const element = document.querySelector('#df-cf242b19-2f86-48c9-9193-7c3749d2a31c');\n",
              "        const dataTable =\n",
              "          await google.colab.kernel.invokeFunction('convertToInteractive',\n",
              "                                                    [key], {});\n",
              "        if (!dataTable) return;\n",
              "\n",
              "        const docLinkHtml = 'Like what you see? Visit the ' +\n",
              "          '<a target=\"_blank\" href=https://colab.research.google.com/notebooks/data_table.ipynb>data table notebook</a>'\n",
              "          + ' to learn more about interactive tables.';\n",
              "        element.innerHTML = '';\n",
              "        dataTable['output_type'] = 'display_data';\n",
              "        await google.colab.output.renderOutput(dataTable, element);\n",
              "        const docLink = document.createElement('div');\n",
              "        docLink.innerHTML = docLinkHtml;\n",
              "        element.appendChild(docLink);\n",
              "      }\n",
              "    </script>\n",
              "  </div>\n",
              "\n",
              "\n",
              "<div id=\"df-5a9b4170-e9dd-4a3b-9478-138ec17da211\">\n",
              "  <button class=\"colab-df-quickchart\" onclick=\"quickchart('df-5a9b4170-e9dd-4a3b-9478-138ec17da211')\"\n",
              "            title=\"Suggest charts\"\n",
              "            style=\"display:none;\">\n",
              "\n",
              "<svg xmlns=\"http://www.w3.org/2000/svg\" height=\"24px\"viewBox=\"0 0 24 24\"\n",
              "     width=\"24px\">\n",
              "    <g>\n",
              "        <path d=\"M19 3H5c-1.1 0-2 .9-2 2v14c0 1.1.9 2 2 2h14c1.1 0 2-.9 2-2V5c0-1.1-.9-2-2-2zM9 17H7v-7h2v7zm4 0h-2V7h2v10zm4 0h-2v-4h2v4z\"/>\n",
              "    </g>\n",
              "</svg>\n",
              "  </button>\n",
              "\n",
              "<style>\n",
              "  .colab-df-quickchart {\n",
              "      --bg-color: #E8F0FE;\n",
              "      --fill-color: #1967D2;\n",
              "      --hover-bg-color: #E2EBFA;\n",
              "      --hover-fill-color: #174EA6;\n",
              "      --disabled-fill-color: #AAA;\n",
              "      --disabled-bg-color: #DDD;\n",
              "  }\n",
              "\n",
              "  [theme=dark] .colab-df-quickchart {\n",
              "      --bg-color: #3B4455;\n",
              "      --fill-color: #D2E3FC;\n",
              "      --hover-bg-color: #434B5C;\n",
              "      --hover-fill-color: #FFFFFF;\n",
              "      --disabled-bg-color: #3B4455;\n",
              "      --disabled-fill-color: #666;\n",
              "  }\n",
              "\n",
              "  .colab-df-quickchart {\n",
              "    background-color: var(--bg-color);\n",
              "    border: none;\n",
              "    border-radius: 50%;\n",
              "    cursor: pointer;\n",
              "    display: none;\n",
              "    fill: var(--fill-color);\n",
              "    height: 32px;\n",
              "    padding: 0;\n",
              "    width: 32px;\n",
              "  }\n",
              "\n",
              "  .colab-df-quickchart:hover {\n",
              "    background-color: var(--hover-bg-color);\n",
              "    box-shadow: 0 1px 2px rgba(60, 64, 67, 0.3), 0 1px 3px 1px rgba(60, 64, 67, 0.15);\n",
              "    fill: var(--button-hover-fill-color);\n",
              "  }\n",
              "\n",
              "  .colab-df-quickchart-complete:disabled,\n",
              "  .colab-df-quickchart-complete:disabled:hover {\n",
              "    background-color: var(--disabled-bg-color);\n",
              "    fill: var(--disabled-fill-color);\n",
              "    box-shadow: none;\n",
              "  }\n",
              "\n",
              "  .colab-df-spinner {\n",
              "    border: 2px solid var(--fill-color);\n",
              "    border-color: transparent;\n",
              "    border-bottom-color: var(--fill-color);\n",
              "    animation:\n",
              "      spin 1s steps(1) infinite;\n",
              "  }\n",
              "\n",
              "  @keyframes spin {\n",
              "    0% {\n",
              "      border-color: transparent;\n",
              "      border-bottom-color: var(--fill-color);\n",
              "      border-left-color: var(--fill-color);\n",
              "    }\n",
              "    20% {\n",
              "      border-color: transparent;\n",
              "      border-left-color: var(--fill-color);\n",
              "      border-top-color: var(--fill-color);\n",
              "    }\n",
              "    30% {\n",
              "      border-color: transparent;\n",
              "      border-left-color: var(--fill-color);\n",
              "      border-top-color: var(--fill-color);\n",
              "      border-right-color: var(--fill-color);\n",
              "    }\n",
              "    40% {\n",
              "      border-color: transparent;\n",
              "      border-right-color: var(--fill-color);\n",
              "      border-top-color: var(--fill-color);\n",
              "    }\n",
              "    60% {\n",
              "      border-color: transparent;\n",
              "      border-right-color: var(--fill-color);\n",
              "    }\n",
              "    80% {\n",
              "      border-color: transparent;\n",
              "      border-right-color: var(--fill-color);\n",
              "      border-bottom-color: var(--fill-color);\n",
              "    }\n",
              "    90% {\n",
              "      border-color: transparent;\n",
              "      border-bottom-color: var(--fill-color);\n",
              "    }\n",
              "  }\n",
              "</style>\n",
              "\n",
              "  <script>\n",
              "    async function quickchart(key) {\n",
              "      const quickchartButtonEl =\n",
              "        document.querySelector('#' + key + ' button');\n",
              "      quickchartButtonEl.disabled = true;  // To prevent multiple clicks.\n",
              "      quickchartButtonEl.classList.add('colab-df-spinner');\n",
              "      try {\n",
              "        const charts = await google.colab.kernel.invokeFunction(\n",
              "            'suggestCharts', [key], {});\n",
              "      } catch (error) {\n",
              "        console.error('Error during call to suggestCharts:', error);\n",
              "      }\n",
              "      quickchartButtonEl.classList.remove('colab-df-spinner');\n",
              "      quickchartButtonEl.classList.add('colab-df-quickchart-complete');\n",
              "    }\n",
              "    (() => {\n",
              "      let quickchartButtonEl =\n",
              "        document.querySelector('#df-5a9b4170-e9dd-4a3b-9478-138ec17da211 button');\n",
              "      quickchartButtonEl.style.display =\n",
              "        google.colab.kernel.accessAllowed ? 'block' : 'none';\n",
              "    })();\n",
              "  </script>\n",
              "</div>\n",
              "\n",
              "    </div>\n",
              "  </div>\n"
            ]
          },
          "metadata": {},
          "execution_count": 452
        }
      ],
      "source": [
        "df=pd.read_csv(\"/content/EchoVision Data/CSVtrain.csv\")\n",
        "df.head()"
      ]
    },
    {
      "cell_type": "code",
      "execution_count": null,
      "metadata": {
        "id": "2av7oLyx80g0"
      },
      "outputs": [],
      "source": [
        "df_val=pd.read_csv(\"/content/EchoVision Data/CSVval.csv\")"
      ]
    },
    {
      "cell_type": "code",
      "execution_count": null,
      "metadata": {
        "colab": {
          "base_uri": "https://localhost:8080/",
          "height": 206
        },
        "id": "zHvezRAI88xT",
        "outputId": "e49ea180-2f1e-43ad-c233-61b6d80fd0f8"
      },
      "outputs": [
        {
          "output_type": "execute_result",
          "data": {
            "text/plain": [
              "             FileName         EF        ESV         EDV  FrameHeight  \\\n",
              "0  0X1002E8FBACD08477  59.101988  40.383876   98.742884          112   \n",
              "1  0X1005D03EED19C65B  62.363798  14.267784   37.909734          112   \n",
              "2  0X10075961BC11C88E  54.545097  33.143084   72.914210          112   \n",
              "3  0X100E3B8D3280BEC5  36.573739  81.747281  128.885543          112   \n",
              "4  0X100E491B3CD58DE2  33.991745  76.865569  116.448419          112   \n",
              "\n",
              "   FrameWidth  FPS  NumberOfFrames  Split  \n",
              "0         112   50             215  TRAIN  \n",
              "1         112   50             104  TRAIN  \n",
              "2         112   55             122  TRAIN  \n",
              "3         112   38             101  TRAIN  \n",
              "4         112   50             226  TRAIN  "
            ],
            "text/html": [
              "\n",
              "  <div id=\"df-04d128e2-395e-470a-9765-9f977b5906d8\" class=\"colab-df-container\">\n",
              "    <div>\n",
              "<style scoped>\n",
              "    .dataframe tbody tr th:only-of-type {\n",
              "        vertical-align: middle;\n",
              "    }\n",
              "\n",
              "    .dataframe tbody tr th {\n",
              "        vertical-align: top;\n",
              "    }\n",
              "\n",
              "    .dataframe thead th {\n",
              "        text-align: right;\n",
              "    }\n",
              "</style>\n",
              "<table border=\"1\" class=\"dataframe\">\n",
              "  <thead>\n",
              "    <tr style=\"text-align: right;\">\n",
              "      <th></th>\n",
              "      <th>FileName</th>\n",
              "      <th>EF</th>\n",
              "      <th>ESV</th>\n",
              "      <th>EDV</th>\n",
              "      <th>FrameHeight</th>\n",
              "      <th>FrameWidth</th>\n",
              "      <th>FPS</th>\n",
              "      <th>NumberOfFrames</th>\n",
              "      <th>Split</th>\n",
              "    </tr>\n",
              "  </thead>\n",
              "  <tbody>\n",
              "    <tr>\n",
              "      <th>0</th>\n",
              "      <td>0X1002E8FBACD08477</td>\n",
              "      <td>59.101988</td>\n",
              "      <td>40.383876</td>\n",
              "      <td>98.742884</td>\n",
              "      <td>112</td>\n",
              "      <td>112</td>\n",
              "      <td>50</td>\n",
              "      <td>215</td>\n",
              "      <td>TRAIN</td>\n",
              "    </tr>\n",
              "    <tr>\n",
              "      <th>1</th>\n",
              "      <td>0X1005D03EED19C65B</td>\n",
              "      <td>62.363798</td>\n",
              "      <td>14.267784</td>\n",
              "      <td>37.909734</td>\n",
              "      <td>112</td>\n",
              "      <td>112</td>\n",
              "      <td>50</td>\n",
              "      <td>104</td>\n",
              "      <td>TRAIN</td>\n",
              "    </tr>\n",
              "    <tr>\n",
              "      <th>2</th>\n",
              "      <td>0X10075961BC11C88E</td>\n",
              "      <td>54.545097</td>\n",
              "      <td>33.143084</td>\n",
              "      <td>72.914210</td>\n",
              "      <td>112</td>\n",
              "      <td>112</td>\n",
              "      <td>55</td>\n",
              "      <td>122</td>\n",
              "      <td>TRAIN</td>\n",
              "    </tr>\n",
              "    <tr>\n",
              "      <th>3</th>\n",
              "      <td>0X100E3B8D3280BEC5</td>\n",
              "      <td>36.573739</td>\n",
              "      <td>81.747281</td>\n",
              "      <td>128.885543</td>\n",
              "      <td>112</td>\n",
              "      <td>112</td>\n",
              "      <td>38</td>\n",
              "      <td>101</td>\n",
              "      <td>TRAIN</td>\n",
              "    </tr>\n",
              "    <tr>\n",
              "      <th>4</th>\n",
              "      <td>0X100E491B3CD58DE2</td>\n",
              "      <td>33.991745</td>\n",
              "      <td>76.865569</td>\n",
              "      <td>116.448419</td>\n",
              "      <td>112</td>\n",
              "      <td>112</td>\n",
              "      <td>50</td>\n",
              "      <td>226</td>\n",
              "      <td>TRAIN</td>\n",
              "    </tr>\n",
              "  </tbody>\n",
              "</table>\n",
              "</div>\n",
              "    <div class=\"colab-df-buttons\">\n",
              "\n",
              "  <div class=\"colab-df-container\">\n",
              "    <button class=\"colab-df-convert\" onclick=\"convertToInteractive('df-04d128e2-395e-470a-9765-9f977b5906d8')\"\n",
              "            title=\"Convert this dataframe to an interactive table.\"\n",
              "            style=\"display:none;\">\n",
              "\n",
              "  <svg xmlns=\"http://www.w3.org/2000/svg\" height=\"24px\" viewBox=\"0 -960 960 960\">\n",
              "    <path d=\"M120-120v-720h720v720H120Zm60-500h600v-160H180v160Zm220 220h160v-160H400v160Zm0 220h160v-160H400v160ZM180-400h160v-160H180v160Zm440 0h160v-160H620v160ZM180-180h160v-160H180v160Zm440 0h160v-160H620v160Z\"/>\n",
              "  </svg>\n",
              "    </button>\n",
              "\n",
              "  <style>\n",
              "    .colab-df-container {\n",
              "      display:flex;\n",
              "      gap: 12px;\n",
              "    }\n",
              "\n",
              "    .colab-df-convert {\n",
              "      background-color: #E8F0FE;\n",
              "      border: none;\n",
              "      border-radius: 50%;\n",
              "      cursor: pointer;\n",
              "      display: none;\n",
              "      fill: #1967D2;\n",
              "      height: 32px;\n",
              "      padding: 0 0 0 0;\n",
              "      width: 32px;\n",
              "    }\n",
              "\n",
              "    .colab-df-convert:hover {\n",
              "      background-color: #E2EBFA;\n",
              "      box-shadow: 0px 1px 2px rgba(60, 64, 67, 0.3), 0px 1px 3px 1px rgba(60, 64, 67, 0.15);\n",
              "      fill: #174EA6;\n",
              "    }\n",
              "\n",
              "    .colab-df-buttons div {\n",
              "      margin-bottom: 4px;\n",
              "    }\n",
              "\n",
              "    [theme=dark] .colab-df-convert {\n",
              "      background-color: #3B4455;\n",
              "      fill: #D2E3FC;\n",
              "    }\n",
              "\n",
              "    [theme=dark] .colab-df-convert:hover {\n",
              "      background-color: #434B5C;\n",
              "      box-shadow: 0px 1px 3px 1px rgba(0, 0, 0, 0.15);\n",
              "      filter: drop-shadow(0px 1px 2px rgba(0, 0, 0, 0.3));\n",
              "      fill: #FFFFFF;\n",
              "    }\n",
              "  </style>\n",
              "\n",
              "    <script>\n",
              "      const buttonEl =\n",
              "        document.querySelector('#df-04d128e2-395e-470a-9765-9f977b5906d8 button.colab-df-convert');\n",
              "      buttonEl.style.display =\n",
              "        google.colab.kernel.accessAllowed ? 'block' : 'none';\n",
              "\n",
              "      async function convertToInteractive(key) {\n",
              "        const element = document.querySelector('#df-04d128e2-395e-470a-9765-9f977b5906d8');\n",
              "        const dataTable =\n",
              "          await google.colab.kernel.invokeFunction('convertToInteractive',\n",
              "                                                    [key], {});\n",
              "        if (!dataTable) return;\n",
              "\n",
              "        const docLinkHtml = 'Like what you see? Visit the ' +\n",
              "          '<a target=\"_blank\" href=https://colab.research.google.com/notebooks/data_table.ipynb>data table notebook</a>'\n",
              "          + ' to learn more about interactive tables.';\n",
              "        element.innerHTML = '';\n",
              "        dataTable['output_type'] = 'display_data';\n",
              "        await google.colab.output.renderOutput(dataTable, element);\n",
              "        const docLink = document.createElement('div');\n",
              "        docLink.innerHTML = docLinkHtml;\n",
              "        element.appendChild(docLink);\n",
              "      }\n",
              "    </script>\n",
              "  </div>\n",
              "\n",
              "\n",
              "<div id=\"df-5db7aeeb-7d22-4dae-b9d8-f25f205bddd3\">\n",
              "  <button class=\"colab-df-quickchart\" onclick=\"quickchart('df-5db7aeeb-7d22-4dae-b9d8-f25f205bddd3')\"\n",
              "            title=\"Suggest charts\"\n",
              "            style=\"display:none;\">\n",
              "\n",
              "<svg xmlns=\"http://www.w3.org/2000/svg\" height=\"24px\"viewBox=\"0 0 24 24\"\n",
              "     width=\"24px\">\n",
              "    <g>\n",
              "        <path d=\"M19 3H5c-1.1 0-2 .9-2 2v14c0 1.1.9 2 2 2h14c1.1 0 2-.9 2-2V5c0-1.1-.9-2-2-2zM9 17H7v-7h2v7zm4 0h-2V7h2v10zm4 0h-2v-4h2v4z\"/>\n",
              "    </g>\n",
              "</svg>\n",
              "  </button>\n",
              "\n",
              "<style>\n",
              "  .colab-df-quickchart {\n",
              "      --bg-color: #E8F0FE;\n",
              "      --fill-color: #1967D2;\n",
              "      --hover-bg-color: #E2EBFA;\n",
              "      --hover-fill-color: #174EA6;\n",
              "      --disabled-fill-color: #AAA;\n",
              "      --disabled-bg-color: #DDD;\n",
              "  }\n",
              "\n",
              "  [theme=dark] .colab-df-quickchart {\n",
              "      --bg-color: #3B4455;\n",
              "      --fill-color: #D2E3FC;\n",
              "      --hover-bg-color: #434B5C;\n",
              "      --hover-fill-color: #FFFFFF;\n",
              "      --disabled-bg-color: #3B4455;\n",
              "      --disabled-fill-color: #666;\n",
              "  }\n",
              "\n",
              "  .colab-df-quickchart {\n",
              "    background-color: var(--bg-color);\n",
              "    border: none;\n",
              "    border-radius: 50%;\n",
              "    cursor: pointer;\n",
              "    display: none;\n",
              "    fill: var(--fill-color);\n",
              "    height: 32px;\n",
              "    padding: 0;\n",
              "    width: 32px;\n",
              "  }\n",
              "\n",
              "  .colab-df-quickchart:hover {\n",
              "    background-color: var(--hover-bg-color);\n",
              "    box-shadow: 0 1px 2px rgba(60, 64, 67, 0.3), 0 1px 3px 1px rgba(60, 64, 67, 0.15);\n",
              "    fill: var(--button-hover-fill-color);\n",
              "  }\n",
              "\n",
              "  .colab-df-quickchart-complete:disabled,\n",
              "  .colab-df-quickchart-complete:disabled:hover {\n",
              "    background-color: var(--disabled-bg-color);\n",
              "    fill: var(--disabled-fill-color);\n",
              "    box-shadow: none;\n",
              "  }\n",
              "\n",
              "  .colab-df-spinner {\n",
              "    border: 2px solid var(--fill-color);\n",
              "    border-color: transparent;\n",
              "    border-bottom-color: var(--fill-color);\n",
              "    animation:\n",
              "      spin 1s steps(1) infinite;\n",
              "  }\n",
              "\n",
              "  @keyframes spin {\n",
              "    0% {\n",
              "      border-color: transparent;\n",
              "      border-bottom-color: var(--fill-color);\n",
              "      border-left-color: var(--fill-color);\n",
              "    }\n",
              "    20% {\n",
              "      border-color: transparent;\n",
              "      border-left-color: var(--fill-color);\n",
              "      border-top-color: var(--fill-color);\n",
              "    }\n",
              "    30% {\n",
              "      border-color: transparent;\n",
              "      border-left-color: var(--fill-color);\n",
              "      border-top-color: var(--fill-color);\n",
              "      border-right-color: var(--fill-color);\n",
              "    }\n",
              "    40% {\n",
              "      border-color: transparent;\n",
              "      border-right-color: var(--fill-color);\n",
              "      border-top-color: var(--fill-color);\n",
              "    }\n",
              "    60% {\n",
              "      border-color: transparent;\n",
              "      border-right-color: var(--fill-color);\n",
              "    }\n",
              "    80% {\n",
              "      border-color: transparent;\n",
              "      border-right-color: var(--fill-color);\n",
              "      border-bottom-color: var(--fill-color);\n",
              "    }\n",
              "    90% {\n",
              "      border-color: transparent;\n",
              "      border-bottom-color: var(--fill-color);\n",
              "    }\n",
              "  }\n",
              "</style>\n",
              "\n",
              "  <script>\n",
              "    async function quickchart(key) {\n",
              "      const quickchartButtonEl =\n",
              "        document.querySelector('#' + key + ' button');\n",
              "      quickchartButtonEl.disabled = true;  // To prevent multiple clicks.\n",
              "      quickchartButtonEl.classList.add('colab-df-spinner');\n",
              "      try {\n",
              "        const charts = await google.colab.kernel.invokeFunction(\n",
              "            'suggestCharts', [key], {});\n",
              "      } catch (error) {\n",
              "        console.error('Error during call to suggestCharts:', error);\n",
              "      }\n",
              "      quickchartButtonEl.classList.remove('colab-df-spinner');\n",
              "      quickchartButtonEl.classList.add('colab-df-quickchart-complete');\n",
              "    }\n",
              "    (() => {\n",
              "      let quickchartButtonEl =\n",
              "        document.querySelector('#df-5db7aeeb-7d22-4dae-b9d8-f25f205bddd3 button');\n",
              "      quickchartButtonEl.style.display =\n",
              "        google.colab.kernel.accessAllowed ? 'block' : 'none';\n",
              "    })();\n",
              "  </script>\n",
              "</div>\n",
              "\n",
              "    </div>\n",
              "  </div>\n"
            ]
          },
          "metadata": {},
          "execution_count": 454
        }
      ],
      "source": [
        "df.head()"
      ]
    },
    {
      "cell_type": "code",
      "execution_count": null,
      "metadata": {
        "id": "IQ94QFdC9WzJ"
      },
      "outputs": [],
      "source": [
        "def data(files,df):\n",
        "  annotated=[]\n",
        "  esv_values=[]\n",
        "  for value1, value2 in zip(df['FileName'], df['ESV']):\n",
        "    f=value1+\".jpg\"\n",
        "    if os.path.exists(os.path.join(files,f )):\n",
        "          img = cv2.imread(os.path.join(files,f ))\n",
        "\n",
        "          img=np.asarray(img)\n",
        "          annotated.append(img)\n",
        "\n",
        "          esv_values.append(value2)\n",
        "  annotated=np.asarray(annotated)\n",
        "  esv_values=np.asarray(esv_values)\n",
        "  return annotated,esv_values\n"
      ]
    },
    {
      "cell_type": "code",
      "execution_count": null,
      "metadata": {
        "id": "aqgr0eso9gIi"
      },
      "outputs": [],
      "source": [
        "files=\"/content/EchoVision Data/ESV/ESV_annotated\"\n",
        "\n",
        "df=pd.read_csv(\"/content/EchoVision Data/CSVtrain.csv\")\n",
        "annotated_train,esv_values_train=data(files,df)"
      ]
    },
    {
      "cell_type": "code",
      "execution_count": null,
      "metadata": {
        "colab": {
          "base_uri": "https://localhost:8080/"
        },
        "id": "jhLI-39J_1iQ",
        "outputId": "81530493-d3e1-471f-bd82-c7f7981ca807"
      },
      "outputs": [
        {
          "output_type": "execute_result",
          "data": {
            "text/plain": [
              "(3597, 112, 112, 3)"
            ]
          },
          "metadata": {},
          "execution_count": 457
        }
      ],
      "source": [
        "annotated_train.shape"
      ]
    },
    {
      "cell_type": "code",
      "execution_count": null,
      "metadata": {
        "colab": {
          "base_uri": "https://localhost:8080/"
        },
        "id": "xiE14j-RdgW3",
        "outputId": "da678594-5898-4447-f348-d98ab1fd3cac"
      },
      "outputs": [
        {
          "output_type": "execute_result",
          "data": {
            "text/plain": [
              "(3597,)"
            ]
          },
          "metadata": {},
          "execution_count": 458
        }
      ],
      "source": [
        "esv_values_train.shape"
      ]
    },
    {
      "cell_type": "code",
      "execution_count": null,
      "metadata": {
        "id": "OgoKzMD99lte"
      },
      "outputs": [],
      "source": [
        "files=\"/content/EchoVision Data/ESV/ESV_annotated\"\n",
        "df=pd.read_csv(\"/content/EchoVision Data/CSVval.csv\")\n",
        "annotated_val,esv_values_val=data(files,df)"
      ]
    },
    {
      "cell_type": "code",
      "execution_count": null,
      "metadata": {
        "colab": {
          "base_uri": "https://localhost:8080/"
        },
        "id": "2LKFRBo9Wbbo",
        "outputId": "4a2f3719-3a82-491b-9da4-d4836c88381f"
      },
      "outputs": [
        {
          "output_type": "execute_result",
          "data": {
            "text/plain": [
              "(633,)"
            ]
          },
          "metadata": {},
          "execution_count": 460
        }
      ],
      "source": [
        "esv_values_val.shape"
      ]
    },
    {
      "cell_type": "code",
      "execution_count": null,
      "metadata": {
        "colab": {
          "base_uri": "https://localhost:8080/"
        },
        "id": "sndscXZXAWs-",
        "outputId": "6ede08e2-6281-4605-8d03-84f15d9197f8"
      },
      "outputs": [
        {
          "output_type": "execute_result",
          "data": {
            "text/plain": [
              "(633, 112, 112, 3)"
            ]
          },
          "metadata": {},
          "execution_count": 461
        }
      ],
      "source": [
        "annotated_val.shape"
      ]
    },
    {
      "cell_type": "code",
      "execution_count": null,
      "metadata": {
        "id": "6gyIsv_4S-wR"
      },
      "outputs": [],
      "source": [
        "annotated_training = np.concatenate((annotated_train, annotated_val), axis=0)\n",
        "\n",
        "\n",
        "annotated_training_esv = np.concatenate((esv_values_train, esv_values_val), axis=0)\n"
      ]
    },
    {
      "cell_type": "code",
      "execution_count": null,
      "metadata": {
        "colab": {
          "base_uri": "https://localhost:8080/"
        },
        "id": "9tiaVLdNFfi6",
        "outputId": "8222996b-e825-4272-bf23-6e06582bf2c2"
      },
      "outputs": [
        {
          "output_type": "execute_result",
          "data": {
            "text/plain": [
              "(4230, 112, 112, 3)"
            ]
          },
          "metadata": {},
          "execution_count": 463
        }
      ],
      "source": [
        "annotated_training.shape"
      ]
    },
    {
      "cell_type": "code",
      "execution_count": null,
      "metadata": {
        "id": "yCD5raxsBDGo"
      },
      "outputs": [],
      "source": [
        "import tensorflow as tf\n",
        "from tensorflow import keras\n",
        "\n",
        "def build_densenet(input_shape):\n",
        "    model = keras.applications.DenseNet121(\n",
        "        include_top=False,\n",
        "        weights=None,\n",
        "        input_tensor=keras.layers.Input(shape=input_shape),\n",
        "        pooling='avg',\n",
        "    )\n",
        "\n",
        "    for layer in model.layers:\n",
        "        layer.trainable = True\n",
        "\n",
        "    x = keras.layers.Dense(128, activation='relu', kernel_regularizer=keras.regularizers.l2(0.01))(model.layers[-1].output)\n",
        "    x = keras.layers.BatchNormalization()(x)\n",
        "    x = keras.layers.Dropout(0.5)(x)\n",
        "    x = keras.layers.Dense(64, activation='relu', kernel_regularizer=keras.regularizers.l2(0.01))(x)\n",
        "    x = keras.layers.BatchNormalization()(x)\n",
        "\n",
        "    output = keras.layers.Dense(1, activation='linear')(x)\n",
        "\n",
        "    model = keras.Model(inputs=model.input, outputs=output)\n",
        "\n",
        "    # Implement early stopping\n",
        "    early_stopping = keras.callbacks.EarlyStopping(monitor='val_loss', patience=10, restore_best_weights=True)\n",
        "\n",
        "    return model, early_stopping\n",
        "\n"
      ]
    },
    {
      "cell_type": "code",
      "execution_count": null,
      "metadata": {
        "colab": {
          "base_uri": "https://localhost:8080/"
        },
        "id": "H1iH37C7BLNc",
        "outputId": "af9dbc74-fd01-4e87-825f-dec01caec397"
      },
      "outputs": [
        {
          "output_type": "stream",
          "name": "stdout",
          "text": [
            "Epoch 1/100\n",
            "101/101 [==============================] - 61s 116ms/step - loss: 43.6251 - root_mean_squared_error: 56.3696 - val_loss: 248.5997 - val_root_mean_squared_error: 253.6427\n",
            "Epoch 2/100\n",
            "101/101 [==============================] - 8s 80ms/step - loss: 39.2361 - root_mean_squared_error: 53.9752 - val_loss: 173.8003 - val_root_mean_squared_error: 188.9473\n",
            "Epoch 3/100\n",
            "101/101 [==============================] - 8s 81ms/step - loss: 32.5423 - root_mean_squared_error: 48.5557 - val_loss: 32896.3398 - val_root_mean_squared_error: 34896.2773\n",
            "Epoch 4/100\n",
            "101/101 [==============================] - 8s 80ms/step - loss: 24.3840 - root_mean_squared_error: 41.7299 - val_loss: 93731.4844 - val_root_mean_squared_error: 96969.6094\n",
            "Epoch 5/100\n",
            "101/101 [==============================] - 8s 80ms/step - loss: 19.1726 - root_mean_squared_error: 36.2056 - val_loss: 747.7093 - val_root_mean_squared_error: 783.3352\n",
            "Epoch 6/100\n",
            "101/101 [==============================] - 8s 79ms/step - loss: 17.6849 - root_mean_squared_error: 32.9701 - val_loss: 758.9429 - val_root_mean_squared_error: 811.5733\n",
            "Epoch 7/100\n",
            "101/101 [==============================] - 8s 81ms/step - loss: 17.2495 - root_mean_squared_error: 31.9250 - val_loss: 26.7330 - val_root_mean_squared_error: 46.9826\n",
            "Epoch 8/100\n",
            "101/101 [==============================] - 8s 81ms/step - loss: 16.6987 - root_mean_squared_error: 30.3443 - val_loss: 199.6030 - val_root_mean_squared_error: 216.2831\n",
            "Epoch 9/100\n",
            "101/101 [==============================] - 8s 80ms/step - loss: 16.8646 - root_mean_squared_error: 30.1003 - val_loss: 401.2974 - val_root_mean_squared_error: 451.5971\n",
            "Epoch 10/100\n",
            "101/101 [==============================] - 8s 80ms/step - loss: 16.0456 - root_mean_squared_error: 28.8706 - val_loss: 86.3408 - val_root_mean_squared_error: 128.8398\n",
            "Epoch 11/100\n",
            "101/101 [==============================] - 8s 79ms/step - loss: 15.6518 - root_mean_squared_error: 27.9097 - val_loss: 397.0116 - val_root_mean_squared_error: 439.6404\n",
            "Epoch 12/100\n",
            "101/101 [==============================] - 8s 80ms/step - loss: 15.5161 - root_mean_squared_error: 27.4403 - val_loss: 225.2861 - val_root_mean_squared_error: 284.2669\n",
            "Epoch 13/100\n",
            "101/101 [==============================] - 8s 79ms/step - loss: 14.8700 - root_mean_squared_error: 26.2681 - val_loss: 15.0879 - val_root_mean_squared_error: 23.7251\n",
            "Epoch 14/100\n",
            "101/101 [==============================] - 8s 79ms/step - loss: 14.7172 - root_mean_squared_error: 26.2352 - val_loss: 419.5154 - val_root_mean_squared_error: 494.6990\n",
            "Epoch 15/100\n",
            "101/101 [==============================] - 8s 80ms/step - loss: 14.1604 - root_mean_squared_error: 25.1191 - val_loss: 127.4242 - val_root_mean_squared_error: 157.6960\n",
            "Epoch 16/100\n",
            "101/101 [==============================] - 8s 79ms/step - loss: 14.5338 - root_mean_squared_error: 25.9547 - val_loss: 12.7480 - val_root_mean_squared_error: 20.7129\n",
            "Epoch 17/100\n",
            "101/101 [==============================] - 8s 81ms/step - loss: 13.6969 - root_mean_squared_error: 24.5056 - val_loss: 14.9101 - val_root_mean_squared_error: 26.1405\n",
            "Epoch 18/100\n",
            "101/101 [==============================] - 8s 82ms/step - loss: 13.9399 - root_mean_squared_error: 24.7831 - val_loss: 16.8888 - val_root_mean_squared_error: 30.1849\n",
            "Epoch 19/100\n",
            "101/101 [==============================] - 8s 82ms/step - loss: 14.1572 - root_mean_squared_error: 24.9857 - val_loss: 42.7246 - val_root_mean_squared_error: 61.6691\n",
            "Epoch 20/100\n",
            "101/101 [==============================] - 8s 80ms/step - loss: 13.4829 - root_mean_squared_error: 24.1508 - val_loss: 67.9170 - val_root_mean_squared_error: 80.9541\n",
            "Epoch 21/100\n",
            "101/101 [==============================] - 8s 80ms/step - loss: 13.1611 - root_mean_squared_error: 23.7600 - val_loss: 13.5999 - val_root_mean_squared_error: 21.9532\n",
            "Epoch 22/100\n",
            "101/101 [==============================] - 8s 81ms/step - loss: 13.0338 - root_mean_squared_error: 23.4461 - val_loss: 13.2906 - val_root_mean_squared_error: 20.6756\n",
            "Epoch 23/100\n",
            "101/101 [==============================] - 8s 81ms/step - loss: 12.8989 - root_mean_squared_error: 23.1926 - val_loss: 13.6167 - val_root_mean_squared_error: 20.1841\n",
            "Epoch 24/100\n",
            "101/101 [==============================] - 8s 81ms/step - loss: 12.7646 - root_mean_squared_error: 22.8537 - val_loss: 72.4512 - val_root_mean_squared_error: 82.2168\n",
            "Epoch 25/100\n",
            "101/101 [==============================] - 8s 81ms/step - loss: 12.6719 - root_mean_squared_error: 22.5829 - val_loss: 14.2129 - val_root_mean_squared_error: 23.1511\n",
            "Epoch 26/100\n",
            "101/101 [==============================] - 8s 80ms/step - loss: 12.9268 - root_mean_squared_error: 23.3672 - val_loss: 21.1998 - val_root_mean_squared_error: 30.0806\n",
            "Epoch 27/100\n",
            "101/101 [==============================] - 8s 80ms/step - loss: 12.4201 - root_mean_squared_error: 22.4225 - val_loss: 41.1522 - val_root_mean_squared_error: 62.0567\n",
            "Epoch 28/100\n",
            "101/101 [==============================] - 8s 81ms/step - loss: 12.3657 - root_mean_squared_error: 22.3897 - val_loss: 18.3611 - val_root_mean_squared_error: 30.4405\n",
            "Epoch 29/100\n",
            "101/101 [==============================] - 8s 80ms/step - loss: 12.0763 - root_mean_squared_error: 21.8277 - val_loss: 57.9141 - val_root_mean_squared_error: 72.6148\n",
            "Epoch 30/100\n",
            "101/101 [==============================] - 8s 80ms/step - loss: 11.9767 - root_mean_squared_error: 22.0915 - val_loss: 16.7603 - val_root_mean_squared_error: 26.8104\n",
            "Epoch 31/100\n",
            "101/101 [==============================] - 8s 80ms/step - loss: 11.8287 - root_mean_squared_error: 21.9808 - val_loss: 29.7940 - val_root_mean_squared_error: 40.5300\n",
            "Epoch 32/100\n",
            "101/101 [==============================] - 8s 79ms/step - loss: 11.7580 - root_mean_squared_error: 21.7030 - val_loss: 14.9096 - val_root_mean_squared_error: 27.3666\n",
            "Epoch 33/100\n",
            "101/101 [==============================] - 8s 80ms/step - loss: 12.3040 - root_mean_squared_error: 22.0043 - val_loss: 17.1443 - val_root_mean_squared_error: 29.9906\n",
            "Epoch 34/100\n",
            "101/101 [==============================] - 8s 78ms/step - loss: 11.8562 - root_mean_squared_error: 21.4781 - val_loss: 103.2578 - val_root_mean_squared_error: 136.2898\n",
            "Epoch 35/100\n",
            "101/101 [==============================] - 8s 80ms/step - loss: 11.8107 - root_mean_squared_error: 21.6030 - val_loss: 15.4691 - val_root_mean_squared_error: 19.6687\n",
            "Epoch 36/100\n",
            "101/101 [==============================] - 8s 79ms/step - loss: 11.3102 - root_mean_squared_error: 20.7321 - val_loss: 45.5363 - val_root_mean_squared_error: 62.5606\n",
            "Epoch 37/100\n",
            "101/101 [==============================] - 8s 79ms/step - loss: 11.1394 - root_mean_squared_error: 20.8177 - val_loss: 9.9707 - val_root_mean_squared_error: 16.8872\n",
            "Epoch 38/100\n",
            "101/101 [==============================] - 8s 80ms/step - loss: 11.4426 - root_mean_squared_error: 21.0344 - val_loss: 10.2419 - val_root_mean_squared_error: 16.8055\n",
            "Epoch 39/100\n",
            "101/101 [==============================] - 8s 80ms/step - loss: 11.0513 - root_mean_squared_error: 20.4956 - val_loss: 13.9816 - val_root_mean_squared_error: 21.6978\n",
            "Epoch 40/100\n",
            "101/101 [==============================] - 8s 81ms/step - loss: 10.8953 - root_mean_squared_error: 19.9613 - val_loss: 15.9415 - val_root_mean_squared_error: 29.5524\n",
            "Epoch 41/100\n",
            "101/101 [==============================] - 8s 80ms/step - loss: 10.8255 - root_mean_squared_error: 19.6639 - val_loss: 15.9467 - val_root_mean_squared_error: 24.8427\n",
            "Epoch 42/100\n",
            "101/101 [==============================] - 8s 81ms/step - loss: 10.8370 - root_mean_squared_error: 19.6018 - val_loss: 15.1670 - val_root_mean_squared_error: 26.0926\n",
            "Epoch 43/100\n",
            "101/101 [==============================] - 8s 79ms/step - loss: 10.6807 - root_mean_squared_error: 19.7002 - val_loss: 11.0106 - val_root_mean_squared_error: 17.7842\n",
            "Epoch 44/100\n",
            "101/101 [==============================] - 8s 80ms/step - loss: 10.4668 - root_mean_squared_error: 19.5994 - val_loss: 13.0527 - val_root_mean_squared_error: 23.4834\n",
            "Epoch 45/100\n",
            "101/101 [==============================] - 8s 80ms/step - loss: 10.6463 - root_mean_squared_error: 19.7616 - val_loss: 11.9763 - val_root_mean_squared_error: 20.4396\n",
            "Epoch 46/100\n",
            "101/101 [==============================] - 8s 78ms/step - loss: 10.5967 - root_mean_squared_error: 19.7462 - val_loss: 21.4686 - val_root_mean_squared_error: 34.8293\n",
            "Epoch 47/100\n",
            "101/101 [==============================] - 8s 81ms/step - loss: 10.3648 - root_mean_squared_error: 19.7399 - val_loss: 9.8571 - val_root_mean_squared_error: 17.2503\n",
            "Epoch 48/100\n",
            "101/101 [==============================] - 8s 79ms/step - loss: 10.1088 - root_mean_squared_error: 18.8811 - val_loss: 10.7875 - val_root_mean_squared_error: 16.2936\n",
            "Epoch 49/100\n",
            "101/101 [==============================] - 8s 79ms/step - loss: 10.1872 - root_mean_squared_error: 19.2892 - val_loss: 32.8315 - val_root_mean_squared_error: 43.7663\n",
            "Epoch 50/100\n",
            "101/101 [==============================] - 8s 80ms/step - loss: 9.9786 - root_mean_squared_error: 18.7856 - val_loss: 24.8023 - val_root_mean_squared_error: 35.7528\n",
            "Epoch 51/100\n",
            "101/101 [==============================] - 8s 80ms/step - loss: 10.0926 - root_mean_squared_error: 18.8610 - val_loss: 17.0501 - val_root_mean_squared_error: 24.7056\n",
            "Epoch 52/100\n",
            "101/101 [==============================] - 8s 79ms/step - loss: 10.0580 - root_mean_squared_error: 19.0354 - val_loss: 89.3961 - val_root_mean_squared_error: 109.9679\n",
            "Epoch 53/100\n",
            "101/101 [==============================] - 8s 80ms/step - loss: 9.7842 - root_mean_squared_error: 18.8553 - val_loss: 16.1540 - val_root_mean_squared_error: 24.3943\n",
            "Epoch 54/100\n",
            "101/101 [==============================] - 8s 79ms/step - loss: 10.1857 - root_mean_squared_error: 19.6798 - val_loss: 9.0523 - val_root_mean_squared_error: 17.5704\n",
            "Epoch 55/100\n",
            "101/101 [==============================] - 8s 78ms/step - loss: 9.6847 - root_mean_squared_error: 18.9496 - val_loss: 16.2293 - val_root_mean_squared_error: 26.5771\n",
            "Epoch 56/100\n",
            "101/101 [==============================] - 8s 80ms/step - loss: 10.0343 - root_mean_squared_error: 19.7531 - val_loss: 64.9521 - val_root_mean_squared_error: 82.5207\n",
            "Epoch 57/100\n",
            "101/101 [==============================] - 8s 79ms/step - loss: 9.5367 - root_mean_squared_error: 18.2674 - val_loss: 13.8797 - val_root_mean_squared_error: 24.4319\n",
            "Epoch 58/100\n",
            "101/101 [==============================] - 8s 79ms/step - loss: 9.5583 - root_mean_squared_error: 18.3109 - val_loss: 24.3345 - val_root_mean_squared_error: 37.6757\n",
            "Epoch 59/100\n",
            "101/101 [==============================] - 8s 79ms/step - loss: 9.7308 - root_mean_squared_error: 18.7129 - val_loss: 8.9576 - val_root_mean_squared_error: 17.0058\n",
            "Epoch 60/100\n",
            "101/101 [==============================] - 8s 79ms/step - loss: 9.5989 - root_mean_squared_error: 19.1659 - val_loss: 13.1748 - val_root_mean_squared_error: 21.7620\n",
            "Epoch 61/100\n",
            "101/101 [==============================] - 8s 80ms/step - loss: 9.4352 - root_mean_squared_error: 18.4716 - val_loss: 10.7140 - val_root_mean_squared_error: 17.6444\n",
            "Epoch 62/100\n",
            "101/101 [==============================] - 8s 79ms/step - loss: 9.2934 - root_mean_squared_error: 18.3286 - val_loss: 22.5194 - val_root_mean_squared_error: 32.1905\n",
            "Epoch 63/100\n",
            "101/101 [==============================] - 8s 79ms/step - loss: 9.0246 - root_mean_squared_error: 17.7157 - val_loss: 24.6520 - val_root_mean_squared_error: 36.4583\n",
            "Epoch 64/100\n",
            "101/101 [==============================] - 8s 81ms/step - loss: 9.2872 - root_mean_squared_error: 18.1196 - val_loss: 14.0857 - val_root_mean_squared_error: 21.7283\n",
            "Epoch 65/100\n",
            "101/101 [==============================] - 8s 80ms/step - loss: 9.0608 - root_mean_squared_error: 17.5668 - val_loss: 32.8079 - val_root_mean_squared_error: 42.7793\n",
            "Epoch 66/100\n",
            "101/101 [==============================] - 8s 78ms/step - loss: 9.0989 - root_mean_squared_error: 17.9583 - val_loss: 8.2048 - val_root_mean_squared_error: 15.1098\n",
            "Epoch 67/100\n",
            "101/101 [==============================] - 8s 80ms/step - loss: 8.9853 - root_mean_squared_error: 17.8702 - val_loss: 25.9044 - val_root_mean_squared_error: 40.3807\n",
            "Epoch 68/100\n",
            "101/101 [==============================] - 8s 81ms/step - loss: 8.8250 - root_mean_squared_error: 17.8704 - val_loss: 7.1931 - val_root_mean_squared_error: 13.8209\n",
            "Epoch 69/100\n",
            "101/101 [==============================] - 8s 78ms/step - loss: 8.7972 - root_mean_squared_error: 17.5799 - val_loss: 10.1951 - val_root_mean_squared_error: 15.8370\n",
            "Epoch 70/100\n",
            "101/101 [==============================] - 8s 81ms/step - loss: 8.9635 - root_mean_squared_error: 17.7500 - val_loss: 26.1574 - val_root_mean_squared_error: 34.2910\n",
            "Epoch 71/100\n",
            "101/101 [==============================] - 8s 79ms/step - loss: 8.6613 - root_mean_squared_error: 17.1149 - val_loss: 6.9527 - val_root_mean_squared_error: 12.2353\n",
            "Epoch 72/100\n",
            "101/101 [==============================] - 8s 79ms/step - loss: 8.9006 - root_mean_squared_error: 17.9709 - val_loss: 45.4542 - val_root_mean_squared_error: 54.4375\n",
            "Epoch 73/100\n",
            "101/101 [==============================] - 8s 79ms/step - loss: 8.2556 - root_mean_squared_error: 17.2644 - val_loss: 22.0797 - val_root_mean_squared_error: 31.5852\n",
            "Epoch 74/100\n",
            "101/101 [==============================] - 8s 79ms/step - loss: 8.4388 - root_mean_squared_error: 16.9383 - val_loss: 9.2414 - val_root_mean_squared_error: 16.5013\n",
            "Epoch 75/100\n",
            "101/101 [==============================] - 8s 79ms/step - loss: 8.7637 - root_mean_squared_error: 17.5155 - val_loss: 9.8727 - val_root_mean_squared_error: 18.1394\n",
            "Epoch 76/100\n",
            "101/101 [==============================] - 8s 80ms/step - loss: 8.6000 - root_mean_squared_error: 17.7401 - val_loss: 9.0908 - val_root_mean_squared_error: 17.8986\n",
            "Epoch 77/100\n",
            "101/101 [==============================] - 8s 81ms/step - loss: 8.4026 - root_mean_squared_error: 17.7447 - val_loss: 7.8630 - val_root_mean_squared_error: 13.4037\n",
            "Epoch 78/100\n",
            "101/101 [==============================] - 8s 81ms/step - loss: 8.2908 - root_mean_squared_error: 17.2257 - val_loss: 16.5184 - val_root_mean_squared_error: 25.5145\n",
            "Epoch 79/100\n",
            "101/101 [==============================] - 8s 81ms/step - loss: 8.1761 - root_mean_squared_error: 16.8768 - val_loss: 8.8316 - val_root_mean_squared_error: 15.4242\n",
            "Epoch 80/100\n",
            "101/101 [==============================] - 8s 82ms/step - loss: 8.3691 - root_mean_squared_error: 17.3627 - val_loss: 14.6363 - val_root_mean_squared_error: 25.6981\n",
            "Epoch 81/100\n",
            "101/101 [==============================] - 8s 80ms/step - loss: 8.7068 - root_mean_squared_error: 18.0827 - val_loss: 6.1954 - val_root_mean_squared_error: 12.7161\n",
            "Epoch 82/100\n",
            "101/101 [==============================] - 8s 81ms/step - loss: 8.3250 - root_mean_squared_error: 17.8536 - val_loss: 10.4065 - val_root_mean_squared_error: 14.5367\n",
            "Epoch 83/100\n",
            "101/101 [==============================] - 8s 80ms/step - loss: 8.2993 - root_mean_squared_error: 17.2317 - val_loss: 9.2154 - val_root_mean_squared_error: 17.9864\n",
            "Epoch 84/100\n",
            "101/101 [==============================] - 8s 80ms/step - loss: 8.2955 - root_mean_squared_error: 17.3153 - val_loss: 15.9899 - val_root_mean_squared_error: 25.8100\n",
            "Epoch 85/100\n",
            "101/101 [==============================] - 8s 81ms/step - loss: 8.3604 - root_mean_squared_error: 17.0920 - val_loss: 9.0400 - val_root_mean_squared_error: 15.6487\n",
            "Epoch 86/100\n",
            "101/101 [==============================] - 8s 80ms/step - loss: 8.1791 - root_mean_squared_error: 16.9469 - val_loss: 8.2366 - val_root_mean_squared_error: 13.5854\n",
            "Epoch 87/100\n",
            "101/101 [==============================] - 8s 79ms/step - loss: 8.4516 - root_mean_squared_error: 17.4088 - val_loss: 31.5865 - val_root_mean_squared_error: 44.6646\n",
            "Epoch 88/100\n",
            "101/101 [==============================] - 8s 80ms/step - loss: 8.1667 - root_mean_squared_error: 17.6006 - val_loss: 10.7675 - val_root_mean_squared_error: 19.2371\n",
            "Epoch 89/100\n",
            "101/101 [==============================] - 8s 81ms/step - loss: 8.2808 - root_mean_squared_error: 17.3535 - val_loss: 9.4884 - val_root_mean_squared_error: 17.1587\n",
            "Epoch 90/100\n",
            "101/101 [==============================] - 8s 79ms/step - loss: 8.2725 - root_mean_squared_error: 17.1289 - val_loss: 11.0292 - val_root_mean_squared_error: 18.8937\n",
            "Epoch 91/100\n",
            "101/101 [==============================] - 8s 81ms/step - loss: 7.7817 - root_mean_squared_error: 16.6739 - val_loss: 15.6974 - val_root_mean_squared_error: 24.8275\n",
            "Epoch 92/100\n",
            "101/101 [==============================] - 8s 81ms/step - loss: 7.6882 - root_mean_squared_error: 16.4044 - val_loss: 8.4162 - val_root_mean_squared_error: 16.4046\n",
            "Epoch 93/100\n",
            "101/101 [==============================] - 8s 80ms/step - loss: 8.0134 - root_mean_squared_error: 16.8837 - val_loss: 9.5890 - val_root_mean_squared_error: 17.7524\n",
            "Epoch 94/100\n",
            "101/101 [==============================] - 8s 82ms/step - loss: 7.9139 - root_mean_squared_error: 16.9357 - val_loss: 5.8237 - val_root_mean_squared_error: 13.1707\n",
            "Epoch 95/100\n",
            "101/101 [==============================] - 8s 80ms/step - loss: 8.0197 - root_mean_squared_error: 16.7909 - val_loss: 6.0483 - val_root_mean_squared_error: 10.5126\n",
            "Epoch 96/100\n",
            "101/101 [==============================] - 8s 80ms/step - loss: 7.7143 - root_mean_squared_error: 16.6579 - val_loss: 8.3995 - val_root_mean_squared_error: 15.7653\n",
            "Epoch 97/100\n",
            "101/101 [==============================] - 8s 80ms/step - loss: 8.1695 - root_mean_squared_error: 17.4197 - val_loss: 7.8341 - val_root_mean_squared_error: 10.8973\n",
            "Epoch 98/100\n",
            "101/101 [==============================] - 8s 80ms/step - loss: 7.7498 - root_mean_squared_error: 16.7681 - val_loss: 22.3106 - val_root_mean_squared_error: 27.3395\n",
            "Epoch 99/100\n",
            "101/101 [==============================] - 8s 79ms/step - loss: 7.6646 - root_mean_squared_error: 16.5065 - val_loss: 5.5998 - val_root_mean_squared_error: 10.4907\n",
            "Epoch 100/100\n",
            "101/101 [==============================] - 8s 80ms/step - loss: 7.5707 - root_mean_squared_error: 16.0865 - val_loss: 6.4117 - val_root_mean_squared_error: 11.1825\n"
          ]
        },
        {
          "output_type": "stream",
          "name": "stderr",
          "text": [
            "/usr/local/lib/python3.10/dist-packages/keras/src/engine/training.py:3079: UserWarning: You are saving your model as an HDF5 file via `model.save()`. This file format is considered legacy. We recommend using instead the native Keras format, e.g. `model.save('my_model.keras')`.\n",
            "  saving_api.save_model(\n"
          ]
        }
      ],
      "source": [
        "input_shape = annotated_train[0].shape\n",
        "from tensorflow.keras.metrics import RootMeanSquaredError\n",
        "\n",
        "model, early_stopping = build_densenet(input_shape)\n",
        "\n",
        "model.compile(\n",
        "    optimizer='adam',\n",
        "    loss= 'mae',\n",
        "    metrics=[RootMeanSquaredError()]\n",
        ")\n",
        "\n",
        "\n",
        "batch_size = 42\n",
        "epochs = 100\n",
        "history = model.fit(\n",
        "    annotated_training, annotated_training_esv,\n",
        "    batch_size=batch_size,\n",
        "    epochs=epochs,\n",
        "    validation_data=(annotated_val, esv_values_val),\n",
        "\n",
        ")\n",
        "\n",
        "\n",
        "model.save('densenet_esv_prediction_model.h5')"
      ]
    },
    {
      "cell_type": "code",
      "execution_count": null,
      "metadata": {
        "id": "vfALLFaTlTfo",
        "colab": {
          "base_uri": "https://localhost:8080/"
        },
        "outputId": "93e184d3-cfe3-4e35-e9db-8265ef5b796c"
      },
      "outputs": [
        {
          "output_type": "stream",
          "name": "stdout",
          "text": [
            "1/1 [==============================] - 0s 32ms/step\n"
          ]
        }
      ],
      "source": [
        "img=cv2.imread(\"/content/EchoVision Data/ESV/ESV_annotated/0X1002E8FBACD08477.jpg\")\n",
        "new_data = img.reshape(1, 112, 112, 3)\n",
        "\n",
        "predictions = model.predict(new_data)"
      ]
    },
    {
      "cell_type": "code",
      "execution_count": null,
      "metadata": {
        "id": "C8XUs1DIlydj",
        "colab": {
          "base_uri": "https://localhost:8080/"
        },
        "outputId": "e858cef3-cb98-4d85-df9f-d75ad4df91b8"
      },
      "outputs": [
        {
          "output_type": "execute_result",
          "data": {
            "text/plain": [
              "array([[30.795023]], dtype=float32)"
            ]
          },
          "metadata": {},
          "execution_count": 470
        }
      ],
      "source": [
        "predictions"
      ]
    },
    {
      "cell_type": "code",
      "source": [
        "plt.plot(history.history['loss'])\n",
        "plt.plot(history.history['val_loss'])\n",
        "plt.title('Model loss')\n",
        "plt.ylabel('Loss')\n",
        "plt.xlabel('Epoch')\n",
        "plt.legend(['Train', 'Validation'], loc='upper right')\n",
        "plt.show()"
      ],
      "metadata": {
        "colab": {
          "base_uri": "https://localhost:8080/",
          "height": 472
        },
        "id": "YT3kkgM2E528",
        "outputId": "58e7685c-3eff-431f-fa3c-563c7506e495"
      },
      "execution_count": null,
      "outputs": [
        {
          "output_type": "display_data",
          "data": {
            "text/plain": [
              "<Figure size 640x480 with 1 Axes>"
            ],
            "image/png": "[encoded data removed]"
          },
          "metadata": {}
        }
      ]
    },
    {
      "cell_type": "markdown",
      "metadata": {
        "id": "8ATlAbL9zPfB"
      },
      "source": [
        "# **EDV**"
      ]
    },
    {
      "cell_type": "code",
      "execution_count": null,
      "metadata": {
        "colab": {
          "base_uri": "https://localhost:8080/",
          "height": 206
        },
        "id": "1cdPk2o4uvh1",
        "outputId": "b506be3d-105e-4b91-f351-6bc8009e6be2"
      },
      "outputs": [
        {
          "output_type": "execute_result",
          "data": {
            "text/plain": [
              "             FileName         EF         ESV         EDV  FrameHeight  \\\n",
              "0  0X100009310A3BD7FC  78.498406   14.881368   69.210534          112   \n",
              "1  0X1002E8FBACD08477  59.101988   40.383876   98.742884          112   \n",
              "2  0X1005D03EED19C65B  62.363798   14.267784   37.909734          112   \n",
              "3  0X10075961BC11C88E  54.545097   33.143084   72.914210          112   \n",
              "4  0X10094BA0A028EAC3  24.887742  127.581945  169.855024          112   \n",
              "\n",
              "   FrameWidth  FPS  NumberOfFrames  Split  \n",
              "0         112   50             174    VAL  \n",
              "1         112   50             215  TRAIN  \n",
              "2         112   50             104  TRAIN  \n",
              "3         112   55             122  TRAIN  \n",
              "4         112   52             207    VAL  "
            ],
            "text/html": [
              "\n",
              "  <div id=\"df-b9b542fa-3788-4699-81e1-da226847b8e5\" class=\"colab-df-container\">\n",
              "    <div>\n",
              "<style scoped>\n",
              "    .dataframe tbody tr th:only-of-type {\n",
              "        vertical-align: middle;\n",
              "    }\n",
              "\n",
              "    .dataframe tbody tr th {\n",
              "        vertical-align: top;\n",
              "    }\n",
              "\n",
              "    .dataframe thead th {\n",
              "        text-align: right;\n",
              "    }\n",
              "</style>\n",
              "<table border=\"1\" class=\"dataframe\">\n",
              "  <thead>\n",
              "    <tr style=\"text-align: right;\">\n",
              "      <th></th>\n",
              "      <th>FileName</th>\n",
              "      <th>EF</th>\n",
              "      <th>ESV</th>\n",
              "      <th>EDV</th>\n",
              "      <th>FrameHeight</th>\n",
              "      <th>FrameWidth</th>\n",
              "      <th>FPS</th>\n",
              "      <th>NumberOfFrames</th>\n",
              "      <th>Split</th>\n",
              "    </tr>\n",
              "  </thead>\n",
              "  <tbody>\n",
              "    <tr>\n",
              "      <th>0</th>\n",
              "      <td>0X100009310A3BD7FC</td>\n",
              "      <td>78.498406</td>\n",
              "      <td>14.881368</td>\n",
              "      <td>69.210534</td>\n",
              "      <td>112</td>\n",
              "      <td>112</td>\n",
              "      <td>50</td>\n",
              "      <td>174</td>\n",
              "      <td>VAL</td>\n",
              "    </tr>\n",
              "    <tr>\n",
              "      <th>1</th>\n",
              "      <td>0X1002E8FBACD08477</td>\n",
              "      <td>59.101988</td>\n",
              "      <td>40.383876</td>\n",
              "      <td>98.742884</td>\n",
              "      <td>112</td>\n",
              "      <td>112</td>\n",
              "      <td>50</td>\n",
              "      <td>215</td>\n",
              "      <td>TRAIN</td>\n",
              "    </tr>\n",
              "    <tr>\n",
              "      <th>2</th>\n",
              "      <td>0X1005D03EED19C65B</td>\n",
              "      <td>62.363798</td>\n",
              "      <td>14.267784</td>\n",
              "      <td>37.909734</td>\n",
              "      <td>112</td>\n",
              "      <td>112</td>\n",
              "      <td>50</td>\n",
              "      <td>104</td>\n",
              "      <td>TRAIN</td>\n",
              "    </tr>\n",
              "    <tr>\n",
              "      <th>3</th>\n",
              "      <td>0X10075961BC11C88E</td>\n",
              "      <td>54.545097</td>\n",
              "      <td>33.143084</td>\n",
              "      <td>72.914210</td>\n",
              "      <td>112</td>\n",
              "      <td>112</td>\n",
              "      <td>55</td>\n",
              "      <td>122</td>\n",
              "      <td>TRAIN</td>\n",
              "    </tr>\n",
              "    <tr>\n",
              "      <th>4</th>\n",
              "      <td>0X10094BA0A028EAC3</td>\n",
              "      <td>24.887742</td>\n",
              "      <td>127.581945</td>\n",
              "      <td>169.855024</td>\n",
              "      <td>112</td>\n",
              "      <td>112</td>\n",
              "      <td>52</td>\n",
              "      <td>207</td>\n",
              "      <td>VAL</td>\n",
              "    </tr>\n",
              "  </tbody>\n",
              "</table>\n",
              "</div>\n",
              "    <div class=\"colab-df-buttons\">\n",
              "\n",
              "  <div class=\"colab-df-container\">\n",
              "    <button class=\"colab-df-convert\" onclick=\"convertToInteractive('df-b9b542fa-3788-4699-81e1-da226847b8e5')\"\n",
              "            title=\"Convert this dataframe to an interactive table.\"\n",
              "            style=\"display:none;\">\n",
              "\n",
              "  <svg xmlns=\"http://www.w3.org/2000/svg\" height=\"24px\" viewBox=\"0 -960 960 960\">\n",
              "    <path d=\"M120-120v-720h720v720H120Zm60-500h600v-160H180v160Zm220 220h160v-160H400v160Zm0 220h160v-160H400v160ZM180-400h160v-160H180v160Zm440 0h160v-160H620v160ZM180-180h160v-160H180v160Zm440 0h160v-160H620v160Z\"/>\n",
              "  </svg>\n",
              "    </button>\n",
              "\n",
              "  <style>\n",
              "    .colab-df-container {\n",
              "      display:flex;\n",
              "      gap: 12px;\n",
              "    }\n",
              "\n",
              "    .colab-df-convert {\n",
              "      background-color: #E8F0FE;\n",
              "      border: none;\n",
              "      border-radius: 50%;\n",
              "      cursor: pointer;\n",
              "      display: none;\n",
              "      fill: #1967D2;\n",
              "      height: 32px;\n",
              "      padding: 0 0 0 0;\n",
              "      width: 32px;\n",
              "    }\n",
              "\n",
              "    .colab-df-convert:hover {\n",
              "      background-color: #E2EBFA;\n",
              "      box-shadow: 0px 1px 2px rgba(60, 64, 67, 0.3), 0px 1px 3px 1px rgba(60, 64, 67, 0.15);\n",
              "      fill: #174EA6;\n",
              "    }\n",
              "\n",
              "    .colab-df-buttons div {\n",
              "      margin-bottom: 4px;\n",
              "    }\n",
              "\n",
              "    [theme=dark] .colab-df-convert {\n",
              "      background-color: #3B4455;\n",
              "      fill: #D2E3FC;\n",
              "    }\n",
              "\n",
              "    [theme=dark] .colab-df-convert:hover {\n",
              "      background-color: #434B5C;\n",
              "      box-shadow: 0px 1px 3px 1px rgba(0, 0, 0, 0.15);\n",
              "      filter: drop-shadow(0px 1px 2px rgba(0, 0, 0, 0.3));\n",
              "      fill: #FFFFFF;\n",
              "    }\n",
              "  </style>\n",
              "\n",
              "    <script>\n",
              "      const buttonEl =\n",
              "        document.querySelector('#df-b9b542fa-3788-4699-81e1-da226847b8e5 button.colab-df-convert');\n",
              "      buttonEl.style.display =\n",
              "        google.colab.kernel.accessAllowed ? 'block' : 'none';\n",
              "\n",
              "      async function convertToInteractive(key) {\n",
              "        const element = document.querySelector('#df-b9b542fa-3788-4699-81e1-da226847b8e5');\n",
              "        const dataTable =\n",
              "          await google.colab.kernel.invokeFunction('convertToInteractive',\n",
              "                                                    [key], {});\n",
              "        if (!dataTable) return;\n",
              "\n",
              "        const docLinkHtml = 'Like what you see? Visit the ' +\n",
              "          '<a target=\"_blank\" href=https://colab.research.google.com/notebooks/data_table.ipynb>data table notebook</a>'\n",
              "          + ' to learn more about interactive tables.';\n",
              "        element.innerHTML = '';\n",
              "        dataTable['output_type'] = 'display_data';\n",
              "        await google.colab.output.renderOutput(dataTable, element);\n",
              "        const docLink = document.createElement('div');\n",
              "        docLink.innerHTML = docLinkHtml;\n",
              "        element.appendChild(docLink);\n",
              "      }\n",
              "    </script>\n",
              "  </div>\n",
              "\n",
              "\n",
              "<div id=\"df-de2b7ae6-e818-4323-a5ac-16de2284a897\">\n",
              "  <button class=\"colab-df-quickchart\" onclick=\"quickchart('df-de2b7ae6-e818-4323-a5ac-16de2284a897')\"\n",
              "            title=\"Suggest charts\"\n",
              "            style=\"display:none;\">\n",
              "\n",
              "<svg xmlns=\"http://www.w3.org/2000/svg\" height=\"24px\"viewBox=\"0 0 24 24\"\n",
              "     width=\"24px\">\n",
              "    <g>\n",
              "        <path d=\"M19 3H5c-1.1 0-2 .9-2 2v14c0 1.1.9 2 2 2h14c1.1 0 2-.9 2-2V5c0-1.1-.9-2-2-2zM9 17H7v-7h2v7zm4 0h-2V7h2v10zm4 0h-2v-4h2v4z\"/>\n",
              "    </g>\n",
              "</svg>\n",
              "  </button>\n",
              "\n",
              "<style>\n",
              "  .colab-df-quickchart {\n",
              "      --bg-color: #E8F0FE;\n",
              "      --fill-color: #1967D2;\n",
              "      --hover-bg-color: #E2EBFA;\n",
              "      --hover-fill-color: #174EA6;\n",
              "      --disabled-fill-color: #AAA;\n",
              "      --disabled-bg-color: #DDD;\n",
              "  }\n",
              "\n",
              "  [theme=dark] .colab-df-quickchart {\n",
              "      --bg-color: #3B4455;\n",
              "      --fill-color: #D2E3FC;\n",
              "      --hover-bg-color: #434B5C;\n",
              "      --hover-fill-color: #FFFFFF;\n",
              "      --disabled-bg-color: #3B4455;\n",
              "      --disabled-fill-color: #666;\n",
              "  }\n",
              "\n",
              "  .colab-df-quickchart {\n",
              "    background-color: var(--bg-color);\n",
              "    border: none;\n",
              "    border-radius: 50%;\n",
              "    cursor: pointer;\n",
              "    display: none;\n",
              "    fill: var(--fill-color);\n",
              "    height: 32px;\n",
              "    padding: 0;\n",
              "    width: 32px;\n",
              "  }\n",
              "\n",
              "  .colab-df-quickchart:hover {\n",
              "    background-color: var(--hover-bg-color);\n",
              "    box-shadow: 0 1px 2px rgba(60, 64, 67, 0.3), 0 1px 3px 1px rgba(60, 64, 67, 0.15);\n",
              "    fill: var(--button-hover-fill-color);\n",
              "  }\n",
              "\n",
              "  .colab-df-quickchart-complete:disabled,\n",
              "  .colab-df-quickchart-complete:disabled:hover {\n",
              "    background-color: var(--disabled-bg-color);\n",
              "    fill: var(--disabled-fill-color);\n",
              "    box-shadow: none;\n",
              "  }\n",
              "\n",
              "  .colab-df-spinner {\n",
              "    border: 2px solid var(--fill-color);\n",
              "    border-color: transparent;\n",
              "    border-bottom-color: var(--fill-color);\n",
              "    animation:\n",
              "      spin 1s steps(1) infinite;\n",
              "  }\n",
              "\n",
              "  @keyframes spin {\n",
              "    0% {\n",
              "      border-color: transparent;\n",
              "      border-bottom-color: var(--fill-color);\n",
              "      border-left-color: var(--fill-color);\n",
              "    }\n",
              "    20% {\n",
              "      border-color: transparent;\n",
              "      border-left-color: var(--fill-color);\n",
              "      border-top-color: var(--fill-color);\n",
              "    }\n",
              "    30% {\n",
              "      border-color: transparent;\n",
              "      border-left-color: var(--fill-color);\n",
              "      border-top-color: var(--fill-color);\n",
              "      border-right-color: var(--fill-color);\n",
              "    }\n",
              "    40% {\n",
              "      border-color: transparent;\n",
              "      border-right-color: var(--fill-color);\n",
              "      border-top-color: var(--fill-color);\n",
              "    }\n",
              "    60% {\n",
              "      border-color: transparent;\n",
              "      border-right-color: var(--fill-color);\n",
              "    }\n",
              "    80% {\n",
              "      border-color: transparent;\n",
              "      border-right-color: var(--fill-color);\n",
              "      border-bottom-color: var(--fill-color);\n",
              "    }\n",
              "    90% {\n",
              "      border-color: transparent;\n",
              "      border-bottom-color: var(--fill-color);\n",
              "    }\n",
              "  }\n",
              "</style>\n",
              "\n",
              "  <script>\n",
              "    async function quickchart(key) {\n",
              "      const quickchartButtonEl =\n",
              "        document.querySelector('#' + key + ' button');\n",
              "      quickchartButtonEl.disabled = true;  // To prevent multiple clicks.\n",
              "      quickchartButtonEl.classList.add('colab-df-spinner');\n",
              "      try {\n",
              "        const charts = await google.colab.kernel.invokeFunction(\n",
              "            'suggestCharts', [key], {});\n",
              "      } catch (error) {\n",
              "        console.error('Error during call to suggestCharts:', error);\n",
              "      }\n",
              "      quickchartButtonEl.classList.remove('colab-df-spinner');\n",
              "      quickchartButtonEl.classList.add('colab-df-quickchart-complete');\n",
              "    }\n",
              "    (() => {\n",
              "      let quickchartButtonEl =\n",
              "        document.querySelector('#df-de2b7ae6-e818-4323-a5ac-16de2284a897 button');\n",
              "      quickchartButtonEl.style.display =\n",
              "        google.colab.kernel.accessAllowed ? 'block' : 'none';\n",
              "    })();\n",
              "  </script>\n",
              "</div>\n",
              "\n",
              "    </div>\n",
              "  </div>\n"
            ]
          },
          "metadata": {},
          "execution_count": 473
        }
      ],
      "source": [
        "df=pd.read_csv(\"/content/EchoVision Data/FileList.csv\")\n",
        "df.head()"
      ]
    },
    {
      "cell_type": "code",
      "execution_count": null,
      "metadata": {
        "id": "-hG1Rhc1uvrs"
      },
      "outputs": [],
      "source": [
        "\n",
        "import os\n",
        "import numpy as np\n",
        "import tensorflow as tf\n",
        "from tensorflow import keras\n",
        "from sklearn.model_selection import train_test_split\n",
        "\n",
        "files=\"/content/EchoVision Data/EDV/EDV_annotated\"\n",
        "\n",
        "annotated=[]\n",
        "edv_values=[]\n",
        "\n",
        "for value1, value2 in zip(df['FileName'], df['EDV']):\n",
        "\n",
        "          f=value1+\".jpg\"\n",
        "          if os.path.exists(os.path.join(files,f )):\n",
        "            img = cv2.imread(os.path.join(files,f ))\n",
        "\n",
        "            img=np.asarray(img)\n",
        "            annotated.append(img)\n",
        "\n",
        "            edv_values.append(value2)\n",
        "annotated=np.asarray(annotated)\n",
        "edv_values=np.asarray(edv_values)\n",
        "\n",
        "X_train, X_val, y_train, y_val = train_test_split(annotated, edv_values, test_size=0.2, random_state=42)\n",
        "\n",
        "def build_densenet(input_shape):\n",
        "    model = keras.applications.DenseNet121(\n",
        "        include_top=False,\n",
        "        weights='imagenet',\n",
        "        input_tensor=keras.layers.Input(shape=input_shape),\n",
        "        pooling='avg',\n",
        "    )\n",
        "    x = keras.layers.Dense(128, activation='relu')(model.layers[-1].output)\n",
        "    output = keras.layers.Dense(1, activation='linear')(x)\n",
        "    return keras.Model(inputs=model.input, outputs=output)"
      ]
    },
    {
      "cell_type": "code",
      "source": [
        "X_train.shape"
      ],
      "metadata": {
        "colab": {
          "base_uri": "https://localhost:8080/"
        },
        "id": "3YEGnQksXgZ7",
        "outputId": "843aee8d-556d-4343-acfb-29ae281b2455"
      },
      "execution_count": null,
      "outputs": [
        {
          "output_type": "execute_result",
          "data": {
            "text/plain": [
              "(3876, 112, 112, 3)"
            ]
          },
          "metadata": {},
          "execution_count": 475
        }
      ]
    },
    {
      "cell_type": "code",
      "execution_count": null,
      "metadata": {
        "id": "azFX05f9yjLG",
        "colab": {
          "base_uri": "https://localhost:8080/"
        },
        "outputId": "7f1ff3a5-5abb-4d9e-c062-cb15c1f3d95a"
      },
      "outputs": [
        {
          "output_type": "stream",
          "name": "stdout",
          "text": [
            "Epoch 1/100\n",
            "156/156 [==============================] - 59s 84ms/step - loss: 1588.2617 - mae: 27.0806 - val_loss: 159745.5469 - val_mae: 384.7708\n",
            "Epoch 2/100\n",
            "156/156 [==============================] - 11s 73ms/step - loss: 902.6874 - mae: 20.4911 - val_loss: 9923.7764 - val_mae: 83.6452\n",
            "Epoch 3/100\n",
            "156/156 [==============================] - 11s 74ms/step - loss: 804.5488 - mae: 19.2586 - val_loss: 13160.7021 - val_mae: 99.6662\n",
            "Epoch 4/100\n",
            "156/156 [==============================] - 12s 76ms/step - loss: 689.2256 - mae: 18.2043 - val_loss: 572.9266 - val_mae: 17.5634\n",
            "Epoch 5/100\n",
            "156/156 [==============================] - 12s 74ms/step - loss: 593.9108 - mae: 17.1593 - val_loss: 900.8259 - val_mae: 22.6831\n",
            "Epoch 6/100\n",
            "156/156 [==============================] - 12s 75ms/step - loss: 582.2162 - mae: 17.1283 - val_loss: 2717.4495 - val_mae: 42.2654\n",
            "Epoch 7/100\n",
            "156/156 [==============================] - 11s 72ms/step - loss: 519.4670 - mae: 16.2910 - val_loss: 1196.4299 - val_mae: 27.8858\n",
            "Epoch 8/100\n",
            "156/156 [==============================] - 11s 73ms/step - loss: 444.6971 - mae: 15.3881 - val_loss: 496.7806 - val_mae: 16.4476\n",
            "Epoch 9/100\n",
            "156/156 [==============================] - 11s 72ms/step - loss: 414.7459 - mae: 15.0165 - val_loss: 582.2921 - val_mae: 17.9512\n",
            "Epoch 10/100\n",
            "156/156 [==============================] - 11s 73ms/step - loss: 384.7454 - mae: 14.5352 - val_loss: 664.2568 - val_mae: 18.6318\n",
            "Epoch 11/100\n",
            "156/156 [==============================] - 11s 73ms/step - loss: 363.2491 - mae: 14.0885 - val_loss: 627.6287 - val_mae: 19.8139\n",
            "Epoch 12/100\n",
            "156/156 [==============================] - 11s 72ms/step - loss: 321.6931 - mae: 13.3315 - val_loss: 808.9412 - val_mae: 21.4349\n",
            "Epoch 13/100\n",
            "156/156 [==============================] - 11s 73ms/step - loss: 280.4362 - mae: 12.6451 - val_loss: 1032.0402 - val_mae: 26.1643\n",
            "Epoch 14/100\n",
            "156/156 [==============================] - 11s 73ms/step - loss: 273.4478 - mae: 12.3905 - val_loss: 474.8164 - val_mae: 15.8491\n",
            "Epoch 15/100\n",
            "156/156 [==============================] - 11s 73ms/step - loss: 263.6464 - mae: 12.2201 - val_loss: 972.4090 - val_mae: 23.2002\n",
            "Epoch 16/100\n",
            "156/156 [==============================] - 11s 73ms/step - loss: 262.4972 - mae: 12.0793 - val_loss: 774.0823 - val_mae: 20.4134\n",
            "Epoch 17/100\n",
            "156/156 [==============================] - 11s 73ms/step - loss: 268.4285 - mae: 12.1557 - val_loss: 488.3811 - val_mae: 16.4890\n",
            "Epoch 18/100\n",
            "156/156 [==============================] - 11s 73ms/step - loss: 222.2997 - mae: 11.0590 - val_loss: 995.2288 - val_mae: 24.9190\n",
            "Epoch 19/100\n",
            "156/156 [==============================] - 12s 74ms/step - loss: 223.2728 - mae: 11.0623 - val_loss: 499.2046 - val_mae: 16.7317\n",
            "Epoch 20/100\n",
            "156/156 [==============================] - 11s 73ms/step - loss: 197.2048 - mae: 10.5207 - val_loss: 867.7385 - val_mae: 24.2612\n",
            "Epoch 21/100\n",
            "156/156 [==============================] - 11s 74ms/step - loss: 216.2592 - mae: 10.7800 - val_loss: 578.1206 - val_mae: 17.8055\n",
            "Epoch 22/100\n",
            "156/156 [==============================] - 11s 73ms/step - loss: 223.2333 - mae: 10.9335 - val_loss: 486.2186 - val_mae: 15.9878\n",
            "Epoch 23/100\n",
            "156/156 [==============================] - 11s 72ms/step - loss: 178.6767 - mae: 9.9586 - val_loss: 475.1893 - val_mae: 16.3102\n",
            "Epoch 24/100\n",
            "156/156 [==============================] - 12s 74ms/step - loss: 150.2609 - mae: 9.2796 - val_loss: 459.4385 - val_mae: 15.7731\n",
            "Epoch 25/100\n",
            "156/156 [==============================] - 11s 73ms/step - loss: 160.4539 - mae: 9.3916 - val_loss: 470.5858 - val_mae: 15.8969\n",
            "Epoch 26/100\n",
            "156/156 [==============================] - 11s 73ms/step - loss: 151.2462 - mae: 9.1167 - val_loss: 479.4831 - val_mae: 15.8768\n",
            "Epoch 27/100\n",
            "156/156 [==============================] - 11s 73ms/step - loss: 151.2578 - mae: 9.2044 - val_loss: 585.1239 - val_mae: 18.2984\n",
            "Epoch 28/100\n",
            "156/156 [==============================] - 11s 72ms/step - loss: 227.5863 - mae: 11.1760 - val_loss: 916.1076 - val_mae: 24.2472\n",
            "Epoch 29/100\n",
            "156/156 [==============================] - 11s 73ms/step - loss: 235.3947 - mae: 11.0781 - val_loss: 768.6569 - val_mae: 22.0631\n",
            "Epoch 30/100\n",
            "156/156 [==============================] - 11s 74ms/step - loss: 161.6188 - mae: 9.3102 - val_loss: 1156.4535 - val_mae: 27.1048\n",
            "Epoch 31/100\n",
            "156/156 [==============================] - 11s 73ms/step - loss: 158.1026 - mae: 9.3841 - val_loss: 446.8987 - val_mae: 15.6085\n",
            "Epoch 32/100\n",
            "156/156 [==============================] - 11s 73ms/step - loss: 161.9441 - mae: 9.3501 - val_loss: 708.3656 - val_mae: 18.3637\n",
            "Epoch 33/100\n",
            "156/156 [==============================] - 11s 73ms/step - loss: 136.1442 - mae: 8.7526 - val_loss: 475.2920 - val_mae: 15.9553\n",
            "Epoch 34/100\n",
            "156/156 [==============================] - 11s 73ms/step - loss: 142.7404 - mae: 8.7906 - val_loss: 481.9814 - val_mae: 16.3095\n",
            "Epoch 35/100\n",
            "156/156 [==============================] - 11s 72ms/step - loss: 152.0374 - mae: 8.9904 - val_loss: 475.1192 - val_mae: 16.0401\n",
            "Epoch 36/100\n",
            "156/156 [==============================] - 11s 73ms/step - loss: 107.5077 - mae: 7.7397 - val_loss: 732.0793 - val_mae: 21.3924\n",
            "Epoch 37/100\n",
            "156/156 [==============================] - 11s 73ms/step - loss: 129.6118 - mae: 8.5464 - val_loss: 948.3447 - val_mae: 23.8540\n",
            "Epoch 38/100\n",
            "156/156 [==============================] - 11s 73ms/step - loss: 104.9202 - mae: 7.8065 - val_loss: 464.8407 - val_mae: 15.6580\n",
            "Epoch 39/100\n",
            "156/156 [==============================] - 12s 74ms/step - loss: 107.6724 - mae: 7.7700 - val_loss: 469.6340 - val_mae: 15.6066\n",
            "Epoch 40/100\n",
            "156/156 [==============================] - 11s 73ms/step - loss: 120.7713 - mae: 7.9553 - val_loss: 674.8679 - val_mae: 20.0460\n",
            "Epoch 41/100\n",
            "156/156 [==============================] - 12s 74ms/step - loss: 125.8488 - mae: 8.1381 - val_loss: 650.3224 - val_mae: 18.7817\n",
            "Epoch 42/100\n",
            "156/156 [==============================] - 11s 74ms/step - loss: 111.4628 - mae: 7.8935 - val_loss: 449.6338 - val_mae: 15.3844\n",
            "Epoch 43/100\n",
            "156/156 [==============================] - 11s 73ms/step - loss: 108.5229 - mae: 7.9162 - val_loss: 610.1165 - val_mae: 18.5579\n",
            "Epoch 44/100\n",
            "156/156 [==============================] - 11s 73ms/step - loss: 100.5546 - mae: 7.3876 - val_loss: 463.6702 - val_mae: 15.4977\n",
            "Epoch 45/100\n",
            "156/156 [==============================] - 11s 73ms/step - loss: 102.0941 - mae: 7.5179 - val_loss: 561.9150 - val_mae: 16.9306\n",
            "Epoch 46/100\n",
            "156/156 [==============================] - 11s 72ms/step - loss: 98.3980 - mae: 7.3780 - val_loss: 462.3273 - val_mae: 15.9600\n",
            "Epoch 47/100\n",
            "156/156 [==============================] - 11s 72ms/step - loss: 95.7315 - mae: 7.3420 - val_loss: 486.8962 - val_mae: 16.1409\n",
            "Epoch 48/100\n",
            "156/156 [==============================] - 11s 73ms/step - loss: 128.0379 - mae: 8.4442 - val_loss: 476.1313 - val_mae: 15.9790\n",
            "Epoch 49/100\n",
            "156/156 [==============================] - 12s 74ms/step - loss: 110.6006 - mae: 7.9072 - val_loss: 455.2861 - val_mae: 15.7513\n",
            "Epoch 50/100\n",
            "156/156 [==============================] - 11s 73ms/step - loss: 88.1267 - mae: 6.9165 - val_loss: 488.7722 - val_mae: 16.3979\n",
            "Epoch 51/100\n",
            "156/156 [==============================] - 12s 74ms/step - loss: 80.6061 - mae: 6.6433 - val_loss: 446.3714 - val_mae: 15.3589\n",
            "Epoch 52/100\n",
            "156/156 [==============================] - 11s 73ms/step - loss: 111.4035 - mae: 7.8162 - val_loss: 480.5675 - val_mae: 15.9882\n",
            "Epoch 53/100\n",
            "156/156 [==============================] - 11s 73ms/step - loss: 128.9297 - mae: 8.3892 - val_loss: 470.1342 - val_mae: 16.1120\n",
            "Epoch 54/100\n",
            "156/156 [==============================] - 11s 74ms/step - loss: 75.1132 - mae: 6.4325 - val_loss: 456.5580 - val_mae: 15.7097\n",
            "Epoch 55/100\n",
            "156/156 [==============================] - 12s 74ms/step - loss: 126.0048 - mae: 8.3654 - val_loss: 603.1240 - val_mae: 19.2394\n",
            "Epoch 56/100\n",
            "156/156 [==============================] - 11s 73ms/step - loss: 88.9845 - mae: 6.9949 - val_loss: 484.5745 - val_mae: 15.9705\n",
            "Epoch 57/100\n",
            "156/156 [==============================] - 11s 73ms/step - loss: 88.5336 - mae: 7.0655 - val_loss: 511.5450 - val_mae: 16.8853\n",
            "Epoch 58/100\n",
            "156/156 [==============================] - 11s 73ms/step - loss: 81.7143 - mae: 6.8018 - val_loss: 473.9865 - val_mae: 16.1396\n",
            "Epoch 59/100\n",
            "156/156 [==============================] - 12s 74ms/step - loss: 68.9600 - mae: 6.2678 - val_loss: 698.1581 - val_mae: 20.3366\n",
            "Epoch 60/100\n",
            "156/156 [==============================] - 12s 74ms/step - loss: 59.6172 - mae: 5.9523 - val_loss: 433.4278 - val_mae: 15.1411\n",
            "Epoch 61/100\n",
            "156/156 [==============================] - 11s 72ms/step - loss: 65.5246 - mae: 6.0754 - val_loss: 459.0072 - val_mae: 15.9176\n",
            "Epoch 62/100\n",
            "156/156 [==============================] - 11s 73ms/step - loss: 87.5495 - mae: 6.9633 - val_loss: 475.3922 - val_mae: 16.3446\n",
            "Epoch 63/100\n",
            "156/156 [==============================] - 11s 72ms/step - loss: 80.0176 - mae: 6.8487 - val_loss: 483.0901 - val_mae: 16.4676\n",
            "Epoch 64/100\n",
            "156/156 [==============================] - 11s 72ms/step - loss: 64.8513 - mae: 6.1157 - val_loss: 436.6674 - val_mae: 15.2393\n",
            "Epoch 65/100\n",
            "156/156 [==============================] - 11s 73ms/step - loss: 76.2932 - mae: 6.5098 - val_loss: 641.4467 - val_mae: 20.1672\n",
            "Epoch 66/100\n",
            "156/156 [==============================] - 12s 75ms/step - loss: 84.5998 - mae: 6.9351 - val_loss: 553.5605 - val_mae: 18.0882\n",
            "Epoch 67/100\n",
            "156/156 [==============================] - 12s 75ms/step - loss: 70.0398 - mae: 6.3484 - val_loss: 437.1843 - val_mae: 15.5736\n",
            "Epoch 68/100\n",
            "156/156 [==============================] - 12s 74ms/step - loss: 68.3287 - mae: 6.1731 - val_loss: 455.7437 - val_mae: 15.4493\n",
            "Epoch 69/100\n",
            "156/156 [==============================] - 11s 72ms/step - loss: 76.8234 - mae: 6.2551 - val_loss: 470.7102 - val_mae: 15.7502\n",
            "Epoch 70/100\n",
            "156/156 [==============================] - 12s 75ms/step - loss: 81.7672 - mae: 6.5378 - val_loss: 771.1998 - val_mae: 21.4497\n",
            "Epoch 71/100\n",
            "156/156 [==============================] - 11s 73ms/step - loss: 55.4103 - mae: 5.6464 - val_loss: 453.1440 - val_mae: 15.3285\n",
            "Epoch 72/100\n",
            "156/156 [==============================] - 11s 74ms/step - loss: 62.6305 - mae: 6.1170 - val_loss: 493.3629 - val_mae: 16.4681\n",
            "Epoch 73/100\n",
            "156/156 [==============================] - 11s 73ms/step - loss: 43.5062 - mae: 4.9958 - val_loss: 437.6562 - val_mae: 15.3978\n",
            "Epoch 74/100\n",
            "156/156 [==============================] - 11s 73ms/step - loss: 57.6638 - mae: 5.5383 - val_loss: 438.7814 - val_mae: 15.4251\n",
            "Epoch 75/100\n",
            "156/156 [==============================] - 12s 75ms/step - loss: 63.1006 - mae: 5.8732 - val_loss: 505.8205 - val_mae: 16.1468\n",
            "Epoch 76/100\n",
            "156/156 [==============================] - 12s 74ms/step - loss: 62.0354 - mae: 5.7699 - val_loss: 432.6108 - val_mae: 15.1491\n",
            "Epoch 77/100\n",
            "156/156 [==============================] - 11s 73ms/step - loss: 53.5654 - mae: 5.5407 - val_loss: 586.3163 - val_mae: 17.7692\n",
            "Epoch 78/100\n",
            "156/156 [==============================] - 11s 72ms/step - loss: 47.2465 - mae: 5.1972 - val_loss: 420.2231 - val_mae: 15.0451\n",
            "Epoch 79/100\n",
            "156/156 [==============================] - 11s 72ms/step - loss: 43.6883 - mae: 4.9601 - val_loss: 454.1614 - val_mae: 15.3069\n",
            "Epoch 80/100\n",
            "156/156 [==============================] - 11s 73ms/step - loss: 77.0683 - mae: 6.7022 - val_loss: 440.9388 - val_mae: 15.1276\n",
            "Epoch 81/100\n",
            "156/156 [==============================] - 11s 73ms/step - loss: 64.5221 - mae: 5.9381 - val_loss: 431.0815 - val_mae: 15.0318\n",
            "Epoch 82/100\n",
            "156/156 [==============================] - 11s 73ms/step - loss: 55.9562 - mae: 5.6169 - val_loss: 463.3197 - val_mae: 15.5283\n",
            "Epoch 83/100\n",
            "156/156 [==============================] - 11s 73ms/step - loss: 52.4325 - mae: 5.3739 - val_loss: 541.2888 - val_mae: 17.2025\n",
            "Epoch 84/100\n",
            "156/156 [==============================] - 11s 73ms/step - loss: 45.3384 - mae: 5.1168 - val_loss: 477.0457 - val_mae: 16.3737\n",
            "Epoch 85/100\n",
            "156/156 [==============================] - 11s 73ms/step - loss: 56.6580 - mae: 5.6548 - val_loss: 446.1214 - val_mae: 15.2292\n",
            "Epoch 86/100\n",
            "156/156 [==============================] - 11s 72ms/step - loss: 59.7022 - mae: 5.6877 - val_loss: 420.7443 - val_mae: 14.9322\n",
            "Epoch 87/100\n",
            "156/156 [==============================] - 11s 74ms/step - loss: 47.8431 - mae: 5.2405 - val_loss: 431.3730 - val_mae: 15.1115\n",
            "Epoch 88/100\n",
            "156/156 [==============================] - 11s 73ms/step - loss: 48.8991 - mae: 5.2607 - val_loss: 437.1745 - val_mae: 15.3519\n",
            "Epoch 89/100\n",
            "156/156 [==============================] - 12s 74ms/step - loss: 50.7553 - mae: 5.2720 - val_loss: 472.2585 - val_mae: 15.6600\n",
            "Epoch 90/100\n",
            "156/156 [==============================] - 11s 73ms/step - loss: 56.0826 - mae: 5.4771 - val_loss: 423.7425 - val_mae: 15.2138\n",
            "Epoch 91/100\n",
            "156/156 [==============================] - 11s 73ms/step - loss: 59.2395 - mae: 5.4239 - val_loss: 517.4398 - val_mae: 16.6399\n",
            "Epoch 92/100\n",
            "156/156 [==============================] - 11s 73ms/step - loss: 45.5183 - mae: 5.0025 - val_loss: 433.6861 - val_mae: 15.0502\n",
            "Epoch 93/100\n",
            "156/156 [==============================] - 11s 72ms/step - loss: 28.9391 - mae: 4.0451 - val_loss: 439.7409 - val_mae: 15.5323\n",
            "Epoch 94/100\n",
            "156/156 [==============================] - 11s 73ms/step - loss: 97.6354 - mae: 7.3895 - val_loss: 582.5797 - val_mae: 17.8159\n",
            "Epoch 95/100\n",
            "156/156 [==============================] - 11s 73ms/step - loss: 63.4050 - mae: 5.9867 - val_loss: 462.6336 - val_mae: 15.4825\n",
            "Epoch 96/100\n",
            "156/156 [==============================] - 11s 74ms/step - loss: 39.6508 - mae: 4.7458 - val_loss: 476.4089 - val_mae: 15.8730\n",
            "Epoch 97/100\n",
            "156/156 [==============================] - 12s 74ms/step - loss: 46.3591 - mae: 5.1495 - val_loss: 456.6744 - val_mae: 15.7262\n",
            "Epoch 98/100\n",
            "156/156 [==============================] - 11s 73ms/step - loss: 43.1823 - mae: 4.8016 - val_loss: 480.9086 - val_mae: 16.6619\n",
            "Epoch 99/100\n",
            "156/156 [==============================] - 11s 73ms/step - loss: 54.5672 - mae: 5.5533 - val_loss: 500.9518 - val_mae: 16.6870\n",
            "Epoch 100/100\n",
            "156/156 [==============================] - 12s 74ms/step - loss: 41.2770 - mae: 4.8041 - val_loss: 547.7337 - val_mae: 16.9200\n"
          ]
        },
        {
          "output_type": "stream",
          "name": "stderr",
          "text": [
            "/usr/local/lib/python3.10/dist-packages/keras/src/engine/training.py:3079: UserWarning: You are saving your model as an HDF5 file via `model.save()`. This file format is considered legacy. We recommend using instead the native Keras format, e.g. `model.save('my_model.keras')`.\n",
            "  saving_api.save_model(\n"
          ]
        }
      ],
      "source": [
        "input_shape = X_train[0].shape\n",
        "model = build_densenet(input_shape)\n",
        "\n",
        "model.compile(\n",
        "    optimizer='adam',\n",
        "    loss='mean_squared_error',\n",
        "    metrics=['mae']\n",
        ")\n",
        "\n",
        "\n",
        "batch_size = 25\n",
        "epochs = 100\n",
        "\n",
        "history = model.fit(\n",
        "    X_train, y_train,\n",
        "    batch_size=batch_size,\n",
        "    epochs=epochs,\n",
        "    validation_data=(X_val, y_val)\n",
        ")\n",
        "\n",
        "model.save('densenet_edv_prediction_model.h5')"
      ]
    },
    {
      "cell_type": "code",
      "execution_count": null,
      "metadata": {
        "colab": {
          "base_uri": "https://localhost:8080/"
        },
        "id": "ewfXCKynym32",
        "outputId": "8b598bdb-d3b6-499d-c308-8364c06fa829"
      },
      "outputs": [
        {
          "output_type": "stream",
          "name": "stdout",
          "text": [
            "1/1 [==============================] - 0s 29ms/step\n"
          ]
        }
      ],
      "source": [
        "img=cv2.imread(\"/content/EchoVision Data/EDV/EDV_annotated/0X13A3E602CCA508D6.jpg\")\n",
        "new_data = img.reshape(1, 112, 112, 3)\n",
        "\n",
        "predictions = model.predict(new_data)\n"
      ]
    },
    {
      "cell_type": "code",
      "execution_count": null,
      "metadata": {
        "colab": {
          "base_uri": "https://localhost:8080/"
        },
        "id": "3-AlyWryypiR",
        "outputId": "a7d51c81-5d97-44d1-849a-d0402dcc4cf1"
      },
      "outputs": [
        {
          "output_type": "execute_result",
          "data": {
            "text/plain": [
              "array([[69.41886]], dtype=float32)"
            ]
          },
          "metadata": {},
          "execution_count": 514
        }
      ],
      "source": [
        "predictions"
      ]
    },
    {
      "cell_type": "code",
      "source": [
        "plt.plot(history.history['mae'])\n",
        "plt.plot(history.history['val_mae'])\n",
        "plt.title('Model loss')\n",
        "plt.ylabel('Loss')\n",
        "plt.xlabel('Epoch')\n",
        "plt.legend(['Train', 'Validation'], loc='upper right')\n",
        "plt.show()"
      ],
      "metadata": {
        "colab": {
          "base_uri": "https://localhost:8080/",
          "height": 472
        },
        "id": "E3I-3n5XSAaH",
        "outputId": "2a74ae0f-efee-40b7-e616-181d02a2589c"
      },
      "execution_count": null,
      "outputs": [
        {
          "output_type": "display_data",
          "data": {
            "text/plain": [
              "<Figure size 640x480 with 1 Axes>"
            ],
            "image/png": "[encoded data removed]"
          },
          "metadata": {}
        }
      ]
    },
    {
      "cell_type": "markdown",
      "metadata": {
        "id": "oAJnaYHozTqd"
      },
      "source": [
        "# **Effusion Fraction Calculation**"
      ]
    },
    {
      "cell_type": "code",
      "execution_count": null,
      "metadata": {
        "id": "3pCxgwmkuvvJ"
      },
      "outputs": [],
      "source": [
        "def ef_calculation(edv,esv):\n",
        "  ef=((esv-edv)/edv)*100\n",
        "  print(ef)\n",
        "  if(ef>=52 and ef<=72):\n",
        "    print(\"Normal\")\n",
        "  elif ef>=41 and ef<=53:\n",
        "    print(\"Mildly Abnormal\")\n",
        "  elif ef>=30 and ef<=40:\n",
        "    print(\"Moderately Abnoraml\")\n",
        "  else:\n",
        "      print(\"Severely Abnormal\")\n",
        "  return None"
      ]
    },
    {
      "cell_type": "code",
      "execution_count": null,
      "metadata": {
        "id": "g3_VLm-n2d1A"
      },
      "outputs": [],
      "source": [
        "from google.colab.patches import cv2_imshow"
      ]
    },
    {
      "cell_type": "code",
      "execution_count": null,
      "metadata": {
        "colab": {
          "base_uri": "https://localhost:8080/",
          "height": 129
        },
        "id": "kYbQXLWP1TlL",
        "outputId": "6eb0509e-5ec0-4207-f10f-08f93460e0f4"
      },
      "outputs": [
        {
          "output_type": "display_data",
          "data": {
            "text/plain": [
              "<PIL.Image.Image image mode=RGB size=112x112>"
            ],
            "image/png": "[encoded data removed]"
          },
          "metadata": {}
        }
      ],
      "source": [
        "edv_img=\"/content/EchoVision Data/EDV/EDV_annotated/0X101C388397F66EDB.jpg\"\n",
        "edv_img=cv2.imread(edv_img)\n",
        "cv2_imshow(edv_img)"
      ]
    },
    {
      "cell_type": "code",
      "execution_count": null,
      "metadata": {
        "colab": {
          "base_uri": "https://localhost:8080/",
          "height": 129
        },
        "id": "bMdXHM_f1TtV",
        "outputId": "856a7d82-5871-4448-ca50-1bf244110efb"
      },
      "outputs": [
        {
          "output_type": "display_data",
          "data": {
            "text/plain": [
              "<PIL.Image.Image image mode=RGB size=112x112>"
            ],
            "image/png": "[encoded data removed]"
          },
          "metadata": {}
        }
      ],
      "source": [
        "esv_img=\"/content/EchoVision Data/ESV/ESV_annotated/0X101C388397F66EDB.jpg\"\n",
        "esv_img=cv2.imread(esv_img)\n",
        "cv2_imshow(esv_img)"
      ]
    },
    {
      "cell_type": "code",
      "execution_count": null,
      "metadata": {
        "id": "ff3ZeS7U1Tw8"
      },
      "outputs": [],
      "source": [
        "model_esv = tf.keras.models.load_model('/content/densenet_edv_prediction_model.h5')\n",
        "model_edv = tf.keras.models.load_model('/content/densenet_edv_prediction_model.h5')\n"
      ]
    },
    {
      "cell_type": "code",
      "execution_count": null,
      "metadata": {
        "id": "c_DsetlU25f3"
      },
      "outputs": [],
      "source": [
        "esv_img=esv_img.reshape(1, 112, 112, 3)\n",
        "edv_img=edv_img.reshape(1, 112, 112, 3)"
      ]
    },
    {
      "cell_type": "code",
      "execution_count": null,
      "metadata": {
        "colab": {
          "base_uri": "https://localhost:8080/"
        },
        "id": "93Zn6IFI2ytB",
        "outputId": "8a9faea7-e145-4b63-8f1b-e88b0c782aee"
      },
      "outputs": [
        {
          "output_type": "stream",
          "name": "stdout",
          "text": [
            "1/1 [==============================] - 0s 30ms/step\n",
            "1/1 [==============================] - 0s 32ms/step\n"
          ]
        }
      ],
      "source": [
        "edv_prediction=model_edv.predict(edv_img)\n",
        "esv_prediction=model_esv.predict(esv_img)"
      ]
    },
    {
      "cell_type": "code",
      "execution_count": null,
      "metadata": {
        "colab": {
          "base_uri": "https://localhost:8080/"
        },
        "id": "-Mf34xdh3O_l",
        "outputId": "9139125c-8f18-4e0c-87e1-b9953c2b47ad"
      },
      "outputs": [
        {
          "output_type": "execute_result",
          "data": {
            "text/plain": [
              "array([[101.55975]], dtype=float32)"
            ]
          },
          "metadata": {},
          "execution_count": 211
        }
      ],
      "source": [
        "edv_prediction"
      ]
    },
    {
      "cell_type": "code",
      "execution_count": null,
      "metadata": {
        "colab": {
          "base_uri": "https://localhost:8080/"
        },
        "id": "tfhzlc-p3R9Q",
        "outputId": "723846a3-c695-4c5c-92fe-98239b0ddc22"
      },
      "outputs": [
        {
          "output_type": "execute_result",
          "data": {
            "text/plain": [
              "array([[201.28409]], dtype=float32)"
            ]
          },
          "metadata": {},
          "execution_count": 212
        }
      ],
      "source": [
        "esv_prediction"
      ]
    },
    {
      "cell_type": "code",
      "execution_count": null,
      "metadata": {
        "colab": {
          "base_uri": "https://localhost:8080/"
        },
        "id": "y7ZCd8Cf3X_F",
        "outputId": "ea06f745-8796-46f8-8de8-fca5d29e8e1b"
      },
      "outputs": [
        {
          "output_type": "stream",
          "name": "stdout",
          "text": [
            "[[98.19277]]\n",
            "Severely Abnormal\n"
          ]
        }
      ],
      "source": [
        "ef_calculation(edv_prediction,esv_prediction)"
      ]
    },
    {
      "cell_type": "code",
      "execution_count": null,
      "metadata": {
        "colab": {
          "base_uri": "https://localhost:8080/",
          "height": 129
        },
        "id": "ai4c0lHf3hvx",
        "outputId": "919cf3b7-b5dd-4268-ee6b-591efc294bfc"
      },
      "outputs": [
        {
          "output_type": "display_data",
          "data": {
            "text/plain": [
              "<PIL.Image.Image image mode=RGB size=112x112>"
            ],
            "image/png": "[encoded data removed]"
          },
          "metadata": {}
        }
      ],
      "source": [
        "edv_img=\"/content/EchoVision Data/EDV/EDV_annotated/0X1002E8FBACD08477.jpg\"\n",
        "edv_img=cv2.imread(edv_img)\n",
        "cv2_imshow(edv_img)"
      ]
    },
    {
      "cell_type": "code",
      "execution_count": null,
      "metadata": {
        "colab": {
          "base_uri": "https://localhost:8080/",
          "height": 129
        },
        "id": "uaodsd0Y3rxw",
        "outputId": "9e122449-5cb1-46b2-d5d0-8b89f372fffb"
      },
      "outputs": [
        {
          "output_type": "display_data",
          "data": {
            "text/plain": [
              "<PIL.Image.Image image mode=RGB size=112x112>"
            ],
            "image/png": "[encoded data removed]"
          },
          "metadata": {}
        }
      ],
      "source": [
        "esv_img=\"/content/EchoVision Data/ESV/ESV_annotated/0X1002E8FBACD08477.jpg\"\n",
        "esv_img=cv2.imread(esv_img)\n",
        "cv2_imshow(esv_img)"
      ]
    },
    {
      "cell_type": "code",
      "execution_count": null,
      "metadata": {
        "id": "mkYSxmq03v2n"
      },
      "outputs": [],
      "source": [
        "esv_img=esv_img.reshape(1, 112, 112, 3)\n",
        "edv_img=edv_img.reshape(1, 112, 112, 3)"
      ]
    },
    {
      "cell_type": "code",
      "execution_count": null,
      "metadata": {
        "colab": {
          "base_uri": "https://localhost:8080/"
        },
        "id": "IYe-KxS13yxH",
        "outputId": "80703204-dbce-44de-8a14-50a368cc41eb"
      },
      "outputs": [
        {
          "output_type": "stream",
          "name": "stdout",
          "text": [
            "1/1 [==============================] - 0s 31ms/step\n",
            "1/1 [==============================] - 0s 32ms/step\n"
          ]
        }
      ],
      "source": [
        "edv_prediction=model_edv.predict(edv_img)\n",
        "esv_prediction=model_esv.predict(esv_img)"
      ]
    },
    {
      "cell_type": "code",
      "execution_count": null,
      "metadata": {
        "colab": {
          "base_uri": "https://localhost:8080/"
        },
        "id": "b23txqW64RJt",
        "outputId": "305f609e-5ff8-445f-adb7-6d27ac40090f"
      },
      "outputs": [
        {
          "output_type": "stream",
          "name": "stdout",
          "text": [
            "[[97.03747]]\n"
          ]
        },
        {
          "output_type": "execute_result",
          "data": {
            "text/plain": [
              "array([[153.76222]], dtype=float32)"
            ]
          },
          "metadata": {},
          "execution_count": 219
        }
      ],
      "source": [
        "print(edv_prediction)\n",
        "esv_prediction"
      ]
    },
    {
      "cell_type": "code",
      "execution_count": null,
      "metadata": {
        "colab": {
          "base_uri": "https://localhost:8080/"
        },
        "id": "DP3LTtc430ok",
        "outputId": "25354727-989a-4b30-c18b-1163c25bef7e"
      },
      "outputs": [
        {
          "output_type": "stream",
          "name": "stdout",
          "text": [
            "[[58.456547]]\n",
            "Normal\n"
          ]
        }
      ],
      "source": [
        "ef_calculation(edv_prediction,esv_prediction)"
      ]
    }
  ],
  "metadata": {
    "accelerator": "GPU",
    "colab": {
      "machine_shape": "hm",
      "provenance": [],
      "gpuType": "T4"
    },
    "kernelspec": {
      "display_name": "Python 3",
      "name": "python3"
    },
    "language_info": {
      "name": "python"
    }
  },
  "nbformat": 4,
  "nbformat_minor": 0
}